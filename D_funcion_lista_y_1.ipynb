{
  "nbformat": 4,
  "nbformat_minor": 0,
  "metadata": {
    "colab": {
      "provenance": [],
      "authorship_tag": "ABX9TyPZtIvy7+bs/g8wJ+okPGv6",
      "include_colab_link": true
    },
    "kernelspec": {
      "name": "python3",
      "display_name": "Python 3"
    },
    "language_info": {
      "name": "python"
    }
  },
  "cells": [
    {
      "cell_type": "markdown",
      "metadata": {
        "id": "view-in-github",
        "colab_type": "text"
      },
      "source": [
        "<a href=\"https://colab.research.google.com/github/tintenderete/TFM-Algoritmo-con-redes-evolutivas/blob/main/D_funcion_lista_y_1.ipynb\" target=\"_parent\"><img src=\"https://colab.research.google.com/assets/colab-badge.svg\" alt=\"Open In Colab\"/></a>"
      ]
    },
    {
      "cell_type": "markdown",
      "source": [
        "De momento la funcion para crear la lista sera el ratio de sharpe"
      ],
      "metadata": {
        "id": "uGVFaVyCSpQH"
      }
    },
    {
      "cell_type": "code",
      "source": [
        "import numpy as np"
      ],
      "metadata": {
        "id": "sPQThrW3SVZh"
      },
      "execution_count": 1,
      "outputs": []
    },
    {
      "cell_type": "code",
      "source": [
        "def ratio_sharpe(returns):\n",
        "  # tu matriz de rendimientos\n",
        "  #returns = np.random.rand(60, 35)\n",
        "\n",
        "  # tasa de rendimiento libre de riesgo\n",
        "  risk_free_rate = 0.01  # ajusta a tu valor apropiado\n",
        "\n",
        "  # calcular el rendimiento medio anualizado para cada activo\n",
        "  mean_returns = np.mean(returns, axis=0) * 252\n",
        "\n",
        "  # calcular la desviación estándar del rendimiento anualizado para cada activo\n",
        "  std_returns = np.std(returns, axis=0) * np.sqrt(252)\n",
        "\n",
        "  # calcular el ratio de Sharpe para cada activo\n",
        "  sharpe_ratios = (mean_returns - risk_free_rate) / std_returns\n",
        "\n",
        "  return sharpe_ratios\n",
        "\n",
        "\n",
        "def lista(returns):\n",
        "  return np.argsort(ratio_sharpe(returns))[::-1]"
      ],
      "metadata": {
        "id": "CTrUGkfgTDTE"
      },
      "execution_count": 24,
      "outputs": []
    },
    {
      "cell_type": "code",
      "source": [
        "# tu matriz de rendimientos\n",
        "returns = np.random.rand(60, 35)"
      ],
      "metadata": {
        "id": "0QSZZQN_ScU3"
      },
      "execution_count": 2,
      "outputs": []
    },
    {
      "cell_type": "code",
      "source": [
        "# tasa de rendimiento libre de riesgo\n",
        "risk_free_rate = 0.01  # ajusta a tu valor apropiado"
      ],
      "metadata": {
        "id": "BLCQc6UcSbN_"
      },
      "execution_count": 3,
      "outputs": []
    },
    {
      "cell_type": "code",
      "source": [
        "# calcular el rendimiento medio anualizado para cada activo\n",
        "mean_returns = np.mean(returns, axis=0) * 252"
      ],
      "metadata": {
        "id": "xj6WRmCfSaPX"
      },
      "execution_count": 4,
      "outputs": []
    },
    {
      "cell_type": "code",
      "source": [
        "# calcular la desviación estándar del rendimiento anualizado para cada activo\n",
        "std_returns = np.std(returns, axis=0) * np.sqrt(252)"
      ],
      "metadata": {
        "id": "TvjyrBLHSY-a"
      },
      "execution_count": 5,
      "outputs": []
    },
    {
      "cell_type": "code",
      "source": [
        "# calcular el ratio de Sharpe para cada activo\n",
        "sharpe_ratios = (mean_returns - risk_free_rate) / std_returns"
      ],
      "metadata": {
        "id": "gUTEoDmYSX07"
      },
      "execution_count": 6,
      "outputs": []
    },
    {
      "cell_type": "code",
      "source": [
        "sharpe_ratios"
      ],
      "metadata": {
        "colab": {
          "base_uri": "https://localhost:8080/"
        },
        "id": "aZZNjMxDSjau",
        "outputId": "3d09fdc5-0b53-4b27-983a-b8736af1d9c9"
      },
      "execution_count": 18,
      "outputs": [
        {
          "output_type": "execute_result",
          "data": {
            "text/plain": [
              "array([22.4607558 , 27.8879689 , 25.14417971, 24.1179762 , 33.46294005,\n",
              "       27.03430269, 30.31436246, 29.65396618, 27.57019332, 26.81106578,\n",
              "       22.41771676, 26.3380875 , 24.90908334, 30.49938934, 26.15294635,\n",
              "       27.04847143, 24.00334967, 25.13021983, 25.51081149, 28.47885823,\n",
              "       29.10220358, 30.34154203, 29.19367432, 31.05725711, 29.34887707,\n",
              "       27.26797652, 31.39978759, 26.14349604, 29.82541818, 26.35673063,\n",
              "       28.30487328, 24.33130871, 25.03657549, 31.79143868, 31.71678762])"
            ]
          },
          "metadata": {},
          "execution_count": 18
        }
      ]
    },
    {
      "cell_type": "code",
      "source": [
        "sharpe_ratios.shape"
      ],
      "metadata": {
        "colab": {
          "base_uri": "https://localhost:8080/"
        },
        "id": "PJpEi6COSncp",
        "outputId": "36f20a6c-26f4-4f7a-dff9-eeeb44a91b7b"
      },
      "execution_count": 10,
      "outputs": [
        {
          "output_type": "execute_result",
          "data": {
            "text/plain": [
              "(35,)"
            ]
          },
          "metadata": {},
          "execution_count": 10
        }
      ]
    },
    {
      "cell_type": "code",
      "source": [
        "ranking = np.argsort(sharpe_ratios)[::-1]\n",
        "ranking"
      ],
      "metadata": {
        "colab": {
          "base_uri": "https://localhost:8080/"
        },
        "id": "OQ9zsEtNSuzS",
        "outputId": "ac5b5714-1188-4e8c-c866-1a8efa87d4c8"
      },
      "execution_count": 13,
      "outputs": [
        {
          "output_type": "execute_result",
          "data": {
            "text/plain": [
              "array([ 4, 33, 34, 26, 23, 13, 21,  6, 28,  7, 24, 22, 20, 19, 30,  1,  8,\n",
              "       25, 15,  5,  9, 29, 11, 14, 27, 18,  2, 17, 32, 12, 31,  3, 16,  0,\n",
              "       10])"
            ]
          },
          "metadata": {},
          "execution_count": 13
        }
      ]
    },
    {
      "cell_type": "code",
      "source": [
        "np.argsort(ratio_sharpe(returns))[::-1]\n"
      ],
      "metadata": {
        "colab": {
          "base_uri": "https://localhost:8080/"
        },
        "id": "_knkJz3iTNoT",
        "outputId": "bbb28657-1771-4e13-c6a1-37f705ea8a4f"
      },
      "execution_count": 23,
      "outputs": [
        {
          "output_type": "execute_result",
          "data": {
            "text/plain": [
              "array([ 4, 33, 34, 26, 23, 13, 21,  6, 28,  7, 24, 22, 20, 19, 30,  1,  8,\n",
              "       25, 15,  5,  9, 29, 11, 14, 27, 18,  2, 17, 32, 12, 31,  3, 16,  0,\n",
              "       10])"
            ]
          },
          "metadata": {},
          "execution_count": 23
        }
      ]
    }
  ]
}