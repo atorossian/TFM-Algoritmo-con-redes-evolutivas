{
  "nbformat": 4,
  "nbformat_minor": 0,
  "metadata": {
    "colab": {
      "provenance": [],
      "toc_visible": true,
      "authorship_tag": "ABX9TyMQH1Bup56OlUPJ/PP8c1K4",
      "include_colab_link": true
    },
    "kernelspec": {
      "name": "python3",
      "display_name": "Python 3"
    },
    "language_info": {
      "name": "python"
    }
  },
  "cells": [
    {
      "cell_type": "markdown",
      "metadata": {
        "id": "view-in-github",
        "colab_type": "text"
      },
      "source": [
        "<a href=\"https://colab.research.google.com/github/tintenderete/TFM/blob/main/individuos2.ipynb\" target=\"_parent\"><img src=\"https://colab.research.google.com/assets/colab-badge.svg\" alt=\"Open In Colab\"/></a>"
      ]
    },
    {
      "cell_type": "markdown",
      "source": [
        "# class Creacion_inidividuos():"
      ],
      "metadata": {
        "id": "MKTtYiMEmSAN"
      }
    },
    {
      "cell_type": "code",
      "source": [
        "import numpy as np\n",
        "import pandas as pd\n",
        "from tensorflow.keras.layers import ConvLSTM1D, Dense, Conv2D, LSTM, GRU, Reshape, ConvLSTM2D, Conv3D, TimeDistributed, Flatten\n",
        "import keras\n",
        "import tensorflow as tf\n",
        "class Creacion_inidividuos():\n",
        "\n",
        "  def __init__(self):\n",
        "    self.a = 0\n",
        "\n",
        "\n",
        "  def get_layer(self, layer_type, info):\n",
        "    if  layer_type == 0:\n",
        "      return               (     Dense(                            activation=info[0],   units=info[1] )                                          ,-1)   # xD\n",
        "    elif layer_type == 1:\n",
        "      return                (     TimeDistributed(Dense(            activation=info[0],   units=info[1] ))                                        , 4)  # Menos de 3 no funciona\n",
        "    elif layer_type == 2:\n",
        "      return               (     ConvLSTM2D(                       activation=info[0],   filters=info[1],   kernel_size=info[2],  padding='same') ,5)# 5D\n",
        "    elif layer_type == 3:\n",
        "      return                (    Conv3D(                           activation=info[0],   filters=info[1],   kernel_size=info[2],  padding='same')                  ,5)# 5D\n",
        "    elif layer_type == 4:\n",
        "      return                (     ConvLSTM1D(                       activation=info[0],   filters=info[1],   kernel_size=info[2] ,  padding='same')               ,4)# 4D\n",
        "    elif layer_type == 5:\n",
        "      return                 (    Conv2D(                           activation=info[0],   filters=info[1],   kernel_size=info[2] ,  padding='same')              ,4)# 4D \n",
        "    elif layer_type == 6:\n",
        "      return                 (    LSTM(                                                   units=info[1])                                         ,3) # 3D\n",
        "    elif layer_type == 7:\n",
        "      return                  (   GRU(                                                    units=info[1])                                          ,3)# 3D\n",
        "    \n",
        "\n",
        "crear = Creacion_inidividuos()"
      ],
      "metadata": {
        "id": "iQzFSzOmJepW"
      },
      "execution_count": 2,
      "outputs": []
    },
    {
      "cell_type": "markdown",
      "source": [
        "# AUMENTAR Y DISMINUIR DIMENSIONES"
      ],
      "metadata": {
        "id": "xiEVqehiTqMn"
      }
    },
    {
      "cell_type": "code",
      "source": [
        "def aumenta_dimensions(model):\n",
        "  return tuple( tf.expand_dims(model, axis=-1).shape[1:].as_list() )"
      ],
      "metadata": {
        "id": "1kf7v7DjVZUl"
      },
      "execution_count": 2,
      "outputs": []
    },
    {
      "cell_type": "code",
      "source": [
        "def reduce_dimensions(shape):\n",
        "  d = list(shape[1:])\n",
        "  new_shape = d[:-2] + [d[-2] * d[-1]]\n",
        "  return tuple(new_shape)"
      ],
      "metadata": {
        "id": "QIPolVbgMvbO"
      },
      "execution_count": 3,
      "outputs": []
    },
    {
      "cell_type": "markdown",
      "source": [
        "# TEST CREACION"
      ],
      "metadata": {
        "id": "ryQdipwel9ir"
      }
    },
    {
      "cell_type": "code",
      "source": [
        "info =  [\"tanh\",3,2]"
      ],
      "metadata": {
        "id": "Rack9Uw1mBpC"
      },
      "execution_count": 10,
      "outputs": []
    },
    {
      "cell_type": "code",
      "source": [
        "x = np.random.rand(100, 60, 35, 3)\n",
        "y = np.random.rand(100, 35)"
      ],
      "metadata": {
        "id": "TimSBp06mcwb"
      },
      "execution_count": 8,
      "outputs": []
    },
    {
      "cell_type": "code",
      "source": [
        "# pongo -1 para que todos los individuos no tengan el mismo numero de capas, si sale -1 se corta la cadena\n",
        "individuos = np.random.randint(-1, 8, (1000, 10))\n",
        "#individuos = np.random.randint(0, 8, (1, 10))"
      ],
      "metadata": {
        "id": "qSOUWhP8o_2N"
      },
      "execution_count": 68,
      "outputs": []
    },
    {
      "cell_type": "code",
      "source": [
        "ind = individuos[0]\n",
        "ind"
      ],
      "metadata": {
        "colab": {
          "base_uri": "https://localhost:8080/"
        },
        "id": "RHlylE4hvT-6",
        "outputId": "19766100-c8cb-4799-de6f-1a61f201307e"
      },
      "execution_count": 69,
      "outputs": [
        {
          "output_type": "execute_result",
          "data": {
            "text/plain": [
              "array([ 2, -1,  0,  4,  1, -1,  6,  4,  0, -1])"
            ]
          },
          "metadata": {},
          "execution_count": 69
        }
      ]
    },
    {
      "cell_type": "code",
      "source": [
        "#individuos[0][3] = -1\n",
        "#individuos[0]"
      ],
      "metadata": {
        "colab": {
          "base_uri": "https://localhost:8080/"
        },
        "id": "ItYsY-r7PIyH",
        "outputId": "6283b8ac-3bef-49bc-b82e-2283a627414b"
      },
      "execution_count": 31,
      "outputs": [
        {
          "output_type": "execute_result",
          "data": {
            "text/plain": [
              "array([ 0,  7,  1, -1,  5,  1,  0,  1,  2,  0])"
            ]
          },
          "metadata": {},
          "execution_count": 31
        }
      ]
    },
    {
      "cell_type": "code",
      "source": [
        "debug = False\n",
        "estadisticas = True\n",
        "model_parametros_entrenables_totales = []\n",
        "model_layers_totales = []\n",
        "\n",
        "for ind in individuos:\n",
        "\n",
        "  inputs = keras.Input(shape=(x.shape[1:]))\n",
        "  m = inputs\n",
        "\n",
        "  for gen in ind:\n",
        "    #gen = ind[count]\n",
        "    #count += 1\n",
        "\n",
        "    if gen != -1:\n",
        "\n",
        "      #print(\"count: \" + str(count) + \" gen: \" + str(gen))\n",
        "      new_layer , dim_layer = crear.get_layer(gen, info)\n",
        "\n",
        "      current_m_dim = len(m.shape) \n",
        "      new_layer_dim = current_m_dim if dim_layer == -1 else dim_layer \n",
        "      diferencia = new_layer_dim - current_m_dim\n",
        "\n",
        "      if debug :\n",
        "        print(\"---------------------\")\n",
        "        print(\"current_m_dim: \" +  str(m.shape))\n",
        "        print(\"new_layer_name: \" + str(new_layer.name) + \" dim: \" + str(diferencia))\n",
        "      \n",
        "      \n",
        "\n",
        "      while diferencia != 0:\n",
        "        \n",
        "        if diferencia > 0:\n",
        "          #m = Reshape( tuple( tf.expand_dims(m, axis=-1).shape[1:].as_list() ) ) (m)\n",
        "          new_d = aumenta_dimensions(m)\n",
        "          m = Reshape(new_d)(m)\n",
        "        elif diferencia < 0:\n",
        "          new_d = reduce_dimensions(m.shape)\n",
        "          m = Reshape(new_d)(m)\n",
        "          \n",
        "        \n",
        "        current_m_dim = len(m.shape) \n",
        "        new_layer_dim = current_m_dim if dim_layer == -1 else dim_layer \n",
        "        diferencia = new_layer_dim - current_m_dim\n",
        "\n",
        "        if debug :\n",
        "          print(\"fixed_new_m_dim: \" +  str(m.shape))\n",
        "\n",
        "      m = new_layer(m)\n",
        "\n",
        "      if debug:\n",
        "        print(\"new_m_dim: \" +  str(m.shape))\n",
        "\n",
        "    else:\n",
        "      break\n",
        "\n",
        "\n",
        "  m = Flatten()(m)\n",
        "  outputs = Dense(y.shape[1])(m)\n",
        "  model = keras.Model(inputs=inputs, outputs=outputs)\n",
        "  model.compile(\n",
        "    loss='mse',\n",
        "    optimizer=keras.optimizers.Adam(),\n",
        "    metrics=[\"accuracy\"],\n",
        "  )\n",
        "\n",
        "  # ESTADISTICAS\n",
        "  if estadisticas:\n",
        "    total_params = sum([np.prod(v.get_shape()) for v in model.trainable_weights])\n",
        "    non_trainable_params = sum([np.prod(v.get_shape()) for v in model.non_trainable_weights])\n",
        "    trainable_params = total_params - non_trainable_params\n",
        "\n",
        "    model_parametros_entrenables_totales.append(trainable_params)\n",
        "\n",
        "    if debug:\n",
        "      print(\"Total params: \", total_params)\n",
        "      print(\"Trainable params: \", trainable_params)\n",
        "      print(\"Non-trainable params: \", non_trainable_params)\n",
        "\n",
        "    # Calcular el número de capas\n",
        "    num_layers = len(model.layers)\n",
        "\n",
        "    model_layers_totales.append(num_layers)\n",
        "\n",
        "    if debug:\n",
        "      print(\"Number of layers: \", num_layers)\n"
      ],
      "metadata": {
        "id": "g7JLqGQtPjKW"
      },
      "execution_count": 70,
      "outputs": []
    },
    {
      "cell_type": "code",
      "source": [
        "len(model_parametros_entrenables_totales) , len(model_layers_totales)"
      ],
      "metadata": {
        "colab": {
          "base_uri": "https://localhost:8080/"
        },
        "id": "GCPsM2hmP5Xe",
        "outputId": "7a8718eb-6e2a-4899-814c-53c07e5d38e3"
      },
      "execution_count": 71,
      "outputs": [
        {
          "output_type": "execute_result",
          "data": {
            "text/plain": [
              "(1000, 1000)"
            ]
          },
          "metadata": {},
          "execution_count": 71
        }
      ]
    },
    {
      "cell_type": "markdown",
      "source": [
        "# analisis parametros y layers de los modelso creados"
      ],
      "metadata": {
        "id": "HyWC8KUnXCon"
      }
    },
    {
      "cell_type": "code",
      "source": [
        "import matplotlib.pyplot as plt"
      ],
      "metadata": {
        "id": "T8Tmeo_UP_HC"
      },
      "execution_count": 72,
      "outputs": []
    },
    {
      "cell_type": "code",
      "source": [
        "plt.hist(model_parametros_entrenables_totales)"
      ],
      "metadata": {
        "colab": {
          "base_uri": "https://localhost:8080/",
          "height": 521
        },
        "id": "CYK4tBrcQGuc",
        "outputId": "b7831518-4588-46c5-d1a0-f863d8ab15c5"
      },
      "execution_count": 73,
      "outputs": [
        {
          "output_type": "execute_result",
          "data": {
            "text/plain": [
              "(array([810.,   0.,   0., 159.,   0.,   0.,   0.,   0.,   0.,  31.]),\n",
              " array([3.800000e+02, 6.650930e+04, 1.326386e+05, 1.987679e+05,\n",
              "        2.648972e+05, 3.310265e+05, 3.971558e+05, 4.632851e+05,\n",
              "        5.294144e+05, 5.955437e+05, 6.616730e+05]),\n",
              " <BarContainer object of 10 artists>)"
            ]
          },
          "metadata": {},
          "execution_count": 73
        },
        {
          "output_type": "display_data",
          "data": {
            "text/plain": [
              "<Figure size 640x480 with 1 Axes>"
            ],
            "image/png": "[encoded data removed]"
          },
          "metadata": {}
        }
      ]
    },
    {
      "cell_type": "code",
      "source": [
        "plt.hist(model_layers_totales)"
      ],
      "metadata": {
        "colab": {
          "base_uri": "https://localhost:8080/",
          "height": 485
        },
        "id": "yeVhA8yTQWSo",
        "outputId": "a1fca9fb-9aa0-41c9-b166-415032a5a1c1"
      },
      "execution_count": 74,
      "outputs": [
        {
          "output_type": "execute_result",
          "data": {
            "text/plain": [
              "(array([210., 116.,  80., 103.,  52., 100., 158., 105.,  63.,  13.]),\n",
              " array([ 3. ,  5.6,  8.2, 10.8, 13.4, 16. , 18.6, 21.2, 23.8, 26.4, 29. ]),\n",
              " <BarContainer object of 10 artists>)"
            ]
          },
          "metadata": {},
          "execution_count": 74
        },
        {
          "output_type": "display_data",
          "data": {
            "text/plain": [
              "<Figure size 640x480 with 1 Axes>"
            ],
            "image/png": "[encoded data removed]"
          },
          "metadata": {}
        }
      ]
    },
    {
      "cell_type": "code",
      "source": [
        "\"\"\"\n",
        "tengo 1000 individuos con 10 capas cada uno deberia ver:\n",
        "\"\"\"\n",
        "1000 * 10 # capas "
      ],
      "metadata": {
        "colab": {
          "base_uri": "https://localhost:8080/"
        },
        "id": "9BqSLn2OWHwF",
        "outputId": "3f724ba3-cadb-404c-e88c-1b5ea654089f"
      },
      "execution_count": 75,
      "outputs": [
        {
          "output_type": "execute_result",
          "data": {
            "text/plain": [
              "10000"
            ]
          },
          "metadata": {},
          "execution_count": 75
        }
      ]
    },
    {
      "cell_type": "code",
      "source": [
        "# cantidad de layers entre todos los modelos\n",
        "sum(model_layers_totales)"
      ],
      "metadata": {
        "colab": {
          "base_uri": "https://localhost:8080/"
        },
        "id": "_oIzLihYWaS7",
        "outputId": "ac63042c-de25-4488-edf2-00416e005c77"
      },
      "execution_count": 78,
      "outputs": [
        {
          "output_type": "execute_result",
          "data": {
            "text/plain": [
              "13534"
            ]
          },
          "metadata": {},
          "execution_count": 78
        }
      ]
    },
    {
      "cell_type": "code",
      "source": [
        "# % capas redimension\n",
        "(13534 * 100) / 10000 - 100"
      ],
      "metadata": {
        "colab": {
          "base_uri": "https://localhost:8080/"
        },
        "id": "VXS8Jb1gWkCb",
        "outputId": "9130cbdb-b119-41fb-9935-9b72f2f48ec1"
      },
      "execution_count": 84,
      "outputs": [
        {
          "output_type": "execute_result",
          "data": {
            "text/plain": [
              "35.34"
            ]
          },
          "metadata": {},
          "execution_count": 84
        }
      ]
    },
    {
      "cell_type": "markdown",
      "source": [
        "# INDIVIDUOS 3"
      ],
      "metadata": {
        "id": "oT-b4YTQZ-ev"
      }
    },
    {
      "cell_type": "code",
      "source": [
        "\"\"\"\n",
        "\n",
        "¿ que pasos podria dar ? \n",
        "\n",
        "  - mejorar aquitectura: \n",
        "      - implementacion de capas mas robusta \n",
        "      - dejar todo en una misma clase/s\n",
        "      \n",
        "\n",
        "  - añadir complejidad en genes para parametros de capa aleatorios\n",
        "\n",
        "\"\"\""
      ],
      "metadata": {
        "id": "3R3bNzZ9aCA_"
      },
      "execution_count": null,
      "outputs": []
    },
    {
      "cell_type": "markdown",
      "source": [
        "# test arquitectura agregado y acceso de capas"
      ],
      "metadata": {
        "id": "TTGsZYJj73wJ"
      }
    },
    {
      "cell_type": "markdown",
      "source": [
        "##registro de layers"
      ],
      "metadata": {
        "id": "zVQKuHXz8tdS"
      }
    },
    {
      "cell_type": "code",
      "source": [
        "layers = []"
      ],
      "metadata": {
        "id": "jftxW_XC3F1L"
      },
      "execution_count": 94,
      "outputs": []
    },
    {
      "cell_type": "code",
      "source": [
        "layers.append( lambda info : Conv2D(  activation=info[0], filters=info[1],  kernel_size=info[2],  padding='same') )"
      ],
      "metadata": {
        "id": "QD30gvLw7ZC2"
      },
      "execution_count": 95,
      "outputs": []
    },
    {
      "cell_type": "code",
      "source": [
        "layers.append( lambda info : Dense(   activation=info[0], units=info[1] ) )"
      ],
      "metadata": {
        "id": "K355FcGl6x3_"
      },
      "execution_count": 96,
      "outputs": []
    },
    {
      "cell_type": "markdown",
      "source": [
        "## crear modelo"
      ],
      "metadata": {
        "id": "sSMUZsoc8vkJ"
      }
    },
    {
      "cell_type": "code",
      "source": [
        "inputs = keras.Input(shape=(x.shape[1:]))\n",
        "m = inputs"
      ],
      "metadata": {
        "id": "H8rFGlKZ3USn"
      },
      "execution_count": 97,
      "outputs": []
    },
    {
      "cell_type": "code",
      "source": [
        "info = ('tanh', 33, 3)"
      ],
      "metadata": {
        "id": "chpajn748ZAH"
      },
      "execution_count": 98,
      "outputs": []
    },
    {
      "cell_type": "code",
      "source": [
        "m = layers[0](info)(m)\n",
        "m.shape"
      ],
      "metadata": {
        "colab": {
          "base_uri": "https://localhost:8080/"
        },
        "id": "UXxlgZjj3Y6b",
        "outputId": "c59e0779-2bab-4d71-b478-f8b363eb5112"
      },
      "execution_count": 99,
      "outputs": [
        {
          "output_type": "execute_result",
          "data": {
            "text/plain": [
              "TensorShape([None, 60, 35, 33])"
            ]
          },
          "metadata": {},
          "execution_count": 99
        }
      ]
    },
    {
      "cell_type": "code",
      "source": [
        "info = ('tanh', 66, 3)"
      ],
      "metadata": {
        "id": "tiSM5TUX5GIM"
      },
      "execution_count": 100,
      "outputs": []
    },
    {
      "cell_type": "code",
      "source": [
        "m = layers[1](info)(m)\n",
        "m.shape"
      ],
      "metadata": {
        "colab": {
          "base_uri": "https://localhost:8080/"
        },
        "id": "cNN5_Q4F5GWc",
        "outputId": "71fe5b7e-19cc-433f-ead4-9f3bafdefff5"
      },
      "execution_count": 101,
      "outputs": [
        {
          "output_type": "execute_result",
          "data": {
            "text/plain": [
              "TensorShape([None, 60, 35, 66])"
            ]
          },
          "metadata": {},
          "execution_count": 101
        }
      ]
    },
    {
      "cell_type": "code",
      "source": [
        "m = Flatten()(m)\n",
        "outputs = Dense(y.shape[1])(m)\n",
        "model = keras.Model(inputs=inputs, outputs=outputs)\n",
        "model.compile(\n",
        "  loss='mse',\n",
        "  optimizer=keras.optimizers.Adam(),\n",
        "  metrics=[\"accuracy\"],\n",
        ")\n",
        "model.summary()"
      ],
      "metadata": {
        "colab": {
          "base_uri": "https://localhost:8080/"
        },
        "id": "p-2e3TAH3ziU",
        "outputId": "125395f6-81dc-4526-80d8-882833cf4720"
      },
      "execution_count": 102,
      "outputs": [
        {
          "output_type": "stream",
          "name": "stdout",
          "text": [
            "Model: \"model_3\"\n",
            "_________________________________________________________________\n",
            " Layer (type)                Output Shape              Param #   \n",
            "=================================================================\n",
            " input_13 (InputLayer)       [(None, 60, 35, 3)]       0         \n",
            "                                                                 \n",
            " conv2d_1 (Conv2D)           (None, 60, 35, 33)        924       \n",
            "                                                                 \n",
            " dense_17 (Dense)            (None, 60, 35, 66)        2244      \n",
            "                                                                 \n",
            " flatten_3 (Flatten)         (None, 138600)            0         \n",
            "                                                                 \n",
            " dense_18 (Dense)            (None, 35)                4851035   \n",
            "                                                                 \n",
            "=================================================================\n",
            "Total params: 4,854,203\n",
            "Trainable params: 4,854,203\n",
            "Non-trainable params: 0\n",
            "_________________________________________________________________\n"
          ]
        }
      ]
    },
    {
      "cell_type": "markdown",
      "source": [
        "# test creacion individuos con genes mas complejos, no solo tipo de capa"
      ],
      "metadata": {
        "id": "YzlZbcJ19LQ2"
      }
    },
    {
      "cell_type": "code",
      "source": [
        "test_arr = np.array([1,2,3,1,2,3,1,2,3])\n",
        "test_arr"
      ],
      "metadata": {
        "colab": {
          "base_uri": "https://localhost:8080/"
        },
        "id": "R_UOSrh-9lbw",
        "outputId": "498fd138-cbcd-4f33-ce49-56df0bcf7244"
      },
      "execution_count": 112,
      "outputs": [
        {
          "output_type": "execute_result",
          "data": {
            "text/plain": [
              "array([1, 2, 3, 1, 2, 3, 1, 2, 3])"
            ]
          },
          "metadata": {},
          "execution_count": 112
        }
      ]
    },
    {
      "cell_type": "code",
      "source": [
        "test_arr[0::3]"
      ],
      "metadata": {
        "colab": {
          "base_uri": "https://localhost:8080/"
        },
        "id": "kdCKEhps-4Td",
        "outputId": "10bd1044-dbcf-4100-c4bb-3b264a7d9e85"
      },
      "execution_count": 121,
      "outputs": [
        {
          "output_type": "execute_result",
          "data": {
            "text/plain": [
              "array([1, 1, 1])"
            ]
          },
          "metadata": {},
          "execution_count": 121
        }
      ]
    },
    {
      "cell_type": "code",
      "source": [
        "test_arr[1::3]"
      ],
      "metadata": {
        "colab": {
          "base_uri": "https://localhost:8080/"
        },
        "id": "Gyvpyqnw-T2l",
        "outputId": "ad7f250e-e15a-4182-9cf0-e27dde6621bd"
      },
      "execution_count": 119,
      "outputs": [
        {
          "output_type": "execute_result",
          "data": {
            "text/plain": [
              "array([2, 2, 2])"
            ]
          },
          "metadata": {},
          "execution_count": 119
        }
      ]
    },
    {
      "cell_type": "code",
      "source": [
        "test_arr[2::3]"
      ],
      "metadata": {
        "colab": {
          "base_uri": "https://localhost:8080/"
        },
        "id": "iWfPUh2p-2Qr",
        "outputId": "70329c45-ea38-433b-a10a-9d9e18c06929"
      },
      "execution_count": 120,
      "outputs": [
        {
          "output_type": "execute_result",
          "data": {
            "text/plain": [
              "array([3, 3, 3])"
            ]
          },
          "metadata": {},
          "execution_count": 120
        }
      ]
    },
    {
      "cell_type": "markdown",
      "source": [
        "## creacion genes aleatorios"
      ],
      "metadata": {
        "id": "UUSgMwiTA3fK"
      }
    },
    {
      "cell_type": "code",
      "source": [
        "# GEN ( tipo layer , units/filters)"
      ],
      "metadata": {
        "id": "mTlJOTVQ--6I"
      },
      "execution_count": null,
      "outputs": []
    },
    {
      "cell_type": "code",
      "source": [
        "len_gen = 2\n",
        "num_genes = 4 \n",
        "size_cadena = len_gen * num_genes\n",
        "num_individuos = 2\n",
        "\n",
        "rango_minimo_layers = 0\n",
        "rango_maximo_layers = 5\n",
        "\n",
        "rango_minimo_units = 1\n",
        "rango_maximo_units = 100"
      ],
      "metadata": {
        "id": "ac1-D-_0_b14"
      },
      "execution_count": 137,
      "outputs": []
    },
    {
      "cell_type": "code",
      "source": [
        "layers_random = np.random.randint(rango_minimo_layers, rango_maximo_layers, (num_individuos, num_genes))\n",
        "layers_random"
      ],
      "metadata": {
        "colab": {
          "base_uri": "https://localhost:8080/"
        },
        "id": "QCNonUWL_Jex",
        "outputId": "b9dcd92a-3361-44df-cd6f-5f70eb2cc149"
      },
      "execution_count": 142,
      "outputs": [
        {
          "output_type": "execute_result",
          "data": {
            "text/plain": [
              "array([[2, 3, 1, 0],\n",
              "       [2, 4, 1, 0]])"
            ]
          },
          "metadata": {},
          "execution_count": 142
        }
      ]
    },
    {
      "cell_type": "code",
      "source": [
        "units_random = np.random.randint(rango_minimo_units, rango_maximo_units, (num_individuos, num_genes))\n",
        "units_random"
      ],
      "metadata": {
        "colab": {
          "base_uri": "https://localhost:8080/"
        },
        "id": "Ee7tsvNaAA7H",
        "outputId": "41d2d678-f784-44ae-df1e-396a6c3b312d"
      },
      "execution_count": 143,
      "outputs": [
        {
          "output_type": "execute_result",
          "data": {
            "text/plain": [
              "array([[94, 47, 75, 25],\n",
              "       [57, 92, 96, 60]])"
            ]
          },
          "metadata": {},
          "execution_count": 143
        }
      ]
    },
    {
      "cell_type": "code",
      "source": [
        "individuos = np.zeros((num_individuos, size_cadena), dtype=int)\n",
        "individuos"
      ],
      "metadata": {
        "colab": {
          "base_uri": "https://localhost:8080/"
        },
        "id": "4zh5N8v_AYlj",
        "outputId": "3de57229-efc6-4ff1-cb27-c8ee287273f4"
      },
      "execution_count": 162,
      "outputs": [
        {
          "output_type": "execute_result",
          "data": {
            "text/plain": [
              "array([[0, 0, 0, 0, 0, 0, 0, 0],\n",
              "       [0, 0, 0, 0, 0, 0, 0, 0]])"
            ]
          },
          "metadata": {},
          "execution_count": 162
        }
      ]
    },
    {
      "cell_type": "markdown",
      "source": [
        "## asignacion de genes aleatorios"
      ],
      "metadata": {
        "id": "kpOLjPcHA9F2"
      }
    },
    {
      "cell_type": "code",
      "source": [
        "individuos[:,::len_gen] = layers_random"
      ],
      "metadata": {
        "id": "oAzdW2IBA15p"
      },
      "execution_count": 163,
      "outputs": []
    },
    {
      "cell_type": "code",
      "source": [
        "individuos[:,1::len_gen] = units_random"
      ],
      "metadata": {
        "id": "6DNubqGPEpdD"
      },
      "execution_count": 164,
      "outputs": []
    },
    {
      "cell_type": "code",
      "source": [
        "individuos"
      ],
      "metadata": {
        "colab": {
          "base_uri": "https://localhost:8080/"
        },
        "id": "cf0ATXoWEvrN",
        "outputId": "6b38ed99-fbcb-4a61-e6ec-8cdeeacdde82"
      },
      "execution_count": 165,
      "outputs": [
        {
          "output_type": "execute_result",
          "data": {
            "text/plain": [
              "array([[ 2, 94,  3, 47,  1, 75,  0, 25],\n",
              "       [ 2, 57,  4, 92,  1, 96,  0, 60]])"
            ]
          },
          "metadata": {},
          "execution_count": 165
        }
      ]
    }
  ]
}