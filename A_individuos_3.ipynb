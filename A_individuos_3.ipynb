{
  "nbformat": 4,
  "nbformat_minor": 0,
  "metadata": {
    "colab": {
      "provenance": [],
      "toc_visible": true,
      "authorship_tag": "ABX9TyP5+6OIqYdJrEkwMSmlv2tg",
      "include_colab_link": true
    },
    "kernelspec": {
      "name": "python3",
      "display_name": "Python 3"
    },
    "language_info": {
      "name": "python"
    }
  },
  "cells": [
    {
      "cell_type": "markdown",
      "metadata": {
        "id": "view-in-github",
        "colab_type": "text"
      },
      "source": [
        "<a href=\"https://colab.research.google.com/github/tintenderete/TFM-Algoritmo-con-redes-evolutivas/blob/main/A_individuos_3.ipynb\" target=\"_parent\"><img src=\"https://colab.research.google.com/assets/colab-badge.svg\" alt=\"Open In Colab\"/></a>"
      ]
    },
    {
      "cell_type": "code",
      "source": [
        "import numpy as np\n",
        "import pandas as pd\n",
        "from tensorflow.keras.layers import ConvLSTM1D, Dense, Conv2D, LSTM, GRU, Reshape, ConvLSTM2D, Conv3D, TimeDistributed, Flatten\n",
        "import keras\n",
        "import tensorflow as tf"
      ],
      "metadata": {
        "id": "WxzzupBaBiNn"
      },
      "execution_count": 198,
      "outputs": []
    },
    {
      "cell_type": "code",
      "source": [
        "import matplotlib.pyplot as plt"
      ],
      "metadata": {
        "id": "QL-PqSiabUY5"
      },
      "execution_count": 199,
      "outputs": []
    },
    {
      "cell_type": "markdown",
      "source": [
        "# vars"
      ],
      "metadata": {
        "id": "JrH2Q92gMhCT"
      }
    },
    {
      "cell_type": "code",
      "source": [
        "x = np.random.rand(5, 60, 35, 3)\n",
        "y = np.random.rand(5, 35)"
      ],
      "metadata": {
        "id": "Ezln3AxkPHEm"
      },
      "execution_count": 200,
      "outputs": []
    },
    {
      "cell_type": "code",
      "source": [
        "layers = []\n",
        "dims = []\n",
        "activations = []\n",
        "\n",
        "individuos = []\n",
        "models = []\n",
        "\n",
        "# GEN mas largo => tipo_layer,  activation=info[0],   filters=info[1],      kernel_size=info[2]\n",
        "len_gen = 4\n",
        "num_genes = 5 \n",
        "size_cadena = len_gen * num_genes\n",
        "num_individuos = 50\n",
        "\n",
        "layers_random = []\n",
        "activations_random = [] \n",
        "units_random = []\n",
        "kernels_size_random = []\n",
        "\n",
        "rango_minimo_units = 1\n",
        "rango_maximo_units = 100\n",
        "\n",
        "rango_minimo_kernel_size = 1\n",
        "rango_maximo_kernel_size = 4"
      ],
      "metadata": {
        "id": "9eQUmb_3MgiB"
      },
      "execution_count": 201,
      "outputs": []
    },
    {
      "cell_type": "markdown",
      "source": [
        "# layers"
      ],
      "metadata": {
        "id": "TExOJep9MJoQ"
      }
    },
    {
      "cell_type": "code",
      "source": [
        "\n",
        "layers.append( lambda info : Dense(                     activation=activations[info[0]],   units=info[1] ) )\n",
        "dims.append(-1)\n",
        "\n",
        "layers.append( lambda info : TimeDistributed(Dense(     activation=activations[info[0]],   units=info[1] ) ) )\n",
        "dims.append(4)\n",
        "\n",
        "layers.append( lambda info : ConvLSTM2D(                activation=activations[info[0]],   filters=info[1],      kernel_size=(info[2],info[2]),                 padding='same'))\n",
        "dims.append(5)\n",
        "\n",
        "layers.append( lambda info : ConvLSTM1D(                activation=activations[info[0]],   filters=info[1],      kernel_size=(info[2],),                        padding='same'))\n",
        "dims.append(4)\n",
        "\n",
        "layers.append( lambda info : Conv3D(                    activation=activations[info[0]],   filters=info[1],      kernel_size=(info[2],info[2],info[2] ),        padding='same'))\n",
        "dims.append(5)\n",
        "\n",
        "layers.append( lambda info : Conv2D(                    activation=activations[info[0]],    filters=info[1],      kernel_size=(info[2],info[2]),                 padding='same'))\n",
        "dims.append(4)\n",
        "\n",
        "layers.append( lambda info : LSTM(                                                          units=info[1]))\n",
        "dims.append(3)\n",
        "\n",
        "layers.append( lambda info : GRU(                                                           units=info[1]))\n",
        "dims.append(3)"
      ],
      "metadata": {
        "id": "HAos4-5bAR6F"
      },
      "execution_count": 202,
      "outputs": []
    },
    {
      "cell_type": "markdown",
      "source": [
        "# activations"
      ],
      "metadata": {
        "id": "EKal-HTOUeqT"
      }
    },
    {
      "cell_type": "code",
      "source": [
        "activations.append('tanh')"
      ],
      "metadata": {
        "id": "HSyObCAJUgqn"
      },
      "execution_count": 203,
      "outputs": []
    },
    {
      "cell_type": "markdown",
      "source": [
        "#auxs funcs"
      ],
      "metadata": {
        "id": "xbG7RN3NMLSe"
      }
    },
    {
      "cell_type": "code",
      "source": [
        "def aumenta_dimensions(model):\n",
        "  return tuple( tf.expand_dims(model, axis=-1).shape[1:].as_list() )\n",
        "\n",
        "def reduce_dimensions(shape):\n",
        "  d = list(shape[1:])\n",
        "  new_shape = d[:-2] + [d[-2] * d[-1]]\n",
        "  return tuple(new_shape)"
      ],
      "metadata": {
        "id": "ECpcKvYFMNhe"
      },
      "execution_count": 204,
      "outputs": []
    },
    {
      "cell_type": "markdown",
      "source": [
        "# Individuos"
      ],
      "metadata": {
        "id": "eUuqS65cJTZk"
      }
    },
    {
      "cell_type": "code",
      "source": [
        "layers_random = np.random.randint(-1, len(layers), (num_individuos, num_genes))\n",
        "activations_random = np.zeros((num_individuos, num_genes), dtype=int)\n",
        "units_random = np.random.randint(rango_minimo_units, rango_maximo_units, (num_individuos, num_genes))\n",
        "kernels_size_random = np.random.randint(rango_minimo_kernel_size, rango_maximo_kernel_size, (num_individuos, num_genes))\n",
        "\n",
        "individuos = np.zeros((num_individuos, size_cadena), dtype=int)\n",
        "individuos[:,::len_gen] = layers_random\n",
        "individuos[:,1::len_gen] = activations_random\n",
        "individuos[:,2::len_gen] = units_random\n",
        "individuos[:,3::len_gen] = kernels_size_random"
      ],
      "metadata": {
        "id": "Wiy22_a5BoIM"
      },
      "execution_count": 205,
      "outputs": []
    },
    {
      "cell_type": "markdown",
      "source": [
        "## Visualizacion individuo"
      ],
      "metadata": {
        "id": "MTE-FjHJc6vh"
      }
    },
    {
      "cell_type": "code",
      "source": [
        "individuo_ejemplo = [0,3,4,5,7,87,98,23,2,3,4,5,]"
      ],
      "metadata": {
        "id": "oCktzonlbr7n"
      },
      "execution_count": 206,
      "outputs": []
    },
    {
      "cell_type": "code",
      "source": [
        "for i in range(0, len(individuo_ejemplo), len_gen):\n",
        "  print(individuo_ejemplo[i:i+len_gen])"
      ],
      "metadata": {
        "colab": {
          "base_uri": "https://localhost:8080/"
        },
        "id": "xSgzGH4BcrBK",
        "outputId": "b453383e-d99e-4c2d-e5d8-6adf58018833"
      },
      "execution_count": 207,
      "outputs": [
        {
          "output_type": "stream",
          "name": "stdout",
          "text": [
            "[0, 3, 4, 5]\n",
            "[7, 87, 98, 23]\n",
            "[2, 3, 4, 5]\n"
          ]
        }
      ]
    },
    {
      "cell_type": "code",
      "source": [
        "\"\"\"\n",
        "cada gen contiene la informacion necesaria para generar cada layer\n",
        "\n",
        "[0, 3, 4, 5]\n",
        "  - layer 0\n",
        "  - activation 3\n",
        "  - numero de units 4\n",
        "  - numero de kernels 5\n",
        "\n",
        "y asi suvesivamente para cada gen\n",
        "\"\"\""
      ],
      "metadata": {
        "id": "cbh1x72Nc9e2"
      },
      "execution_count": null,
      "outputs": []
    },
    {
      "cell_type": "markdown",
      "source": [
        "# Creacion individuos"
      ],
      "metadata": {
        "id": "zZNS5lwdN6GW"
      }
    },
    {
      "cell_type": "code",
      "source": [
        "\"\"\"\n",
        "El punto clave del planteamiento actual es la linea 33-46.\n",
        "\n",
        "Donde forzamos que cualquier par de capas sea compatible mediante reshapes.\n",
        "\n",
        "Con el cruzamiento buscaremos optimizar, su analisis y explicacion es la siguiente etapa\n",
        "\n",
        "\"\"\""
      ],
      "metadata": {
        "id": "wBZQOXtWivTN"
      },
      "execution_count": null,
      "outputs": []
    },
    {
      "cell_type": "code",
      "source": [
        "models = []\n",
        "\n",
        "for ind in individuos:\n",
        "  \n",
        "\n",
        "  # Creamos un nuevo modelo para nuestro individuo\n",
        "  inputs = keras.Input(shape=(x.shape[1:]))\n",
        "  m = inputs\n",
        "  ############################################################################\n",
        "\n",
        "  for i in range(0, len(ind), len_gen):\n",
        "\n",
        "    # Guardamos el gen entero\n",
        "    gen = ind[i:i+len_gen]\n",
        "    \n",
        "    ############################################################################\n",
        "\n",
        "    if gen[0] != -1:\n",
        "      \n",
        "      # Creamos el nuevo layer\n",
        "      tipo_layer = gen[0]\n",
        "      info = gen[1:]\n",
        "      new_layer = layers[tipo_layer](info)\n",
        "      dim_layer = dims[tipo_layer]\n",
        "      ############################################################################\n",
        "\n",
        "      # Observamos si el output actual del modelo es compatible con la nueva layer #\n",
        "      current_m_dim = len(m.shape) \n",
        "      new_layer_dim = current_m_dim if dim_layer == -1 else dim_layer \n",
        "      diferencia = new_layer_dim - current_m_dim\n",
        "      ############################################################################\n",
        "\n",
        "      # Hacemos los reshapes necesarios para hacer compatible las dos layers #\n",
        "      while diferencia != 0:\n",
        "        \n",
        "        if diferencia > 0:\n",
        "          new_d = aumenta_dimensions(m)\n",
        "          m = Reshape(new_d)(m)\n",
        "        elif diferencia < 0:\n",
        "          new_d = reduce_dimensions(m.shape)\n",
        "          m = Reshape(new_d)(m)\n",
        "        # recalculamos el output dentro del while para iterar todas las veces necesarias\n",
        "        current_m_dim = len(m.shape) \n",
        "        new_layer_dim = current_m_dim if dim_layer == -1 else dim_layer \n",
        "        diferencia = new_layer_dim - current_m_dim\n",
        "      ##############################################################################\n",
        "\n",
        "      # Añadimos el nuevo layer al modelo #\n",
        "      m = new_layer(m)\n",
        "      ##############################################################################\n",
        "\n",
        "\n",
        "  # Una vez recorridos todos los genes compilamos el modelo #\n",
        "  m = Flatten()(m)\n",
        "  outputs = Dense(y.shape[1])(m)\n",
        "  model = keras.Model(inputs=inputs, outputs=outputs)\n",
        "  model.compile(\n",
        "    loss='mse',\n",
        "    optimizer=keras.optimizers.Adam(),\n",
        "    metrics=[\"accuracy\"],\n",
        "  )\n",
        "\n",
        "  models.append(model)\n",
        "  ##############################################################################\n",
        "\n",
        "  "
      ],
      "metadata": {
        "id": "bSieHfAtBzkT"
      },
      "execution_count": 211,
      "outputs": []
    },
    {
      "cell_type": "markdown",
      "source": [
        "# test de entrenamiento epochs = 1"
      ],
      "metadata": {
        "id": "lKBl4WEjdtH5"
      }
    },
    {
      "cell_type": "code",
      "source": [
        "his = []\n",
        "for m in models:\n",
        "  his.append( (m.fit(x,y, epochs=1)).history[\"accuracy\"] )"
      ],
      "metadata": {
        "colab": {
          "base_uri": "https://localhost:8080/"
        },
        "id": "31oqvnuxdwS5",
        "outputId": "dd7b3371-fd27-4473-cfd2-8bfb199e78d0"
      },
      "execution_count": 212,
      "outputs": [
        {
          "output_type": "stream",
          "name": "stdout",
          "text": [
            "1/1 [==============================] - 15s 15s/step - loss: 0.2837 - accuracy: 0.0000e+00\n",
            "1/1 [==============================] - 9s 9s/step - loss: 0.2838 - accuracy: 0.0000e+00\n",
            "1/1 [==============================] - 6s 6s/step - loss: 0.3082 - accuracy: 0.0000e+00\n",
            "1/1 [==============================] - 11s 11s/step - loss: 0.2816 - accuracy: 0.0000e+00\n",
            "1/1 [==============================] - 15s 15s/step - loss: 0.2811 - accuracy: 0.0000e+00\n",
            "1/1 [==============================] - 12s 12s/step - loss: 0.2841 - accuracy: 0.0000e+00\n",
            "1/1 [==============================] - 11s 11s/step - loss: 0.2835 - accuracy: 0.0000e+00\n",
            "1/1 [==============================] - 6s 6s/step - loss: 0.2841 - accuracy: 0.0000e+00\n",
            "1/1 [==============================] - 8s 8s/step - loss: 0.2838 - accuracy: 0.0000e+00\n",
            "1/1 [==============================] - 9s 9s/step - loss: 0.2837 - accuracy: 0.0000e+00\n",
            "1/1 [==============================] - 2s 2s/step - loss: 0.3297 - accuracy: 0.0000e+00\n",
            "1/1 [==============================] - 14s 14s/step - loss: 0.2837 - accuracy: 0.0000e+00\n",
            "1/1 [==============================] - 1s 853ms/step - loss: 0.3685 - accuracy: 0.0000e+00\n",
            "1/1 [==============================] - 9s 9s/step - loss: 0.2838 - accuracy: 0.0000e+00\n",
            "1/1 [==============================] - 7s 7s/step - loss: 0.2837 - accuracy: 0.0000e+00\n",
            "1/1 [==============================] - 2s 2s/step - loss: 0.3065 - accuracy: 0.0000e+00\n",
            "1/1 [==============================] - 8s 8s/step - loss: 0.2837 - accuracy: 0.0000e+00\n",
            "1/1 [==============================] - 9s 9s/step - loss: 0.2837 - accuracy: 0.0000e+00\n",
            "1/1 [==============================] - 6s 6s/step - loss: 0.2841 - accuracy: 0.0000e+00\n",
            "1/1 [==============================] - 14s 14s/step - loss: 0.2837 - accuracy: 0.2000\n",
            "1/1 [==============================] - 4s 4s/step - loss: 0.2746 - accuracy: 0.0000e+00\n",
            "1/1 [==============================] - 6s 6s/step - loss: 0.2822 - accuracy: 0.2000\n",
            "1/1 [==============================] - 6s 6s/step - loss: 0.2819 - accuracy: 0.0000e+00\n",
            "1/1 [==============================] - 10s 10s/step - loss: 0.2838 - accuracy: 0.0000e+00\n",
            "1/1 [==============================] - 4s 4s/step - loss: 0.3453 - accuracy: 0.2000\n",
            "1/1 [==============================] - 9s 9s/step - loss: 0.2837 - accuracy: 0.0000e+00\n",
            "1/1 [==============================] - 6s 6s/step - loss: 0.2834 - accuracy: 0.0000e+00\n",
            "1/1 [==============================] - 10s 10s/step - loss: 0.2838 - accuracy: 0.0000e+00\n",
            "1/1 [==============================] - 8s 8s/step - loss: 0.2867 - accuracy: 0.2000\n",
            "1/1 [==============================] - 12s 12s/step - loss: 0.2856 - accuracy: 0.0000e+00\n",
            "1/1 [==============================] - 12s 12s/step - loss: 0.2837 - accuracy: 0.2000\n",
            "1/1 [==============================] - 3s 3s/step - loss: 0.2871 - accuracy: 0.0000e+00\n",
            "1/1 [==============================] - 6s 6s/step - loss: 0.2840 - accuracy: 0.0000e+00\n",
            "1/1 [==============================] - 16s 16s/step - loss: 0.2837 - accuracy: 0.0000e+00\n",
            "1/1 [==============================] - 9s 9s/step - loss: 0.2837 - accuracy: 0.0000e+00\n",
            "1/1 [==============================] - 7s 7s/step - loss: 0.2833 - accuracy: 0.2000\n",
            "1/1 [==============================] - 5s 5s/step - loss: 0.2825 - accuracy: 0.2000\n",
            "1/1 [==============================] - 8s 8s/step - loss: 0.2837 - accuracy: 0.0000e+00\n",
            "1/1 [==============================] - 4s 4s/step - loss: 0.2878 - accuracy: 0.0000e+00\n",
            "1/1 [==============================] - 10s 10s/step - loss: 0.2837 - accuracy: 0.0000e+00\n",
            "1/1 [==============================] - 17s 17s/step - loss: 0.2837 - accuracy: 0.0000e+00\n",
            "1/1 [==============================] - 5s 5s/step - loss: 0.2837 - accuracy: 0.0000e+00\n",
            "1/1 [==============================] - 5s 5s/step - loss: 0.2839 - accuracy: 0.2000\n",
            "1/1 [==============================] - 3s 3s/step - loss: 0.3037 - accuracy: 0.0000e+00\n",
            "1/1 [==============================] - 7s 7s/step - loss: 0.2826 - accuracy: 0.0000e+00\n",
            "1/1 [==============================] - 7s 7s/step - loss: 0.2849 - accuracy: 0.0000e+00\n",
            "1/1 [==============================] - 5s 5s/step - loss: 0.2842 - accuracy: 0.0000e+00\n",
            "1/1 [==============================] - 3s 3s/step - loss: 0.2840 - accuracy: 0.0000e+00\n",
            "1/1 [==============================] - 8s 8s/step - loss: 0.2921 - accuracy: 0.0000e+00\n",
            "1/1 [==============================] - 5s 5s/step - loss: 0.2837 - accuracy: 0.0000e+00\n"
          ]
        }
      ]
    },
    {
      "cell_type": "markdown",
      "source": [
        "## accuracy entre modelos"
      ],
      "metadata": {
        "id": "uHBpkwH4mmEJ"
      }
    },
    {
      "cell_type": "code",
      "source": [
        "plt.hist(his);"
      ],
      "metadata": {
        "colab": {
          "base_uri": "https://localhost:8080/",
          "height": 430
        },
        "id": "E9nOWGfweUO8",
        "outputId": "802bf2a8-1796-41b4-f0e1-99830a456712"
      },
      "execution_count": 213,
      "outputs": [
        {
          "output_type": "display_data",
          "data": {
            "text/plain": [
              "<Figure size 640x480 with 1 Axes>"
            ],
            "image/png": "[encoded data removed]"
          },
          "metadata": {}
        }
      ]
    },
    {
      "cell_type": "markdown",
      "source": [
        "## prediccion de un modelo"
      ],
      "metadata": {
        "id": "MPWj8RKpm7zc"
      }
    },
    {
      "cell_type": "code",
      "source": [
        "y_predict = models[0](x[0:1])"
      ],
      "metadata": {
        "id": "zPPyZ90QfI9r"
      },
      "execution_count": 214,
      "outputs": []
    },
    {
      "cell_type": "code",
      "source": [
        "y_predict.shape"
      ],
      "metadata": {
        "colab": {
          "base_uri": "https://localhost:8080/"
        },
        "id": "iy40HFlDfRXR",
        "outputId": "b200783d-7f4b-4314-e401-913e0d869d64"
      },
      "execution_count": 215,
      "outputs": [
        {
          "output_type": "execute_result",
          "data": {
            "text/plain": [
              "TensorShape([1, 35])"
            ]
          },
          "metadata": {},
          "execution_count": 215
        }
      ]
    },
    {
      "cell_type": "code",
      "source": [
        "y_predict"
      ],
      "metadata": {
        "colab": {
          "base_uri": "https://localhost:8080/"
        },
        "id": "KRHfr3f5fZMu",
        "outputId": "0ec0af7a-bb71-4ff2-a5f5-5531385255c3"
      },
      "execution_count": 216,
      "outputs": [
        {
          "output_type": "execute_result",
          "data": {
            "text/plain": [
              "<tf.Tensor: shape=(1, 35), dtype=float32, numpy=\n",
              "array([[ 0.00224129,  0.00574608, -0.00073087, -0.0018872 , -0.00018735,\n",
              "        -0.00145782,  0.00317761,  0.00157147, -0.00174587,  0.0086842 ,\n",
              "         0.00140737,  0.00512033,  0.0039061 ,  0.00524196,  0.00108455,\n",
              "         0.00325114,  0.00112239,  0.00365413, -0.00114581, -0.00069472,\n",
              "        -0.00023736,  0.00094245,  0.00269564,  0.00808065,  0.0057581 ,\n",
              "        -0.00062614,  0.00194985,  0.00056604,  0.00484314,  0.00606015,\n",
              "         0.0028792 ,  0.00300451, -0.00050289, -0.00057131,  0.0048173 ]],\n",
              "      dtype=float32)>"
            ]
          },
          "metadata": {},
          "execution_count": 216
        }
      ]
    },
    {
      "cell_type": "markdown",
      "source": [
        "## arquitectura del mejor modelo"
      ],
      "metadata": {
        "id": "xBEdWJ5QmH8d"
      }
    },
    {
      "cell_type": "code",
      "source": [
        "mejor_modelo = np.argmax(his)"
      ],
      "metadata": {
        "id": "lWoJz6gFl_uA"
      },
      "execution_count": 217,
      "outputs": []
    },
    {
      "cell_type": "code",
      "source": [
        "# accuracy mejor modelo\n",
        "his[mejor_modelo]"
      ],
      "metadata": {
        "colab": {
          "base_uri": "https://localhost:8080/"
        },
        "id": "hngmksuOnEjq",
        "outputId": "3f4f27df-dd95-43f5-a474-9b4e33accbc1"
      },
      "execution_count": 219,
      "outputs": [
        {
          "output_type": "execute_result",
          "data": {
            "text/plain": [
              "[0.20000000298023224]"
            ]
          },
          "metadata": {},
          "execution_count": 219
        }
      ]
    },
    {
      "cell_type": "code",
      "source": [
        "models[mejor_modelo].summary()"
      ],
      "metadata": {
        "colab": {
          "base_uri": "https://localhost:8080/"
        },
        "id": "jIj3Y05wmQaP",
        "outputId": "2b58bb3c-bf72-49bf-acb2-f1b0719e3b79"
      },
      "execution_count": 218,
      "outputs": [
        {
          "output_type": "stream",
          "name": "stdout",
          "text": [
            "Model: \"model_123\"\n",
            "_________________________________________________________________\n",
            " Layer (type)                Output Shape              Param #   \n",
            "=================================================================\n",
            " input_133 (InputLayer)      [(None, 60, 35, 3)]       0         \n",
            "                                                                 \n",
            " reshape_429 (Reshape)       (None, 60, 35, 3, 1)      0         \n",
            "                                                                 \n",
            " conv_lstm2d_74 (ConvLSTM2D)  (None, 35, 3, 98)        155624    \n",
            "                                                                 \n",
            " conv_lstm1d_72 (ConvLSTM1D)  (None, 3, 22)            10648     \n",
            "                                                                 \n",
            " gru_72 (GRU)                (None, 67)                18291     \n",
            "                                                                 \n",
            " reshape_430 (Reshape)       (None, 67, 1)             0         \n",
            "                                                                 \n",
            " reshape_431 (Reshape)       (None, 67, 1, 1)          0         \n",
            "                                                                 \n",
            " conv_lstm1d_73 (ConvLSTM1D)  (None, 1, 38)            6080      \n",
            "                                                                 \n",
            " flatten_123 (Flatten)       (None, 38)                0         \n",
            "                                                                 \n",
            " dense_290 (Dense)           (None, 35)                1365      \n",
            "                                                                 \n",
            "=================================================================\n",
            "Total params: 192,008\n",
            "Trainable params: 192,008\n",
            "Non-trainable params: 0\n",
            "_________________________________________________________________\n"
          ]
        }
      ]
    },
    {
      "cell_type": "markdown",
      "source": [
        "## arquitectura del peor modelo"
      ],
      "metadata": {
        "id": "2lTMscrUnQT7"
      }
    },
    {
      "cell_type": "code",
      "source": [
        "peor_modelo = np.argmin(his)"
      ],
      "metadata": {
        "id": "tVMq44TynVvO"
      },
      "execution_count": 223,
      "outputs": []
    },
    {
      "cell_type": "code",
      "source": [
        "# accuracy peor modelo\n",
        "his[peor_modelo]"
      ],
      "metadata": {
        "colab": {
          "base_uri": "https://localhost:8080/"
        },
        "id": "z8fRWFR2ndA_",
        "outputId": "e8a25870-a706-47b8-e59e-b0453bdc07fb"
      },
      "execution_count": 224,
      "outputs": [
        {
          "output_type": "execute_result",
          "data": {
            "text/plain": [
              "[0.0]"
            ]
          },
          "metadata": {},
          "execution_count": 224
        }
      ]
    },
    {
      "cell_type": "code",
      "source": [
        "models[peor_modelo].summary()"
      ],
      "metadata": {
        "colab": {
          "base_uri": "https://localhost:8080/"
        },
        "id": "vL-74WknninE",
        "outputId": "750e13a6-a958-4acb-e15d-31b00d4b5f99"
      },
      "execution_count": 225,
      "outputs": [
        {
          "output_type": "stream",
          "name": "stdout",
          "text": [
            "Model: \"model_104\"\n",
            "_________________________________________________________________\n",
            " Layer (type)                Output Shape              Param #   \n",
            "=================================================================\n",
            " input_114 (InputLayer)      [(None, 60, 35, 3)]       0         \n",
            "                                                                 \n",
            " reshape_363 (Reshape)       (None, 60, 35, 3, 1)      0         \n",
            "                                                                 \n",
            " conv3d_53 (Conv3D)          (None, 60, 35, 3, 46)     414       \n",
            "                                                                 \n",
            " conv_lstm2d_60 (ConvLSTM2D)  (None, 35, 3, 67)        272824    \n",
            "                                                                 \n",
            " reshape_364 (Reshape)       (None, 35, 3, 67, 1)      0         \n",
            "                                                                 \n",
            " conv_lstm2d_61 (ConvLSTM2D)  (None, 3, 67, 19)        1596      \n",
            "                                                                 \n",
            " reshape_365 (Reshape)       (None, 3, 1273)           0         \n",
            "                                                                 \n",
            " lstm_46 (LSTM)              (None, 68)                365024    \n",
            "                                                                 \n",
            " reshape_366 (Reshape)       (None, 68, 1)             0         \n",
            "                                                                 \n",
            " gru_62 (GRU)                (None, 42)                5670      \n",
            "                                                                 \n",
            " flatten_104 (Flatten)       (None, 42)                0         \n",
            "                                                                 \n",
            " dense_243 (Dense)           (None, 35)                1505      \n",
            "                                                                 \n",
            "=================================================================\n",
            "Total params: 647,033\n",
            "Trainable params: 647,033\n",
            "Non-trainable params: 0\n",
            "_________________________________________________________________\n"
          ]
        }
      ]
    }
  ]
}