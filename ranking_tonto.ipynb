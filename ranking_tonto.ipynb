{
  "nbformat": 4,
  "nbformat_minor": 0,
  "metadata": {
    "colab": {
      "provenance": [],
      "collapsed_sections": [
        "LZHdlc8TsYRO"
      ],
      "toc_visible": true,
      "authorship_tag": "ABX9TyOsLm0qpIJpQJM/lnsGOz/t",
      "include_colab_link": true
    },
    "kernelspec": {
      "name": "python3",
      "display_name": "Python 3"
    },
    "language_info": {
      "name": "python"
    }
  },
  "cells": [
    {
      "cell_type": "markdown",
      "metadata": {
        "id": "view-in-github",
        "colab_type": "text"
      },
      "source": [
        "<a href=\"https://colab.research.google.com/github/tintenderete/TFM/blob/main/ranking_tonto.ipynb\" target=\"_parent\"><img src=\"https://colab.research.google.com/assets/colab-badge.svg\" alt=\"Open In Colab\"/></a>"
      ]
    },
    {
      "cell_type": "code",
      "source": [
        "import yfinance as yf\n",
        "import pandas as pd\n",
        "from datetime import datetime, timedelta\n",
        "import numpy as np"
      ],
      "metadata": {
        "id": "YcaaslYPjp0Y"
      },
      "execution_count": null,
      "outputs": []
    },
    {
      "cell_type": "markdown",
      "source": [
        "# DESCARGAR Y LIMPIAR DATOS"
      ],
      "metadata": {
        "id": "zyhZ5Ol1lmw4"
      }
    },
    {
      "cell_type": "code",
      "execution_count": null,
      "metadata": {
        "id": "vANITaMydDjw"
      },
      "outputs": [],
      "source": [
        "\n",
        "tickers = [\n",
        "\"ANA.MC\", \"ACX.MC\", \"ACS.MC\", \"AENA.MC\", \"AMS.MC\", \"MTS.MC\", \"SAB.MC\", \"BKIA.MC\", \"BKT.MC\", \"BBVA.MC\", \"CABK.MC\",\n",
        "\"CLNX.MC\", \"CIE.MC\", \"ENG.MC\", \"ELE.MC\", \"FER.MC\", \"GRF.MC\", \"IAG.MC\", \"IBE.MC\", \"ITX.MC\", \"IDR.MC\", \"COL.MC\",\n",
        "\"MEL.MC\", \"MRL.MC\", \"NTGY.MC\", \"PHM.MC\", \"REE.MC\", \"REP.MC\", \"SGRE.MC\", \"SLR.MC\", \"TRE.MC\", \"TEF.MC\", \"VIS.MC\",\n",
        "\"VWS.CO\"\n",
        "]\n",
        "\n",
        "# Define las fechas de inicio y fin para los últimos 10 años\n",
        "end_date = datetime.today()\n",
        "start_date = end_date - timedelta(days=365 * 10)\n",
        "\n",
        "# Descarga los datos históricos\n",
        "historical_data = {}\n",
        "for ticker in tickers:\n",
        "    print(f\"Descargando datos para {ticker}...\")\n",
        "    historical_data[ticker] = yf.download(ticker, start=start_date, end=end_date)\n",
        "\n",
        "# Combina todos los datos en un único DataFrame\n",
        "#all_data = pd.concat(historical_data, axis=1)\n",
        "\n"
      ]
    },
    {
      "cell_type": "code",
      "source": [
        "close_prices = {}\n",
        "\n",
        "for ticker in historical_data.keys():\n",
        "  close_prices[ticker] = historical_data[ticker]['Close']\n",
        "\n",
        "close_prices = pd.DataFrame(close_prices)"
      ],
      "metadata": {
        "id": "tY31sPFilFHc"
      },
      "execution_count": null,
      "outputs": []
    },
    {
      "cell_type": "code",
      "source": [
        "close_prices.shape"
      ],
      "metadata": {
        "colab": {
          "base_uri": "https://localhost:8080/"
        },
        "id": "ozspx7lNevhS",
        "outputId": "d6c20291-90fa-47af-94d1-658a5ca36fd7"
      },
      "execution_count": null,
      "outputs": [
        {
          "output_type": "execute_result",
          "data": {
            "text/plain": [
              "(2565, 34)"
            ]
          },
          "metadata": {},
          "execution_count": 4
        }
      ]
    },
    {
      "cell_type": "code",
      "source": [
        "close_prices.isna().sum().head()"
      ],
      "metadata": {
        "colab": {
          "base_uri": "https://localhost:8080/"
        },
        "id": "RdfM7y5MfMZU",
        "outputId": "70f75a00-eba4-4036-9cc1-b5a1cfc9529e"
      },
      "execution_count": null,
      "outputs": [
        {
          "output_type": "execute_result",
          "data": {
            "text/plain": [
              "ANA.MC       7\n",
              "ACX.MC       7\n",
              "ACS.MC       7\n",
              "AENA.MC    468\n",
              "AMS.MC       7\n",
              "dtype: int64"
            ]
          },
          "metadata": {},
          "execution_count": 5
        }
      ]
    },
    {
      "cell_type": "code",
      "source": [
        "cleaned_close_prices_df = close_prices.dropna(axis=1, thresh=len(close_prices) - 10)"
      ],
      "metadata": {
        "id": "HKp-K06qfarQ"
      },
      "execution_count": null,
      "outputs": []
    },
    {
      "cell_type": "code",
      "source": [
        "cleaned_close_prices_df.index = cleaned_close_prices_df.index.map(lambda x: x.date())"
      ],
      "metadata": {
        "id": "YMEK4FDChMkG"
      },
      "execution_count": null,
      "outputs": []
    },
    {
      "cell_type": "code",
      "source": [
        "# Por alguna razon los ultimos 7 dias son fechas locas\n",
        "cleaned_close_prices_df = cleaned_close_prices_df[:-7]"
      ],
      "metadata": {
        "id": "7sPZPyB3iloz"
      },
      "execution_count": null,
      "outputs": []
    },
    {
      "cell_type": "code",
      "source": [
        "cleaned_close_prices_df.isna().sum().sum()"
      ],
      "metadata": {
        "colab": {
          "base_uri": "https://localhost:8080/"
        },
        "id": "tWzZf1fkjO9s",
        "outputId": "f95b6e0b-faf7-48b4-8e3e-0689fa8c35d3"
      },
      "execution_count": null,
      "outputs": [
        {
          "output_type": "execute_result",
          "data": {
            "text/plain": [
              "0"
            ]
          },
          "metadata": {},
          "execution_count": 9
        }
      ]
    },
    {
      "cell_type": "code",
      "source": [
        "cleaned_close_prices_df.tail()"
      ],
      "metadata": {
        "colab": {
          "base_uri": "https://localhost:8080/",
          "height": 417
        },
        "id": "3x4aUY1njfSV",
        "outputId": "f36824b4-bdc9-4838-def9-34c95f3a0a24"
      },
      "execution_count": null,
      "outputs": [
        {
          "output_type": "execute_result",
          "data": {
            "text/plain": [
              "                ANA.MC  ACX.MC     ACS.MC     AMS.MC     MTS.MC  SAB.MC  \\\n",
              "Date                                                                      \n",
              "2023-04-14  176.949997   9.462  30.700001  61.160000  26.940001  1.0265   \n",
              "2023-04-17  177.199997   9.722  30.850000  61.980000  27.250000  1.0315   \n",
              "2023-04-18  173.199997   9.746  31.080000  62.400002  27.375000  1.0640   \n",
              "2023-04-19  175.449997   9.710  31.389999  62.599998  26.900000  1.0785   \n",
              "2023-04-20  173.949997   9.656  31.370001  62.500000  26.895000  1.0635   \n",
              "\n",
              "            BKT.MC  BBVA.MC  CABK.MC     CIE.MC  ...  IDR.MC  COL.MC  MEL.MC  \\\n",
              "Date                                             ...                           \n",
              "2023-04-14   5.644    6.806    3.542  26.500000  ...   12.50   5.920   5.915   \n",
              "2023-04-17   5.672    6.712    3.528  26.840000  ...   12.45   5.910   5.960   \n",
              "2023-04-18   5.738    6.862    3.613  27.219999  ...   12.69   5.895   5.980   \n",
              "2023-04-19   5.816    6.918    3.660  27.219999  ...   12.76   5.780   6.005   \n",
              "2023-04-20   5.748    6.814    3.642  26.980000  ...   12.56   5.710   5.920   \n",
              "\n",
              "              NTGY.MC     PHM.MC  REP.MC  SLR.MC  TRE.MC  TEF.MC     VIS.MC  \n",
              "Date                                                                         \n",
              "2023-04-14  28.000000  42.060001  13.830  15.650   7.795   4.050  66.699997  \n",
              "2023-04-17  28.120001  41.240002  13.985  15.525   7.785   4.071  67.400002  \n",
              "2023-04-18  28.040001  40.540001  13.700  15.260   8.375   4.096  66.599998  \n",
              "2023-04-19  28.320000  40.840000  13.535  15.405   8.530   4.111  66.500000  \n",
              "2023-04-20  28.500000  40.000000  13.310  15.235   8.200   4.074  66.300003  \n",
              "\n",
              "[5 rows x 27 columns]"
            ],
            "text/html": [
              "\n",
              "  <div id=\"df-04592241-29e3-4760-8136-5317a147918a\">\n",
              "    <div class=\"colab-df-container\">\n",
              "      <div>\n",
              "<style scoped>\n",
              "    .dataframe tbody tr th:only-of-type {\n",
              "        vertical-align: middle;\n",
              "    }\n",
              "\n",
              "    .dataframe tbody tr th {\n",
              "        vertical-align: top;\n",
              "    }\n",
              "\n",
              "    .dataframe thead th {\n",
              "        text-align: right;\n",
              "    }\n",
              "</style>\n",
              "<table border=\"1\" class=\"dataframe\">\n",
              "  <thead>\n",
              "    <tr style=\"text-align: right;\">\n",
              "      <th></th>\n",
              "      <th>ANA.MC</th>\n",
              "      <th>ACX.MC</th>\n",
              "      <th>ACS.MC</th>\n",
              "      <th>AMS.MC</th>\n",
              "      <th>MTS.MC</th>\n",
              "      <th>SAB.MC</th>\n",
              "      <th>BKT.MC</th>\n",
              "      <th>BBVA.MC</th>\n",
              "      <th>CABK.MC</th>\n",
              "      <th>CIE.MC</th>\n",
              "      <th>...</th>\n",
              "      <th>IDR.MC</th>\n",
              "      <th>COL.MC</th>\n",
              "      <th>MEL.MC</th>\n",
              "      <th>NTGY.MC</th>\n",
              "      <th>PHM.MC</th>\n",
              "      <th>REP.MC</th>\n",
              "      <th>SLR.MC</th>\n",
              "      <th>TRE.MC</th>\n",
              "      <th>TEF.MC</th>\n",
              "      <th>VIS.MC</th>\n",
              "    </tr>\n",
              "    <tr>\n",
              "      <th>Date</th>\n",
              "      <th></th>\n",
              "      <th></th>\n",
              "      <th></th>\n",
              "      <th></th>\n",
              "      <th></th>\n",
              "      <th></th>\n",
              "      <th></th>\n",
              "      <th></th>\n",
              "      <th></th>\n",
              "      <th></th>\n",
              "      <th></th>\n",
              "      <th></th>\n",
              "      <th></th>\n",
              "      <th></th>\n",
              "      <th></th>\n",
              "      <th></th>\n",
              "      <th></th>\n",
              "      <th></th>\n",
              "      <th></th>\n",
              "      <th></th>\n",
              "      <th></th>\n",
              "    </tr>\n",
              "  </thead>\n",
              "  <tbody>\n",
              "    <tr>\n",
              "      <th>2023-04-14</th>\n",
              "      <td>176.949997</td>\n",
              "      <td>9.462</td>\n",
              "      <td>30.700001</td>\n",
              "      <td>61.160000</td>\n",
              "      <td>26.940001</td>\n",
              "      <td>1.0265</td>\n",
              "      <td>5.644</td>\n",
              "      <td>6.806</td>\n",
              "      <td>3.542</td>\n",
              "      <td>26.500000</td>\n",
              "      <td>...</td>\n",
              "      <td>12.50</td>\n",
              "      <td>5.920</td>\n",
              "      <td>5.915</td>\n",
              "      <td>28.000000</td>\n",
              "      <td>42.060001</td>\n",
              "      <td>13.830</td>\n",
              "      <td>15.650</td>\n",
              "      <td>7.795</td>\n",
              "      <td>4.050</td>\n",
              "      <td>66.699997</td>\n",
              "    </tr>\n",
              "    <tr>\n",
              "      <th>2023-04-17</th>\n",
              "      <td>177.199997</td>\n",
              "      <td>9.722</td>\n",
              "      <td>30.850000</td>\n",
              "      <td>61.980000</td>\n",
              "      <td>27.250000</td>\n",
              "      <td>1.0315</td>\n",
              "      <td>5.672</td>\n",
              "      <td>6.712</td>\n",
              "      <td>3.528</td>\n",
              "      <td>26.840000</td>\n",
              "      <td>...</td>\n",
              "      <td>12.45</td>\n",
              "      <td>5.910</td>\n",
              "      <td>5.960</td>\n",
              "      <td>28.120001</td>\n",
              "      <td>41.240002</td>\n",
              "      <td>13.985</td>\n",
              "      <td>15.525</td>\n",
              "      <td>7.785</td>\n",
              "      <td>4.071</td>\n",
              "      <td>67.400002</td>\n",
              "    </tr>\n",
              "    <tr>\n",
              "      <th>2023-04-18</th>\n",
              "      <td>173.199997</td>\n",
              "      <td>9.746</td>\n",
              "      <td>31.080000</td>\n",
              "      <td>62.400002</td>\n",
              "      <td>27.375000</td>\n",
              "      <td>1.0640</td>\n",
              "      <td>5.738</td>\n",
              "      <td>6.862</td>\n",
              "      <td>3.613</td>\n",
              "      <td>27.219999</td>\n",
              "      <td>...</td>\n",
              "      <td>12.69</td>\n",
              "      <td>5.895</td>\n",
              "      <td>5.980</td>\n",
              "      <td>28.040001</td>\n",
              "      <td>40.540001</td>\n",
              "      <td>13.700</td>\n",
              "      <td>15.260</td>\n",
              "      <td>8.375</td>\n",
              "      <td>4.096</td>\n",
              "      <td>66.599998</td>\n",
              "    </tr>\n",
              "    <tr>\n",
              "      <th>2023-04-19</th>\n",
              "      <td>175.449997</td>\n",
              "      <td>9.710</td>\n",
              "      <td>31.389999</td>\n",
              "      <td>62.599998</td>\n",
              "      <td>26.900000</td>\n",
              "      <td>1.0785</td>\n",
              "      <td>5.816</td>\n",
              "      <td>6.918</td>\n",
              "      <td>3.660</td>\n",
              "      <td>27.219999</td>\n",
              "      <td>...</td>\n",
              "      <td>12.76</td>\n",
              "      <td>5.780</td>\n",
              "      <td>6.005</td>\n",
              "      <td>28.320000</td>\n",
              "      <td>40.840000</td>\n",
              "      <td>13.535</td>\n",
              "      <td>15.405</td>\n",
              "      <td>8.530</td>\n",
              "      <td>4.111</td>\n",
              "      <td>66.500000</td>\n",
              "    </tr>\n",
              "    <tr>\n",
              "      <th>2023-04-20</th>\n",
              "      <td>173.949997</td>\n",
              "      <td>9.656</td>\n",
              "      <td>31.370001</td>\n",
              "      <td>62.500000</td>\n",
              "      <td>26.895000</td>\n",
              "      <td>1.0635</td>\n",
              "      <td>5.748</td>\n",
              "      <td>6.814</td>\n",
              "      <td>3.642</td>\n",
              "      <td>26.980000</td>\n",
              "      <td>...</td>\n",
              "      <td>12.56</td>\n",
              "      <td>5.710</td>\n",
              "      <td>5.920</td>\n",
              "      <td>28.500000</td>\n",
              "      <td>40.000000</td>\n",
              "      <td>13.310</td>\n",
              "      <td>15.235</td>\n",
              "      <td>8.200</td>\n",
              "      <td>4.074</td>\n",
              "      <td>66.300003</td>\n",
              "    </tr>\n",
              "  </tbody>\n",
              "</table>\n",
              "<p>5 rows × 27 columns</p>\n",
              "</div>\n",
              "      <button class=\"colab-df-convert\" onclick=\"convertToInteractive('df-04592241-29e3-4760-8136-5317a147918a')\"\n",
              "              title=\"Convert this dataframe to an interactive table.\"\n",
              "              style=\"display:none;\">\n",
              "        \n",
              "  <svg xmlns=\"http://www.w3.org/2000/svg\" height=\"24px\"viewBox=\"0 0 24 24\"\n",
              "       width=\"24px\">\n",
              "    <path d=\"M0 0h24v24H0V0z\" fill=\"none\"/>\n",
              "    <path d=\"M18.56 5.44l.94 2.06.94-2.06 2.06-.94-2.06-.94-.94-2.06-.94 2.06-2.06.94zm-11 1L8.5 8.5l.94-2.06 2.06-.94-2.06-.94L8.5 2.5l-.94 2.06-2.06.94zm10 10l.94 2.06.94-2.06 2.06-.94-2.06-.94-.94-2.06-.94 2.06-2.06.94z\"/><path d=\"M17.41 7.96l-1.37-1.37c-.4-.4-.92-.59-1.43-.59-.52 0-1.04.2-1.43.59L10.3 9.45l-7.72 7.72c-.78.78-.78 2.05 0 2.83L4 21.41c.39.39.9.59 1.41.59.51 0 1.02-.2 1.41-.59l7.78-7.78 2.81-2.81c.8-.78.8-2.07 0-2.86zM5.41 20L4 18.59l7.72-7.72 1.47 1.35L5.41 20z\"/>\n",
              "  </svg>\n",
              "      </button>\n",
              "      \n",
              "  <style>\n",
              "    .colab-df-container {\n",
              "      display:flex;\n",
              "      flex-wrap:wrap;\n",
              "      gap: 12px;\n",
              "    }\n",
              "\n",
              "    .colab-df-convert {\n",
              "      background-color: #E8F0FE;\n",
              "      border: none;\n",
              "      border-radius: 50%;\n",
              "      cursor: pointer;\n",
              "      display: none;\n",
              "      fill: #1967D2;\n",
              "      height: 32px;\n",
              "      padding: 0 0 0 0;\n",
              "      width: 32px;\n",
              "    }\n",
              "\n",
              "    .colab-df-convert:hover {\n",
              "      background-color: #E2EBFA;\n",
              "      box-shadow: 0px 1px 2px rgba(60, 64, 67, 0.3), 0px 1px 3px 1px rgba(60, 64, 67, 0.15);\n",
              "      fill: #174EA6;\n",
              "    }\n",
              "\n",
              "    [theme=dark] .colab-df-convert {\n",
              "      background-color: #3B4455;\n",
              "      fill: #D2E3FC;\n",
              "    }\n",
              "\n",
              "    [theme=dark] .colab-df-convert:hover {\n",
              "      background-color: #434B5C;\n",
              "      box-shadow: 0px 1px 3px 1px rgba(0, 0, 0, 0.15);\n",
              "      filter: drop-shadow(0px 1px 2px rgba(0, 0, 0, 0.3));\n",
              "      fill: #FFFFFF;\n",
              "    }\n",
              "  </style>\n",
              "\n",
              "      <script>\n",
              "        const buttonEl =\n",
              "          document.querySelector('#df-04592241-29e3-4760-8136-5317a147918a button.colab-df-convert');\n",
              "        buttonEl.style.display =\n",
              "          google.colab.kernel.accessAllowed ? 'block' : 'none';\n",
              "\n",
              "        async function convertToInteractive(key) {\n",
              "          const element = document.querySelector('#df-04592241-29e3-4760-8136-5317a147918a');\n",
              "          const dataTable =\n",
              "            await google.colab.kernel.invokeFunction('convertToInteractive',\n",
              "                                                     [key], {});\n",
              "          if (!dataTable) return;\n",
              "\n",
              "          const docLinkHtml = 'Like what you see? Visit the ' +\n",
              "            '<a target=\"_blank\" href=https://colab.research.google.com/notebooks/data_table.ipynb>data table notebook</a>'\n",
              "            + ' to learn more about interactive tables.';\n",
              "          element.innerHTML = '';\n",
              "          dataTable['output_type'] = 'display_data';\n",
              "          await google.colab.output.renderOutput(dataTable, element);\n",
              "          const docLink = document.createElement('div');\n",
              "          docLink.innerHTML = docLinkHtml;\n",
              "          element.appendChild(docLink);\n",
              "        }\n",
              "      </script>\n",
              "    </div>\n",
              "  </div>\n",
              "  "
            ]
          },
          "metadata": {},
          "execution_count": 21
        }
      ]
    },
    {
      "cell_type": "code",
      "source": [
        "cleaned_close_prices_df.shape"
      ],
      "metadata": {
        "colab": {
          "base_uri": "https://localhost:8080/"
        },
        "id": "T14LHQBYlejl",
        "outputId": "636b7fdd-176a-4f7a-d7f8-6a30fd88c147"
      },
      "execution_count": null,
      "outputs": [
        {
          "output_type": "execute_result",
          "data": {
            "text/plain": [
              "(2558, 27)"
            ]
          },
          "metadata": {},
          "execution_count": 11
        }
      ]
    },
    {
      "cell_type": "code",
      "source": [
        "close_log = np.log(cleaned_close_prices_df / cleaned_close_prices_df.shift(1))\n",
        "close_log = close_log[1:]"
      ],
      "metadata": {
        "id": "R6zKwq_Jlhwt"
      },
      "execution_count": null,
      "outputs": []
    },
    {
      "cell_type": "code",
      "source": [
        "close_log.head()"
      ],
      "metadata": {
        "colab": {
          "base_uri": "https://localhost:8080/",
          "height": 417
        },
        "id": "FLF4CSzdmmCm",
        "outputId": "ce68cc99-cfad-42a7-cbc3-762d97026993"
      },
      "execution_count": null,
      "outputs": [
        {
          "output_type": "execute_result",
          "data": {
            "text/plain": [
              "              ANA.MC    ACX.MC    ACS.MC    AMS.MC    MTS.MC    SAB.MC  \\\n",
              "Date                                                                     \n",
              "2013-04-24  0.023309  0.032625  0.001841  0.008423  0.031407 -0.003218   \n",
              "2013-04-25  0.016353  0.000743  0.007851 -0.000454  0.022323  0.002575   \n",
              "2013-04-26  0.001870 -0.003101 -0.002349  0.001360 -0.030379  0.008963   \n",
              "2013-04-29  0.030558  0.013082  0.017612  0.010141  0.023977  0.016436   \n",
              "2013-04-30  0.001509  0.002694  0.002564  0.005144 -0.023007 -0.010082   \n",
              "\n",
              "              BKT.MC   BBVA.MC   CABK.MC    CIE.MC  ...    IDR.MC    COL.MC  \\\n",
              "Date                                                ...                       \n",
              "2013-04-24 -0.012966  0.011662  0.001787  0.003891  ...  0.019669 -0.045462   \n",
              "2013-04-25  0.002978 -0.003964  0.000000  0.000000  ...  0.038506  0.027113   \n",
              "2013-04-26 -0.004844 -0.014067  0.000000  0.000000  ... -0.016733  0.040328   \n",
              "2013-04-29  0.030896  0.029963  0.004277  0.057536  ...  0.020629 -0.024001   \n",
              "2013-04-30  0.012597 -0.006627 -0.000356 -0.022244  ... -0.007319 -0.037118   \n",
              "\n",
              "              MEL.MC   NTGY.MC    PHM.MC    REP.MC    SLR.MC    TRE.MC  \\\n",
              "Date                                                                     \n",
              "2013-04-24 -0.001837  0.018859  0.022914  0.026111 -0.008811  0.004615   \n",
              "2013-04-25  0.000000  0.016020  0.003231 -0.000573  0.017544 -0.000406   \n",
              "2013-04-26  0.001837 -0.018557 -0.039479 -0.007766 -0.017544  0.003921   \n",
              "2013-04-29  0.044851  0.000952  0.029754  0.025094 -0.008889 -0.009354   \n",
              "2013-04-30 -0.013245  0.008527  0.000000  0.002531 -0.027151  0.001633   \n",
              "\n",
              "              TEF.MC    VIS.MC  \n",
              "Date                            \n",
              "2013-04-24  0.017218  0.001997  \n",
              "2013-04-25 -0.001349 -0.031660  \n",
              "2013-04-26 -0.011765  0.000772  \n",
              "2013-04-29  0.014909  0.016070  \n",
              "2013-04-30 -0.000897 -0.002026  \n",
              "\n",
              "[5 rows x 27 columns]"
            ],
            "text/html": [
              "\n",
              "  <div id=\"df-601e5045-c388-4a81-8b43-1159e2f99c10\">\n",
              "    <div class=\"colab-df-container\">\n",
              "      <div>\n",
              "<style scoped>\n",
              "    .dataframe tbody tr th:only-of-type {\n",
              "        vertical-align: middle;\n",
              "    }\n",
              "\n",
              "    .dataframe tbody tr th {\n",
              "        vertical-align: top;\n",
              "    }\n",
              "\n",
              "    .dataframe thead th {\n",
              "        text-align: right;\n",
              "    }\n",
              "</style>\n",
              "<table border=\"1\" class=\"dataframe\">\n",
              "  <thead>\n",
              "    <tr style=\"text-align: right;\">\n",
              "      <th></th>\n",
              "      <th>ANA.MC</th>\n",
              "      <th>ACX.MC</th>\n",
              "      <th>ACS.MC</th>\n",
              "      <th>AMS.MC</th>\n",
              "      <th>MTS.MC</th>\n",
              "      <th>SAB.MC</th>\n",
              "      <th>BKT.MC</th>\n",
              "      <th>BBVA.MC</th>\n",
              "      <th>CABK.MC</th>\n",
              "      <th>CIE.MC</th>\n",
              "      <th>...</th>\n",
              "      <th>IDR.MC</th>\n",
              "      <th>COL.MC</th>\n",
              "      <th>MEL.MC</th>\n",
              "      <th>NTGY.MC</th>\n",
              "      <th>PHM.MC</th>\n",
              "      <th>REP.MC</th>\n",
              "      <th>SLR.MC</th>\n",
              "      <th>TRE.MC</th>\n",
              "      <th>TEF.MC</th>\n",
              "      <th>VIS.MC</th>\n",
              "    </tr>\n",
              "    <tr>\n",
              "      <th>Date</th>\n",
              "      <th></th>\n",
              "      <th></th>\n",
              "      <th></th>\n",
              "      <th></th>\n",
              "      <th></th>\n",
              "      <th></th>\n",
              "      <th></th>\n",
              "      <th></th>\n",
              "      <th></th>\n",
              "      <th></th>\n",
              "      <th></th>\n",
              "      <th></th>\n",
              "      <th></th>\n",
              "      <th></th>\n",
              "      <th></th>\n",
              "      <th></th>\n",
              "      <th></th>\n",
              "      <th></th>\n",
              "      <th></th>\n",
              "      <th></th>\n",
              "      <th></th>\n",
              "    </tr>\n",
              "  </thead>\n",
              "  <tbody>\n",
              "    <tr>\n",
              "      <th>2013-04-24</th>\n",
              "      <td>0.023309</td>\n",
              "      <td>0.032625</td>\n",
              "      <td>0.001841</td>\n",
              "      <td>0.008423</td>\n",
              "      <td>0.031407</td>\n",
              "      <td>-0.003218</td>\n",
              "      <td>-0.012966</td>\n",
              "      <td>0.011662</td>\n",
              "      <td>0.001787</td>\n",
              "      <td>0.003891</td>\n",
              "      <td>...</td>\n",
              "      <td>0.019669</td>\n",
              "      <td>-0.045462</td>\n",
              "      <td>-0.001837</td>\n",
              "      <td>0.018859</td>\n",
              "      <td>0.022914</td>\n",
              "      <td>0.026111</td>\n",
              "      <td>-0.008811</td>\n",
              "      <td>0.004615</td>\n",
              "      <td>0.017218</td>\n",
              "      <td>0.001997</td>\n",
              "    </tr>\n",
              "    <tr>\n",
              "      <th>2013-04-25</th>\n",
              "      <td>0.016353</td>\n",
              "      <td>0.000743</td>\n",
              "      <td>0.007851</td>\n",
              "      <td>-0.000454</td>\n",
              "      <td>0.022323</td>\n",
              "      <td>0.002575</td>\n",
              "      <td>0.002978</td>\n",
              "      <td>-0.003964</td>\n",
              "      <td>0.000000</td>\n",
              "      <td>0.000000</td>\n",
              "      <td>...</td>\n",
              "      <td>0.038506</td>\n",
              "      <td>0.027113</td>\n",
              "      <td>0.000000</td>\n",
              "      <td>0.016020</td>\n",
              "      <td>0.003231</td>\n",
              "      <td>-0.000573</td>\n",
              "      <td>0.017544</td>\n",
              "      <td>-0.000406</td>\n",
              "      <td>-0.001349</td>\n",
              "      <td>-0.031660</td>\n",
              "    </tr>\n",
              "    <tr>\n",
              "      <th>2013-04-26</th>\n",
              "      <td>0.001870</td>\n",
              "      <td>-0.003101</td>\n",
              "      <td>-0.002349</td>\n",
              "      <td>0.001360</td>\n",
              "      <td>-0.030379</td>\n",
              "      <td>0.008963</td>\n",
              "      <td>-0.004844</td>\n",
              "      <td>-0.014067</td>\n",
              "      <td>0.000000</td>\n",
              "      <td>0.000000</td>\n",
              "      <td>...</td>\n",
              "      <td>-0.016733</td>\n",
              "      <td>0.040328</td>\n",
              "      <td>0.001837</td>\n",
              "      <td>-0.018557</td>\n",
              "      <td>-0.039479</td>\n",
              "      <td>-0.007766</td>\n",
              "      <td>-0.017544</td>\n",
              "      <td>0.003921</td>\n",
              "      <td>-0.011765</td>\n",
              "      <td>0.000772</td>\n",
              "    </tr>\n",
              "    <tr>\n",
              "      <th>2013-04-29</th>\n",
              "      <td>0.030558</td>\n",
              "      <td>0.013082</td>\n",
              "      <td>0.017612</td>\n",
              "      <td>0.010141</td>\n",
              "      <td>0.023977</td>\n",
              "      <td>0.016436</td>\n",
              "      <td>0.030896</td>\n",
              "      <td>0.029963</td>\n",
              "      <td>0.004277</td>\n",
              "      <td>0.057536</td>\n",
              "      <td>...</td>\n",
              "      <td>0.020629</td>\n",
              "      <td>-0.024001</td>\n",
              "      <td>0.044851</td>\n",
              "      <td>0.000952</td>\n",
              "      <td>0.029754</td>\n",
              "      <td>0.025094</td>\n",
              "      <td>-0.008889</td>\n",
              "      <td>-0.009354</td>\n",
              "      <td>0.014909</td>\n",
              "      <td>0.016070</td>\n",
              "    </tr>\n",
              "    <tr>\n",
              "      <th>2013-04-30</th>\n",
              "      <td>0.001509</td>\n",
              "      <td>0.002694</td>\n",
              "      <td>0.002564</td>\n",
              "      <td>0.005144</td>\n",
              "      <td>-0.023007</td>\n",
              "      <td>-0.010082</td>\n",
              "      <td>0.012597</td>\n",
              "      <td>-0.006627</td>\n",
              "      <td>-0.000356</td>\n",
              "      <td>-0.022244</td>\n",
              "      <td>...</td>\n",
              "      <td>-0.007319</td>\n",
              "      <td>-0.037118</td>\n",
              "      <td>-0.013245</td>\n",
              "      <td>0.008527</td>\n",
              "      <td>0.000000</td>\n",
              "      <td>0.002531</td>\n",
              "      <td>-0.027151</td>\n",
              "      <td>0.001633</td>\n",
              "      <td>-0.000897</td>\n",
              "      <td>-0.002026</td>\n",
              "    </tr>\n",
              "  </tbody>\n",
              "</table>\n",
              "<p>5 rows × 27 columns</p>\n",
              "</div>\n",
              "      <button class=\"colab-df-convert\" onclick=\"convertToInteractive('df-601e5045-c388-4a81-8b43-1159e2f99c10')\"\n",
              "              title=\"Convert this dataframe to an interactive table.\"\n",
              "              style=\"display:none;\">\n",
              "        \n",
              "  <svg xmlns=\"http://www.w3.org/2000/svg\" height=\"24px\"viewBox=\"0 0 24 24\"\n",
              "       width=\"24px\">\n",
              "    <path d=\"M0 0h24v24H0V0z\" fill=\"none\"/>\n",
              "    <path d=\"M18.56 5.44l.94 2.06.94-2.06 2.06-.94-2.06-.94-.94-2.06-.94 2.06-2.06.94zm-11 1L8.5 8.5l.94-2.06 2.06-.94-2.06-.94L8.5 2.5l-.94 2.06-2.06.94zm10 10l.94 2.06.94-2.06 2.06-.94-2.06-.94-.94-2.06-.94 2.06-2.06.94z\"/><path d=\"M17.41 7.96l-1.37-1.37c-.4-.4-.92-.59-1.43-.59-.52 0-1.04.2-1.43.59L10.3 9.45l-7.72 7.72c-.78.78-.78 2.05 0 2.83L4 21.41c.39.39.9.59 1.41.59.51 0 1.02-.2 1.41-.59l7.78-7.78 2.81-2.81c.8-.78.8-2.07 0-2.86zM5.41 20L4 18.59l7.72-7.72 1.47 1.35L5.41 20z\"/>\n",
              "  </svg>\n",
              "      </button>\n",
              "      \n",
              "  <style>\n",
              "    .colab-df-container {\n",
              "      display:flex;\n",
              "      flex-wrap:wrap;\n",
              "      gap: 12px;\n",
              "    }\n",
              "\n",
              "    .colab-df-convert {\n",
              "      background-color: #E8F0FE;\n",
              "      border: none;\n",
              "      border-radius: 50%;\n",
              "      cursor: pointer;\n",
              "      display: none;\n",
              "      fill: #1967D2;\n",
              "      height: 32px;\n",
              "      padding: 0 0 0 0;\n",
              "      width: 32px;\n",
              "    }\n",
              "\n",
              "    .colab-df-convert:hover {\n",
              "      background-color: #E2EBFA;\n",
              "      box-shadow: 0px 1px 2px rgba(60, 64, 67, 0.3), 0px 1px 3px 1px rgba(60, 64, 67, 0.15);\n",
              "      fill: #174EA6;\n",
              "    }\n",
              "\n",
              "    [theme=dark] .colab-df-convert {\n",
              "      background-color: #3B4455;\n",
              "      fill: #D2E3FC;\n",
              "    }\n",
              "\n",
              "    [theme=dark] .colab-df-convert:hover {\n",
              "      background-color: #434B5C;\n",
              "      box-shadow: 0px 1px 3px 1px rgba(0, 0, 0, 0.15);\n",
              "      filter: drop-shadow(0px 1px 2px rgba(0, 0, 0, 0.3));\n",
              "      fill: #FFFFFF;\n",
              "    }\n",
              "  </style>\n",
              "\n",
              "      <script>\n",
              "        const buttonEl =\n",
              "          document.querySelector('#df-601e5045-c388-4a81-8b43-1159e2f99c10 button.colab-df-convert');\n",
              "        buttonEl.style.display =\n",
              "          google.colab.kernel.accessAllowed ? 'block' : 'none';\n",
              "\n",
              "        async function convertToInteractive(key) {\n",
              "          const element = document.querySelector('#df-601e5045-c388-4a81-8b43-1159e2f99c10');\n",
              "          const dataTable =\n",
              "            await google.colab.kernel.invokeFunction('convertToInteractive',\n",
              "                                                     [key], {});\n",
              "          if (!dataTable) return;\n",
              "\n",
              "          const docLinkHtml = 'Like what you see? Visit the ' +\n",
              "            '<a target=\"_blank\" href=https://colab.research.google.com/notebooks/data_table.ipynb>data table notebook</a>'\n",
              "            + ' to learn more about interactive tables.';\n",
              "          element.innerHTML = '';\n",
              "          dataTable['output_type'] = 'display_data';\n",
              "          await google.colab.output.renderOutput(dataTable, element);\n",
              "          const docLink = document.createElement('div');\n",
              "          docLink.innerHTML = docLinkHtml;\n",
              "          element.appendChild(docLink);\n",
              "        }\n",
              "      </script>\n",
              "    </div>\n",
              "  </div>\n",
              "  "
            ]
          },
          "metadata": {},
          "execution_count": 13
        }
      ]
    },
    {
      "cell_type": "markdown",
      "source": [
        "# para Y calculamos simplemente la rentabilidad pasados x dias"
      ],
      "metadata": {
        "id": "Aucrijg-sQTD"
      }
    },
    {
      "cell_type": "code",
      "source": [
        "dias_dato = 30\n",
        "dias_para_calcular_y = 30\n",
        "num_pasos = close_log.shape[0] - dias_dato - dias_para_calcular_y\n",
        "\n",
        "X = []\n",
        "y = []\n",
        "\n",
        "for i in range(0, num_pasos, dias_dato):\n",
        "    precios = close_log[i:i+dias_dato]\n",
        "    etiqueta = close_log[i+dias_dato:i+dias_dato+dias_para_calcular_y].sum()\n",
        "    \n",
        "    X.append(precios)\n",
        "    y.append(etiqueta)\n",
        "\n",
        "X = np.array(X)\n",
        "y = np.array(y)\n",
        "\n"
      ],
      "metadata": {
        "id": "aPslHJzRpohl"
      },
      "execution_count": null,
      "outputs": []
    },
    {
      "cell_type": "markdown",
      "source": [
        "#PARES no lo estoy usando de momento"
      ],
      "metadata": {
        "id": "LZHdlc8TsYRO"
      }
    },
    {
      "cell_type": "code",
      "source": [
        "from itertools import combinations"
      ],
      "metadata": {
        "id": "iI7Cd7Slssku"
      },
      "execution_count": null,
      "outputs": []
    },
    {
      "cell_type": "code",
      "source": [
        "activos = np.arange(len(close_log.columns))\n",
        "pares = list(combinations(activos, 2))"
      ],
      "metadata": {
        "id": "Yn2U62WsrH2g"
      },
      "execution_count": null,
      "outputs": []
    },
    {
      "cell_type": "code",
      "source": [
        "diferencias_rentabilidad = []\n",
        "\n",
        "for per in y:\n",
        "  dif = per[pares][:, 0] - per[pares][:, 1]\n",
        "\n",
        "  diferencias_rentabilidad.append(dif)\n",
        "\n",
        "  #break\n",
        "#diferencias_rentabilidad\n",
        "diferencias_rentabilidad = np.array(diferencias_rentabilidad)"
      ],
      "metadata": {
        "id": "BRvwYQ5PVoIQ"
      },
      "execution_count": null,
      "outputs": []
    },
    {
      "cell_type": "code",
      "source": [
        "from sklearn.linear_model import LinearRegression\n",
        "from sklearn.metrics import hinge_loss"
      ],
      "metadata": {
        "id": "LjTH9qXcW9hY"
      },
      "execution_count": null,
      "outputs": []
    },
    {
      "cell_type": "code",
      "source": [],
      "metadata": {
        "id": "Yvywkz6sYbwO"
      },
      "execution_count": null,
      "outputs": []
    },
    {
      "cell_type": "markdown",
      "source": [
        "# LISTAS"
      ],
      "metadata": {
        "id": "9-69nc5dZaWh"
      }
    },
    {
      "cell_type": "code",
      "source": [
        "y.shape"
      ],
      "metadata": {
        "colab": {
          "base_uri": "https://localhost:8080/"
        },
        "id": "2v25s5DoZiMq",
        "outputId": "1b94792f-4008-4686-dd26-5e444d46a92f"
      },
      "execution_count": null,
      "outputs": [
        {
          "output_type": "execute_result",
          "data": {
            "text/plain": [
              "(84, 27)"
            ]
          },
          "metadata": {},
          "execution_count": 104
        }
      ]
    },
    {
      "cell_type": "code",
      "source": [
        "np.argsort(y)[::-1].shape"
      ],
      "metadata": {
        "colab": {
          "base_uri": "https://localhost:8080/"
        },
        "id": "DW0nGCvPZeJV",
        "outputId": "083026c2-04e0-4c50-b80e-0dad6486727b"
      },
      "execution_count": null,
      "outputs": [
        {
          "output_type": "execute_result",
          "data": {
            "text/plain": [
              "(84, 27)"
            ]
          },
          "metadata": {},
          "execution_count": 105
        }
      ]
    },
    {
      "cell_type": "code",
      "source": [
        "ranking_real_rentabilidad = np.argsort(y)[::-1]"
      ],
      "metadata": {
        "id": "gVxHdlgKZbQ_"
      },
      "execution_count": null,
      "outputs": []
    },
    {
      "cell_type": "markdown",
      "source": [
        "## funcion de perdida"
      ],
      "metadata": {
        "id": "WMEGe6Eqna1t"
      }
    },
    {
      "cell_type": "code",
      "source": [
        "import tensorflow as tf\n",
        "\n",
        "def perdida_listas(ranking_real, ranking_predicho):\n",
        "    diferencias = tf.abs(ranking_real - ranking_predicho)\n",
        "    perdida_total = tf.reduce_sum(diferencias)\n",
        "    return perdida_total\n"
      ],
      "metadata": {
        "id": "p8mlivuRZuUq"
      },
      "execution_count": null,
      "outputs": []
    },
    {
      "cell_type": "markdown",
      "source": [
        "# TRAIN AND TEST"
      ],
      "metadata": {
        "id": "x-zW1iQpYcYH"
      }
    },
    {
      "cell_type": "code",
      "source": [
        "X.shape, ranking_real_rentabilidad.shape"
      ],
      "metadata": {
        "colab": {
          "base_uri": "https://localhost:8080/"
        },
        "id": "2HLxcrHjYloN",
        "outputId": "c54a4898-7650-4ff8-bfd3-536f05182fcc"
      },
      "execution_count": null,
      "outputs": [
        {
          "output_type": "execute_result",
          "data": {
            "text/plain": [
              "((84, 30, 27), (84, 27))"
            ]
          },
          "metadata": {},
          "execution_count": 108
        }
      ]
    },
    {
      "cell_type": "code",
      "source": [
        "from sklearn.model_selection import train_test_split\n",
        "\n",
        "X_train, X_test, y_train, y_test = train_test_split(X, ranking_real_rentabilidad, test_size=0.3, random_state=42, shuffle = True)\n",
        "y_train = y_train.astype(np.float32)\n",
        "y_test = y_test.astype(np.float32)"
      ],
      "metadata": {
        "id": "otrGlufgYZ0A"
      },
      "execution_count": null,
      "outputs": []
    },
    {
      "cell_type": "code",
      "source": [
        "X_train.shape, y_train.shape"
      ],
      "metadata": {
        "colab": {
          "base_uri": "https://localhost:8080/"
        },
        "id": "O1yD_PvVaExM",
        "outputId": "2a6513d3-702f-4cd3-f1e2-97665a97dd46"
      },
      "execution_count": null,
      "outputs": [
        {
          "output_type": "execute_result",
          "data": {
            "text/plain": [
              "((58, 30, 27), (58, 27))"
            ]
          },
          "metadata": {},
          "execution_count": 228
        }
      ]
    },
    {
      "cell_type": "markdown",
      "source": [
        "#MODEL LISTAS"
      ],
      "metadata": {
        "id": "wGEAgx6bltta"
      }
    },
    {
      "cell_type": "code",
      "source": [
        "from keras.models import Sequential\n",
        "from keras.layers import LSTM, Dense"
      ],
      "metadata": {
        "id": "NXslS8DObW6B"
      },
      "execution_count": null,
      "outputs": []
    },
    {
      "cell_type": "code",
      "source": [],
      "metadata": {
        "id": "DLxNHLgHceob"
      },
      "execution_count": null,
      "outputs": []
    },
    {
      "cell_type": "code",
      "source": [
        "model_listas = Sequential()\n",
        "model_listas.add(LSTM(units=100, input_shape=(X_train.shape[1], X_train.shape[2]), activation = 'tanh'))\n",
        "model_listas.add(Dense(100, activation = 'relu'))\n",
        "model_listas.add(Dense(50, activation = 'relu'))\n",
        "model_listas.add(Dense(y_train.shape[1]))\n",
        "\n",
        "model_listas.compile(optimizer='adam', loss=perdida_listas)\n",
        "\n",
        "model_listas.summary()"
      ],
      "metadata": {
        "colab": {
          "base_uri": "https://localhost:8080/"
        },
        "id": "UQLX99FubUIB",
        "outputId": "aa982a07-89aa-443a-f98b-37b98e0f597b"
      },
      "execution_count": null,
      "outputs": [
        {
          "output_type": "stream",
          "name": "stdout",
          "text": [
            "Model: \"sequential_26\"\n",
            "_________________________________________________________________\n",
            " Layer (type)                Output Shape              Param #   \n",
            "=================================================================\n",
            " lstm_26 (LSTM)              (None, 100)               51200     \n",
            "                                                                 \n",
            " dense_54 (Dense)            (None, 100)               10100     \n",
            "                                                                 \n",
            " dense_55 (Dense)            (None, 50)                5050      \n",
            "                                                                 \n",
            " dense_56 (Dense)            (None, 27)                1377      \n",
            "                                                                 \n",
            "=================================================================\n",
            "Total params: 67,727\n",
            "Trainable params: 67,727\n",
            "Non-trainable params: 0\n",
            "_________________________________________________________________\n"
          ]
        }
      ]
    },
    {
      "cell_type": "code",
      "source": [
        "history = model_listas.fit(X_train, y_train, epochs=50, batch_size=10, validation_split=0.2, verbose=1)"
      ],
      "metadata": {
        "colab": {
          "base_uri": "https://localhost:8080/"
        },
        "id": "D6GtMMhUbvxb",
        "outputId": "8890fa1f-49e3-4cf4-a574-b463a72435a0"
      },
      "execution_count": null,
      "outputs": [
        {
          "output_type": "stream",
          "name": "stdout",
          "text": [
            "Epoch 1/50\n",
            "5/5 [==============================] - 4s 169ms/step - loss: 3325.5452 - val_loss: 3037.3123\n",
            "Epoch 2/50\n",
            "5/5 [==============================] - 0s 52ms/step - loss: 3318.5571 - val_loss: 3022.9436\n",
            "Epoch 3/50\n",
            "5/5 [==============================] - 0s 49ms/step - loss: 3285.9126 - val_loss: 2894.6306\n",
            "Epoch 4/50\n",
            "5/5 [==============================] - 0s 48ms/step - loss: 3004.5415 - val_loss: 2455.6257\n",
            "Epoch 5/50\n",
            "5/5 [==============================] - 0s 48ms/step - loss: 2639.2820 - val_loss: 2156.4851\n",
            "Epoch 6/50\n",
            "5/5 [==============================] - 0s 51ms/step - loss: 2328.0085 - val_loss: 1892.1476\n",
            "Epoch 7/50\n",
            "5/5 [==============================] - 0s 51ms/step - loss: 2094.7698 - val_loss: 1762.7164\n",
            "Epoch 8/50\n",
            "5/5 [==============================] - 0s 46ms/step - loss: 1956.5226 - val_loss: 1698.0516\n",
            "Epoch 9/50\n",
            "5/5 [==============================] - 0s 45ms/step - loss: 1866.6735 - val_loss: 1649.3087\n",
            "Epoch 10/50\n",
            "5/5 [==============================] - 0s 51ms/step - loss: 1792.4526 - val_loss: 1625.0498\n",
            "Epoch 11/50\n",
            "5/5 [==============================] - 0s 49ms/step - loss: 1755.2756 - val_loss: 1608.0468\n",
            "Epoch 12/50\n",
            "5/5 [==============================] - 0s 48ms/step - loss: 1725.3989 - val_loss: 1596.4415\n",
            "Epoch 13/50\n",
            "5/5 [==============================] - 0s 51ms/step - loss: 1707.5272 - val_loss: 1598.0829\n",
            "Epoch 14/50\n",
            "5/5 [==============================] - 0s 38ms/step - loss: 1689.1433 - val_loss: 1608.4974\n",
            "Epoch 15/50\n",
            "5/5 [==============================] - 0s 32ms/step - loss: 1685.2694 - val_loss: 1623.8173\n",
            "Epoch 16/50\n",
            "5/5 [==============================] - 0s 35ms/step - loss: 1683.5499 - val_loss: 1629.9435\n",
            "Epoch 17/50\n",
            "5/5 [==============================] - 0s 30ms/step - loss: 1679.5133 - val_loss: 1637.3986\n",
            "Epoch 18/50\n",
            "5/5 [==============================] - 0s 37ms/step - loss: 1680.7583 - val_loss: 1639.5698\n",
            "Epoch 19/50\n",
            "5/5 [==============================] - 0s 32ms/step - loss: 1676.2206 - val_loss: 1636.3168\n",
            "Epoch 20/50\n",
            "5/5 [==============================] - 0s 35ms/step - loss: 1683.5183 - val_loss: 1633.1200\n",
            "Epoch 21/50\n",
            "5/5 [==============================] - 0s 34ms/step - loss: 1675.8634 - val_loss: 1636.9786\n",
            "Epoch 22/50\n",
            "5/5 [==============================] - 0s 35ms/step - loss: 1675.3889 - val_loss: 1643.4595\n",
            "Epoch 23/50\n",
            "5/5 [==============================] - 0s 33ms/step - loss: 1680.6162 - val_loss: 1639.8926\n",
            "Epoch 24/50\n",
            "5/5 [==============================] - 0s 32ms/step - loss: 1681.5177 - val_loss: 1641.2806\n",
            "Epoch 25/50\n",
            "5/5 [==============================] - 0s 34ms/step - loss: 1678.9680 - val_loss: 1637.5713\n",
            "Epoch 26/50\n",
            "5/5 [==============================] - 0s 31ms/step - loss: 1678.3157 - val_loss: 1639.3335\n",
            "Epoch 27/50\n",
            "5/5 [==============================] - 0s 36ms/step - loss: 1678.8502 - val_loss: 1640.6603\n",
            "Epoch 28/50\n",
            "5/5 [==============================] - 0s 35ms/step - loss: 1675.9592 - val_loss: 1640.1021\n",
            "Epoch 29/50\n",
            "5/5 [==============================] - 0s 31ms/step - loss: 1683.0109 - val_loss: 1639.4042\n",
            "Epoch 30/50\n",
            "5/5 [==============================] - 0s 34ms/step - loss: 1679.8351 - val_loss: 1640.4523\n",
            "Epoch 31/50\n",
            "5/5 [==============================] - 0s 36ms/step - loss: 1680.9084 - val_loss: 1637.2002\n",
            "Epoch 32/50\n",
            "5/5 [==============================] - 0s 32ms/step - loss: 1678.4926 - val_loss: 1636.1660\n",
            "Epoch 33/50\n",
            "5/5 [==============================] - 0s 29ms/step - loss: 1678.3380 - val_loss: 1636.0507\n",
            "Epoch 34/50\n",
            "5/5 [==============================] - 0s 33ms/step - loss: 1680.3142 - val_loss: 1640.3490\n",
            "Epoch 35/50\n",
            "5/5 [==============================] - 0s 38ms/step - loss: 1680.0010 - val_loss: 1641.4850\n",
            "Epoch 36/50\n",
            "5/5 [==============================] - 0s 33ms/step - loss: 1678.9354 - val_loss: 1645.0449\n",
            "Epoch 37/50\n",
            "5/5 [==============================] - 0s 38ms/step - loss: 1678.7639 - val_loss: 1637.1373\n",
            "Epoch 38/50\n",
            "5/5 [==============================] - 0s 31ms/step - loss: 1682.0730 - val_loss: 1638.8545\n",
            "Epoch 39/50\n",
            "5/5 [==============================] - 0s 32ms/step - loss: 1676.6857 - val_loss: 1642.1284\n",
            "Epoch 40/50\n",
            "5/5 [==============================] - 0s 33ms/step - loss: 1676.6185 - val_loss: 1644.3384\n",
            "Epoch 41/50\n",
            "5/5 [==============================] - 0s 31ms/step - loss: 1679.4664 - val_loss: 1644.2007\n",
            "Epoch 42/50\n",
            "5/5 [==============================] - 0s 33ms/step - loss: 1677.2766 - val_loss: 1643.8359\n",
            "Epoch 43/50\n",
            "5/5 [==============================] - 0s 33ms/step - loss: 1679.2097 - val_loss: 1643.7539\n",
            "Epoch 44/50\n",
            "5/5 [==============================] - 0s 31ms/step - loss: 1680.0647 - val_loss: 1646.4321\n",
            "Epoch 45/50\n",
            "5/5 [==============================] - 0s 31ms/step - loss: 1675.5200 - val_loss: 1645.9672\n",
            "Epoch 46/50\n",
            "5/5 [==============================] - 0s 33ms/step - loss: 1680.0603 - val_loss: 1642.5648\n",
            "Epoch 47/50\n",
            "5/5 [==============================] - 0s 29ms/step - loss: 1681.3933 - val_loss: 1637.8898\n",
            "Epoch 48/50\n",
            "5/5 [==============================] - 0s 30ms/step - loss: 1672.1432 - val_loss: 1637.7318\n",
            "Epoch 49/50\n",
            "5/5 [==============================] - 0s 31ms/step - loss: 1679.3743 - val_loss: 1636.4225\n",
            "Epoch 50/50\n",
            "5/5 [==============================] - 0s 33ms/step - loss: 1679.1254 - val_loss: 1635.8429\n"
          ]
        }
      ]
    },
    {
      "cell_type": "markdown",
      "source": [
        "## EVALUACION"
      ],
      "metadata": {
        "id": "8VP3tTstpAhw"
      }
    },
    {
      "cell_type": "code",
      "source": [
        "import matplotlib.pyplot as plt"
      ],
      "metadata": {
        "id": "r9jL6qrRgQZE"
      },
      "execution_count": null,
      "outputs": []
    },
    {
      "cell_type": "code",
      "source": [
        "plt.plot(history.history['loss'], 'b')\n",
        "plt.plot(history.history['val_loss'], 'r')"
      ],
      "metadata": {
        "colab": {
          "base_uri": "https://localhost:8080/",
          "height": 448
        },
        "id": "r_e-1OVOgRAl",
        "outputId": "30d25c61-5fbf-4dcd-9078-1a1b129cc2e6"
      },
      "execution_count": null,
      "outputs": [
        {
          "output_type": "execute_result",
          "data": {
            "text/plain": [
              "[<matplotlib.lines.Line2D at 0x7f7d317dfb50>]"
            ]
          },
          "metadata": {},
          "execution_count": 255
        },
        {
          "output_type": "display_data",
          "data": {
            "text/plain": [
              "<Figure size 640x480 with 1 Axes>"
            ],
            "image/png": "[encoded data removed]"
          },
          "metadata": {}
        }
      ]
    },
    {
      "cell_type": "code",
      "source": [
        "y_test[0:1]"
      ],
      "metadata": {
        "colab": {
          "base_uri": "https://localhost:8080/"
        },
        "id": "4UHLO9xYhkAZ",
        "outputId": "a1ecdd1d-d813-41c8-9189-101f5bd59906"
      },
      "execution_count": null,
      "outputs": [
        {
          "output_type": "execute_result",
          "data": {
            "text/plain": [
              "array([[18., 21., 13., 15., 19.,  3., 25., 22.,  2., 26., 17., 10., 12.,\n",
              "        20., 16., 11., 23.,  0., 24.,  4.,  7.,  5.,  9.,  6.,  1.,  8.,\n",
              "        14.]], dtype=float32)"
            ]
          },
          "metadata": {},
          "execution_count": 256
        }
      ]
    },
    {
      "cell_type": "code",
      "source": [
        "puntajes = model_listas.predict(X_test[0:1])\n",
        "# Ordena los elementos según sus puntajes\n",
        "indices_ordenados = np.argsort(-puntajes)"
      ],
      "metadata": {
        "colab": {
          "base_uri": "https://localhost:8080/"
        },
        "id": "mSPg-G4Qf4ky",
        "outputId": "e41bf3ae-7406-42dc-8735-2c474e29d2db"
      },
      "execution_count": null,
      "outputs": [
        {
          "output_type": "stream",
          "name": "stdout",
          "text": [
            "1/1 [==============================] - 0s 465ms/step\n"
          ]
        }
      ]
    },
    {
      "cell_type": "code",
      "source": [
        "puntajes[0]"
      ],
      "metadata": {
        "colab": {
          "base_uri": "https://localhost:8080/"
        },
        "id": "x-bALd5HhJxJ",
        "outputId": "8bd7bdc1-5db5-4b9f-d10d-a5253c7da7c6"
      },
      "execution_count": null,
      "outputs": [
        {
          "output_type": "execute_result",
          "data": {
            "text/plain": [
              "array([14.265223 , 11.560456 , 10.597901 , 14.790096 , 10.9917345,\n",
              "        7.580017 , 15.118959 , 12.170841 , 15.244124 , 14.351833 ,\n",
              "       14.613194 , 12.288717 , 12.8536825, 17.372469 , 13.132872 ,\n",
              "       12.573184 , 12.944057 , 11.144542 , 11.996893 , 10.2542305,\n",
              "       12.392731 , 14.21827  , 15.212286 , 11.377636 , 13.028699 ,\n",
              "       14.960397 , 20.355288 ], dtype=float32)"
            ]
          },
          "metadata": {},
          "execution_count": 258
        }
      ]
    },
    {
      "cell_type": "code",
      "source": [
        "indices_ordenados"
      ],
      "metadata": {
        "colab": {
          "base_uri": "https://localhost:8080/"
        },
        "id": "-zAtgFw_hOXS",
        "outputId": "b679a003-eed5-4d87-b016-71f9ce8bbbde"
      },
      "execution_count": null,
      "outputs": [
        {
          "output_type": "execute_result",
          "data": {
            "text/plain": [
              "array([[26, 13,  8, 22,  6, 25,  3, 10,  9,  0, 21, 14, 24, 16, 12, 15,\n",
              "        20, 11,  7, 18,  1, 23, 17,  4,  2, 19,  5]])"
            ]
          },
          "metadata": {},
          "execution_count": 259
        }
      ]
    },
    {
      "cell_type": "code",
      "source": [
        "perdida_listas(y_test[0:1], indices_ordenados)"
      ],
      "metadata": {
        "colab": {
          "base_uri": "https://localhost:8080/"
        },
        "id": "UNx9SEZGiS0o",
        "outputId": "7f0ab849-0fcb-413b-db70-dd2e28f716f0"
      },
      "execution_count": null,
      "outputs": [
        {
          "output_type": "execute_result",
          "data": {
            "text/plain": [
              "<tf.Tensor: shape=(), dtype=float64, numpy=262.0>"
            ]
          },
          "metadata": {},
          "execution_count": 260
        }
      ]
    },
    {
      "cell_type": "code",
      "source": [
        "loss = model_listas.evaluate(X_test, y_test, verbose=1)\n",
        "print(\"Loss promedio del modelo en los datos de prueba:\", loss/X_test.shape[0])"
      ],
      "metadata": {
        "colab": {
          "base_uri": "https://localhost:8080/"
        },
        "id": "QNicOuCvdyTw",
        "outputId": "14bf2c34-796d-413b-a318-4e41d4750bfd"
      },
      "execution_count": null,
      "outputs": [
        {
          "output_type": "stream",
          "name": "stdout",
          "text": [
            "1/1 [==============================] - 0s 37ms/step - loss: 4892.3472\n",
            "Loss promedio del modelo en los datos de prueba: 188.16719876802884\n"
          ]
        }
      ]
    },
    {
      "cell_type": "code",
      "source": [],
      "metadata": {
        "id": "q_DW7lMkpF_8"
      },
      "execution_count": null,
      "outputs": []
    },
    {
      "cell_type": "markdown",
      "source": [
        "# MARKO"
      ],
      "metadata": {
        "id": "N0eCeqZZpMDc"
      }
    },
    {
      "cell_type": "code",
      "source": [
        "X_test.shape, dias_dato, dias_para_calcular_y  "
      ],
      "metadata": {
        "colab": {
          "base_uri": "https://localhost:8080/"
        },
        "id": "r0gmfP1Wq64j",
        "outputId": "221edc5e-83e5-4ef6-e394-c9350edfc918"
      },
      "execution_count": null,
      "outputs": [
        {
          "output_type": "execute_result",
          "data": {
            "text/plain": [
              "((26, 30, 27), 30, 30)"
            ]
          },
          "metadata": {},
          "execution_count": 283
        }
      ]
    },
    {
      "cell_type": "code",
      "source": [
        "26*30"
      ],
      "metadata": {
        "colab": {
          "base_uri": "https://localhost:8080/"
        },
        "id": "M0zVg33hrgJV",
        "outputId": "32c6fecb-fed7-4a0b-8069-5dd7c073935e"
      },
      "execution_count": null,
      "outputs": [
        {
          "output_type": "execute_result",
          "data": {
            "text/plain": [
              "780"
            ]
          },
          "metadata": {},
          "execution_count": 284
        }
      ]
    },
    {
      "cell_type": "code",
      "source": [
        "historico_para_marko = cleaned_close_prices_df[-780:]\n",
        "historico_para_marko.shape"
      ],
      "metadata": {
        "colab": {
          "base_uri": "https://localhost:8080/"
        },
        "id": "DMFXSManr0H6",
        "outputId": "fd62474c-c42f-4a3a-bf9b-f633e4142faa"
      },
      "execution_count": null,
      "outputs": [
        {
          "output_type": "execute_result",
          "data": {
            "text/plain": [
              "(780, 27)"
            ]
          },
          "metadata": {},
          "execution_count": 289
        }
      ]
    },
    {
      "cell_type": "code",
      "source": [
        "def pesos_marko(datos_top, num_portfolios = 1000):\n",
        "  \n",
        "  returns = datos_top.pct_change().dropna()\n",
        "  cov_matrix = returns.cov()\n",
        "  tickers = datos_top.columns\n",
        "  # Número de simulaciones de cartera\n",
        "\n",
        "  # Inicializar arrays para almacenar los resultados de las simulaciones\n",
        "  portfolio_returns = np.zeros(num_portfolios)\n",
        "  portfolio_volatilities = np.zeros(num_portfolios)\n",
        "  portfolio_weights = np.zeros((num_portfolios, len(tickers)))\n",
        "\n",
        "  # Realizar las simulaciones de cartera\n",
        "  for i in range(num_portfolios):\n",
        "      # Generar ponderaciones aleatorias y normalizarlas para que sumen 1\n",
        "      weights = np.random.random(len(tickers))\n",
        "      weights /= np.sum(weights)\n",
        "\n",
        "      # Calcular el rendimiento y la volatilidad de la cartera\n",
        "      portfolio_return = np.dot(weights, returns.mean()) * 252\n",
        "      portfolio_volatility = np.sqrt(np.dot(weights.T, np.dot(cov_matrix, weights))) * np.sqrt(252)\n",
        "\n",
        "      # Almacenar los resultados\n",
        "      portfolio_returns[i] = portfolio_return\n",
        "      portfolio_volatilities[i] = portfolio_volatility\n",
        "      portfolio_weights[i, :] = weights\n",
        "\n",
        "  # Supongamos una tasa libre de riesgo del ...\n",
        "  risk_free_rate = 0.01\n",
        "\n",
        "  # Calcular el índice de Sharpe para cada cartera simulada\n",
        "  sharpe_ratios = (portfolio_returns - risk_free_rate) / portfolio_volatilities\n",
        "\n",
        "  carteras_ordenadas = np.argsort(-sharpe_ratios) \n",
        "\n",
        "  return portfolio_weights[carteras_ordenadas[0]]"
      ],
      "metadata": {
        "id": "eFBHsNO4wKcO"
      },
      "execution_count": null,
      "outputs": []
    },
    {
      "cell_type": "code",
      "source": [
        "inicio = 0\n",
        "paso = 30\n",
        "final = historico_para_marko.shape[0] - paso - paso\n",
        "\n",
        "top_marko = 5\n",
        "num_carteras_marko = 1000\n",
        "\n",
        "historico_balance = []\n",
        "dias_balance = []\n",
        "\n",
        "for i in range(inicio, final, paso):\n",
        "    dato = historico_para_marko[i:i+paso]\n",
        "    #print(dato.shape)\n",
        "\n",
        "    log_ret = np.log(dato / dato.shift(1)).dropna()\n",
        "    #print(log_ret.shape)\n",
        "\n",
        "    log_ret = np.array(log_ret).reshape(1, log_ret.shape[0], log_ret.shape[1])\n",
        "\n",
        "    # //\\\\ AQUI USAMOS NUESTRO MODELO //\\\\\n",
        "\n",
        "    puntajes = model_listas.predict(log_ret)\n",
        "    #print(puntajes.shape)\n",
        "    #print(puntajes)\n",
        "    indices_ordenados = np.argsort(-puntajes)\n",
        "    #print(indices_ordenados)\n",
        "    top = indices_ordenados[0][0:top_marko]\n",
        "    #print(top)\n",
        "    datos_top = dato.iloc[:,top]\n",
        "    #print(datos_top.head())\n",
        "\n",
        "    pesos = pesos_marko(datos_top, num_carteras_marko)\n",
        "    #print(pesos.shape)\n",
        "\n",
        "    datos_futuro = historico_para_marko.iloc[:,top][i+paso:i+paso+paso]\n",
        "    #rendimiento_futuro = np.log(datos_futuro/datos_futuro.shift(1)).dropna().sum()\n",
        "    rendimiento_futuro = datos_futuro.pct_change().dropna().sum()\n",
        "    #print(rendimiento_futuro.shape)\n",
        "    #print(datos_futuro.columns)\n",
        "    #print(rendimiento_futuro)\n",
        "\n",
        "    balance = (pesos * rendimiento_futuro).sum()\n",
        "    #print(balance)\n",
        "\n",
        "    historico_balance.append(balance)\n",
        "\n",
        "    dias_balance.append(dato.index[-1])\n",
        "    "
      ],
      "metadata": {
        "colab": {
          "base_uri": "https://localhost:8080/"
        },
        "id": "smQLr6Y1sFXc",
        "outputId": "2807ea7d-1e31-4b4d-d5be-1ce43e7efbae"
      },
      "execution_count": null,
      "outputs": [
        {
          "output_type": "stream",
          "name": "stdout",
          "text": [
            "1/1 [==============================] - 0s 35ms/step\n",
            "1/1 [==============================] - 0s 27ms/step\n",
            "1/1 [==============================] - 0s 26ms/step\n",
            "1/1 [==============================] - 0s 42ms/step\n",
            "1/1 [==============================] - 0s 116ms/step\n",
            "1/1 [==============================] - 0s 43ms/step\n",
            "1/1 [==============================] - 0s 26ms/step\n",
            "1/1 [==============================] - 0s 25ms/step\n",
            "1/1 [==============================] - 0s 27ms/step\n",
            "1/1 [==============================] - 0s 26ms/step\n",
            "1/1 [==============================] - 0s 26ms/step\n",
            "1/1 [==============================] - 0s 25ms/step\n",
            "1/1 [==============================] - 0s 28ms/step\n",
            "1/1 [==============================] - 0s 25ms/step\n",
            "1/1 [==============================] - 0s 26ms/step\n",
            "1/1 [==============================] - 0s 27ms/step\n",
            "1/1 [==============================] - 0s 26ms/step\n",
            "1/1 [==============================] - 0s 27ms/step\n",
            "1/1 [==============================] - 0s 28ms/step\n",
            "1/1 [==============================] - 0s 27ms/step\n",
            "1/1 [==============================] - 0s 25ms/step\n",
            "1/1 [==============================] - 0s 36ms/step\n",
            "1/1 [==============================] - 0s 47ms/step\n",
            "1/1 [==============================] - 0s 38ms/step\n"
          ]
        }
      ]
    },
    {
      "cell_type": "code",
      "source": [
        "historico_para_marko.index[0], historico_para_marko.index[-1]"
      ],
      "metadata": {
        "colab": {
          "base_uri": "https://localhost:8080/"
        },
        "id": "ujEl96n85wlU",
        "outputId": "6bae4e21-92ba-4e19-e897-59041554264f"
      },
      "execution_count": null,
      "outputs": [
        {
          "output_type": "execute_result",
          "data": {
            "text/plain": [
              "(Timestamp('2020-04-06 00:00:00'), Timestamp('2023-04-20 00:00:00'))"
            ]
          },
          "metadata": {},
          "execution_count": 586
        }
      ]
    },
    {
      "cell_type": "code",
      "source": [
        "# retorno cutre anualizado\n",
        "( (pd.Series(historico_balance).cumsum() + 1)[-1:] -1 ) / 3"
      ],
      "metadata": {
        "colab": {
          "base_uri": "https://localhost:8080/"
        },
        "id": "dFd4DYSr6CCL",
        "outputId": "fa6acdb9-d1a8-49be-a67a-008537af59ec"
      },
      "execution_count": null,
      "outputs": [
        {
          "output_type": "execute_result",
          "data": {
            "text/plain": [
              "23    0.102571\n",
              "dtype: float64"
            ]
          },
          "metadata": {},
          "execution_count": 587
        }
      ]
    },
    {
      "cell_type": "code",
      "source": [
        "plt.plot(pd.Series(historico_balance).cumsum() + 1)"
      ],
      "metadata": {
        "colab": {
          "base_uri": "https://localhost:8080/",
          "height": 448
        },
        "id": "CFBj0qz99grG",
        "outputId": "afaad771-6f93-440b-e3a0-a3569753ec0e"
      },
      "execution_count": null,
      "outputs": [
        {
          "output_type": "execute_result",
          "data": {
            "text/plain": [
              "[<matplotlib.lines.Line2D at 0x7f7d39a05c10>]"
            ]
          },
          "metadata": {},
          "execution_count": 588
        },
        {
          "output_type": "display_data",
          "data": {
            "text/plain": [
              "<Figure size 640x480 with 1 Axes>"
            ],
            "image/png": "[encoded data removed]"
          },
          "metadata": {}
        }
      ]
    },
    {
      "cell_type": "markdown",
      "source": [
        "# COMPARAR CON BENCHMARk"
      ],
      "metadata": {
        "id": "9d9oaYNp9hEF"
      }
    },
    {
      "cell_type": "code",
      "source": [
        "retornos_modelo = pd.DataFrame(historico_balance, index = dias_balance)\n",
        "retornos_modelo.head()"
      ],
      "metadata": {
        "colab": {
          "base_uri": "https://localhost:8080/",
          "height": 206
        },
        "id": "jpqMgHnBFkKA",
        "outputId": "d7ad8a33-8213-4032-f2af-8c8584f775fc"
      },
      "execution_count": null,
      "outputs": [
        {
          "output_type": "execute_result",
          "data": {
            "text/plain": [
              "                   0\n",
              "2020-05-20  0.024506\n",
              "2020-07-01  0.072704\n",
              "2020-08-12 -0.138341\n",
              "2020-09-23 -0.113760\n",
              "2020-11-04  0.144537"
            ],
            "text/html": [
              "\n",
              "  <div id=\"df-bf3dbc1d-4c69-4c96-bb44-457deb94ff8e\">\n",
              "    <div class=\"colab-df-container\">\n",
              "      <div>\n",
              "<style scoped>\n",
              "    .dataframe tbody tr th:only-of-type {\n",
              "        vertical-align: middle;\n",
              "    }\n",
              "\n",
              "    .dataframe tbody tr th {\n",
              "        vertical-align: top;\n",
              "    }\n",
              "\n",
              "    .dataframe thead th {\n",
              "        text-align: right;\n",
              "    }\n",
              "</style>\n",
              "<table border=\"1\" class=\"dataframe\">\n",
              "  <thead>\n",
              "    <tr style=\"text-align: right;\">\n",
              "      <th></th>\n",
              "      <th>0</th>\n",
              "    </tr>\n",
              "  </thead>\n",
              "  <tbody>\n",
              "    <tr>\n",
              "      <th>2020-05-20</th>\n",
              "      <td>0.024506</td>\n",
              "    </tr>\n",
              "    <tr>\n",
              "      <th>2020-07-01</th>\n",
              "      <td>0.072704</td>\n",
              "    </tr>\n",
              "    <tr>\n",
              "      <th>2020-08-12</th>\n",
              "      <td>-0.138341</td>\n",
              "    </tr>\n",
              "    <tr>\n",
              "      <th>2020-09-23</th>\n",
              "      <td>-0.113760</td>\n",
              "    </tr>\n",
              "    <tr>\n",
              "      <th>2020-11-04</th>\n",
              "      <td>0.144537</td>\n",
              "    </tr>\n",
              "  </tbody>\n",
              "</table>\n",
              "</div>\n",
              "      <button class=\"colab-df-convert\" onclick=\"convertToInteractive('df-bf3dbc1d-4c69-4c96-bb44-457deb94ff8e')\"\n",
              "              title=\"Convert this dataframe to an interactive table.\"\n",
              "              style=\"display:none;\">\n",
              "        \n",
              "  <svg xmlns=\"http://www.w3.org/2000/svg\" height=\"24px\"viewBox=\"0 0 24 24\"\n",
              "       width=\"24px\">\n",
              "    <path d=\"M0 0h24v24H0V0z\" fill=\"none\"/>\n",
              "    <path d=\"M18.56 5.44l.94 2.06.94-2.06 2.06-.94-2.06-.94-.94-2.06-.94 2.06-2.06.94zm-11 1L8.5 8.5l.94-2.06 2.06-.94-2.06-.94L8.5 2.5l-.94 2.06-2.06.94zm10 10l.94 2.06.94-2.06 2.06-.94-2.06-.94-.94-2.06-.94 2.06-2.06.94z\"/><path d=\"M17.41 7.96l-1.37-1.37c-.4-.4-.92-.59-1.43-.59-.52 0-1.04.2-1.43.59L10.3 9.45l-7.72 7.72c-.78.78-.78 2.05 0 2.83L4 21.41c.39.39.9.59 1.41.59.51 0 1.02-.2 1.41-.59l7.78-7.78 2.81-2.81c.8-.78.8-2.07 0-2.86zM5.41 20L4 18.59l7.72-7.72 1.47 1.35L5.41 20z\"/>\n",
              "  </svg>\n",
              "      </button>\n",
              "      \n",
              "  <style>\n",
              "    .colab-df-container {\n",
              "      display:flex;\n",
              "      flex-wrap:wrap;\n",
              "      gap: 12px;\n",
              "    }\n",
              "\n",
              "    .colab-df-convert {\n",
              "      background-color: #E8F0FE;\n",
              "      border: none;\n",
              "      border-radius: 50%;\n",
              "      cursor: pointer;\n",
              "      display: none;\n",
              "      fill: #1967D2;\n",
              "      height: 32px;\n",
              "      padding: 0 0 0 0;\n",
              "      width: 32px;\n",
              "    }\n",
              "\n",
              "    .colab-df-convert:hover {\n",
              "      background-color: #E2EBFA;\n",
              "      box-shadow: 0px 1px 2px rgba(60, 64, 67, 0.3), 0px 1px 3px 1px rgba(60, 64, 67, 0.15);\n",
              "      fill: #174EA6;\n",
              "    }\n",
              "\n",
              "    [theme=dark] .colab-df-convert {\n",
              "      background-color: #3B4455;\n",
              "      fill: #D2E3FC;\n",
              "    }\n",
              "\n",
              "    [theme=dark] .colab-df-convert:hover {\n",
              "      background-color: #434B5C;\n",
              "      box-shadow: 0px 1px 3px 1px rgba(0, 0, 0, 0.15);\n",
              "      filter: drop-shadow(0px 1px 2px rgba(0, 0, 0, 0.3));\n",
              "      fill: #FFFFFF;\n",
              "    }\n",
              "  </style>\n",
              "\n",
              "      <script>\n",
              "        const buttonEl =\n",
              "          document.querySelector('#df-bf3dbc1d-4c69-4c96-bb44-457deb94ff8e button.colab-df-convert');\n",
              "        buttonEl.style.display =\n",
              "          google.colab.kernel.accessAllowed ? 'block' : 'none';\n",
              "\n",
              "        async function convertToInteractive(key) {\n",
              "          const element = document.querySelector('#df-bf3dbc1d-4c69-4c96-bb44-457deb94ff8e');\n",
              "          const dataTable =\n",
              "            await google.colab.kernel.invokeFunction('convertToInteractive',\n",
              "                                                     [key], {});\n",
              "          if (!dataTable) return;\n",
              "\n",
              "          const docLinkHtml = 'Like what you see? Visit the ' +\n",
              "            '<a target=\"_blank\" href=https://colab.research.google.com/notebooks/data_table.ipynb>data table notebook</a>'\n",
              "            + ' to learn more about interactive tables.';\n",
              "          element.innerHTML = '';\n",
              "          dataTable['output_type'] = 'display_data';\n",
              "          await google.colab.output.renderOutput(dataTable, element);\n",
              "          const docLink = document.createElement('div');\n",
              "          docLink.innerHTML = docLinkHtml;\n",
              "          element.appendChild(docLink);\n",
              "        }\n",
              "      </script>\n",
              "    </div>\n",
              "  </div>\n",
              "  "
            ]
          },
          "metadata": {},
          "execution_count": 608
        }
      ]
    },
    {
      "cell_type": "code",
      "source": [
        "ticker = '^IBEX'\n",
        "\n",
        "ibex = yf.download(ticker, start=start_date, end=end_date)"
      ],
      "metadata": {
        "colab": {
          "base_uri": "https://localhost:8080/"
        },
        "id": "G3kl8e-d9i1V",
        "outputId": "16c11072-c382-4b34-ef66-a784ba761cad"
      },
      "execution_count": null,
      "outputs": [
        {
          "output_type": "stream",
          "name": "stdout",
          "text": [
            "\r[*********************100%***********************]  1 of 1 completed\n"
          ]
        }
      ]
    },
    {
      "cell_type": "code",
      "source": [
        "retornos_bench = ibex['Close'].pct_change().dropna().cumsum().loc[retornos_modelo.index]"
      ],
      "metadata": {
        "id": "fG-17b0QF0Zf"
      },
      "execution_count": null,
      "outputs": []
    },
    {
      "cell_type": "code",
      "source": [
        "retornos_modelo = retornos_modelo.iloc[:,0].cumsum()"
      ],
      "metadata": {
        "id": "xRppA5nIGi2x"
      },
      "execution_count": null,
      "outputs": []
    },
    {
      "cell_type": "code",
      "source": [
        "retornos_modelo.shape, retornos_bench.shape"
      ],
      "metadata": {
        "colab": {
          "base_uri": "https://localhost:8080/"
        },
        "id": "65h41bO2GCYc",
        "outputId": "75f2d0ab-71fd-4c8c-e538-7dbc608ddfa4"
      },
      "execution_count": null,
      "outputs": [
        {
          "output_type": "execute_result",
          "data": {
            "text/plain": [
              "((24,), (24,))"
            ]
          },
          "metadata": {},
          "execution_count": 612
        }
      ]
    },
    {
      "cell_type": "code",
      "source": [
        "type(retornos_modelo), type(retornos_bench)"
      ],
      "metadata": {
        "colab": {
          "base_uri": "https://localhost:8080/"
        },
        "id": "wB0x1KhfGJpC",
        "outputId": "d45d7107-f54c-4942-b64b-b348913d2588"
      },
      "execution_count": null,
      "outputs": [
        {
          "output_type": "execute_result",
          "data": {
            "text/plain": [
              "(pandas.core.series.Series, pandas.core.series.Series)"
            ]
          },
          "metadata": {},
          "execution_count": 613
        }
      ]
    },
    {
      "cell_type": "code",
      "source": [
        "plt.plot(retornos_modelo+1, 'b')\n",
        "plt.plot(retornos_bench+1, 'r')"
      ],
      "metadata": {
        "colab": {
          "base_uri": "https://localhost:8080/",
          "height": 448
        },
        "id": "jPRNuuFiGqo8",
        "outputId": "1268dfc8-0529-455f-dc44-4fd704804034"
      },
      "execution_count": null,
      "outputs": [
        {
          "output_type": "execute_result",
          "data": {
            "text/plain": [
              "[<matplotlib.lines.Line2D at 0x7f7d300aaf70>]"
            ]
          },
          "metadata": {},
          "execution_count": 614
        },
        {
          "output_type": "display_data",
          "data": {
            "text/plain": [
              "<Figure size 640x480 with 1 Axes>"
            ],
            "image/png": "[encoded data removed]"
          },
          "metadata": {}
        }
      ]
    }
  ]
}