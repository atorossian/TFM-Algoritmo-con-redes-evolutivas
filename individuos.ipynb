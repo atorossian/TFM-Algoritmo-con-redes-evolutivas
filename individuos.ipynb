{
  "nbformat": 4,
  "nbformat_minor": 0,
  "metadata": {
    "colab": {
      "provenance": [],
      "authorship_tag": "ABX9TyMYTNyRyQIxReVAFYCOH/Yi",
      "include_colab_link": true
    },
    "kernelspec": {
      "name": "python3",
      "display_name": "Python 3"
    },
    "language_info": {
      "name": "python"
    }
  },
  "cells": [
    {
      "cell_type": "markdown",
      "metadata": {
        "id": "view-in-github",
        "colab_type": "text"
      },
      "source": [
        "<a href=\"https://colab.research.google.com/github/tintenderete/TFM/blob/main/individuos.ipynb\" target=\"_parent\"><img src=\"https://colab.research.google.com/assets/colab-badge.svg\" alt=\"Open In Colab\"/></a>"
      ]
    },
    {
      "cell_type": "code",
      "source": [
        "import numpy as np\n",
        "import matplotlib.pyplot as plt\n",
        "import pandas as pd"
      ],
      "metadata": {
        "id": "4cLDUuyPAHVk"
      },
      "execution_count": null,
      "outputs": []
    },
    {
      "cell_type": "code",
      "source": [
        "# Define el número de periodos y el número de activos\n",
        "num_periods = 10\n",
        "num_assets = 2"
      ],
      "metadata": {
        "id": "VjcR5ymvIGpG"
      },
      "execution_count": null,
      "outputs": []
    },
    {
      "cell_type": "code",
      "source": [
        "closing_prices = 2 * np.random.rand(num_periods, num_assets) - 1"
      ],
      "metadata": {
        "id": "oSzM1J3TKA8r"
      },
      "execution_count": null,
      "outputs": []
    },
    {
      "cell_type": "code",
      "source": [
        "pd_closing_prices = pd.DataFrame(closing_prices)"
      ],
      "metadata": {
        "id": "FzHh39A-eaR8"
      },
      "execution_count": null,
      "outputs": []
    },
    {
      "cell_type": "code",
      "source": [
        "pd_closing_prices.head()"
      ],
      "metadata": {
        "colab": {
          "base_uri": "https://localhost:8080/",
          "height": 206
        },
        "id": "cmDOz4QufJi1",
        "outputId": "697672bf-11c2-40ef-f750-8558e76ff3fc"
      },
      "execution_count": null,
      "outputs": [
        {
          "output_type": "execute_result",
          "data": {
            "text/plain": [
              "          0         1\n",
              "0  0.424464 -0.735064\n",
              "1  0.296063 -0.415928\n",
              "2 -0.768917  0.561188\n",
              "3 -0.596808 -0.362448\n",
              "4 -0.760255 -0.617200"
            ],
            "text/html": [
              "\n",
              "  <div id=\"df-fcb5ac41-add2-4b14-9362-f7abbabb2677\">\n",
              "    <div class=\"colab-df-container\">\n",
              "      <div>\n",
              "<style scoped>\n",
              "    .dataframe tbody tr th:only-of-type {\n",
              "        vertical-align: middle;\n",
              "    }\n",
              "\n",
              "    .dataframe tbody tr th {\n",
              "        vertical-align: top;\n",
              "    }\n",
              "\n",
              "    .dataframe thead th {\n",
              "        text-align: right;\n",
              "    }\n",
              "</style>\n",
              "<table border=\"1\" class=\"dataframe\">\n",
              "  <thead>\n",
              "    <tr style=\"text-align: right;\">\n",
              "      <th></th>\n",
              "      <th>0</th>\n",
              "      <th>1</th>\n",
              "    </tr>\n",
              "  </thead>\n",
              "  <tbody>\n",
              "    <tr>\n",
              "      <th>0</th>\n",
              "      <td>0.424464</td>\n",
              "      <td>-0.735064</td>\n",
              "    </tr>\n",
              "    <tr>\n",
              "      <th>1</th>\n",
              "      <td>0.296063</td>\n",
              "      <td>-0.415928</td>\n",
              "    </tr>\n",
              "    <tr>\n",
              "      <th>2</th>\n",
              "      <td>-0.768917</td>\n",
              "      <td>0.561188</td>\n",
              "    </tr>\n",
              "    <tr>\n",
              "      <th>3</th>\n",
              "      <td>-0.596808</td>\n",
              "      <td>-0.362448</td>\n",
              "    </tr>\n",
              "    <tr>\n",
              "      <th>4</th>\n",
              "      <td>-0.760255</td>\n",
              "      <td>-0.617200</td>\n",
              "    </tr>\n",
              "  </tbody>\n",
              "</table>\n",
              "</div>\n",
              "      <button class=\"colab-df-convert\" onclick=\"convertToInteractive('df-fcb5ac41-add2-4b14-9362-f7abbabb2677')\"\n",
              "              title=\"Convert this dataframe to an interactive table.\"\n",
              "              style=\"display:none;\">\n",
              "        \n",
              "  <svg xmlns=\"http://www.w3.org/2000/svg\" height=\"24px\"viewBox=\"0 0 24 24\"\n",
              "       width=\"24px\">\n",
              "    <path d=\"M0 0h24v24H0V0z\" fill=\"none\"/>\n",
              "    <path d=\"M18.56 5.44l.94 2.06.94-2.06 2.06-.94-2.06-.94-.94-2.06-.94 2.06-2.06.94zm-11 1L8.5 8.5l.94-2.06 2.06-.94-2.06-.94L8.5 2.5l-.94 2.06-2.06.94zm10 10l.94 2.06.94-2.06 2.06-.94-2.06-.94-.94-2.06-.94 2.06-2.06.94z\"/><path d=\"M17.41 7.96l-1.37-1.37c-.4-.4-.92-.59-1.43-.59-.52 0-1.04.2-1.43.59L10.3 9.45l-7.72 7.72c-.78.78-.78 2.05 0 2.83L4 21.41c.39.39.9.59 1.41.59.51 0 1.02-.2 1.41-.59l7.78-7.78 2.81-2.81c.8-.78.8-2.07 0-2.86zM5.41 20L4 18.59l7.72-7.72 1.47 1.35L5.41 20z\"/>\n",
              "  </svg>\n",
              "      </button>\n",
              "      \n",
              "  <style>\n",
              "    .colab-df-container {\n",
              "      display:flex;\n",
              "      flex-wrap:wrap;\n",
              "      gap: 12px;\n",
              "    }\n",
              "\n",
              "    .colab-df-convert {\n",
              "      background-color: #E8F0FE;\n",
              "      border: none;\n",
              "      border-radius: 50%;\n",
              "      cursor: pointer;\n",
              "      display: none;\n",
              "      fill: #1967D2;\n",
              "      height: 32px;\n",
              "      padding: 0 0 0 0;\n",
              "      width: 32px;\n",
              "    }\n",
              "\n",
              "    .colab-df-convert:hover {\n",
              "      background-color: #E2EBFA;\n",
              "      box-shadow: 0px 1px 2px rgba(60, 64, 67, 0.3), 0px 1px 3px 1px rgba(60, 64, 67, 0.15);\n",
              "      fill: #174EA6;\n",
              "    }\n",
              "\n",
              "    [theme=dark] .colab-df-convert {\n",
              "      background-color: #3B4455;\n",
              "      fill: #D2E3FC;\n",
              "    }\n",
              "\n",
              "    [theme=dark] .colab-df-convert:hover {\n",
              "      background-color: #434B5C;\n",
              "      box-shadow: 0px 1px 3px 1px rgba(0, 0, 0, 0.15);\n",
              "      filter: drop-shadow(0px 1px 2px rgba(0, 0, 0, 0.3));\n",
              "      fill: #FFFFFF;\n",
              "    }\n",
              "  </style>\n",
              "\n",
              "      <script>\n",
              "        const buttonEl =\n",
              "          document.querySelector('#df-fcb5ac41-add2-4b14-9362-f7abbabb2677 button.colab-df-convert');\n",
              "        buttonEl.style.display =\n",
              "          google.colab.kernel.accessAllowed ? 'block' : 'none';\n",
              "\n",
              "        async function convertToInteractive(key) {\n",
              "          const element = document.querySelector('#df-fcb5ac41-add2-4b14-9362-f7abbabb2677');\n",
              "          const dataTable =\n",
              "            await google.colab.kernel.invokeFunction('convertToInteractive',\n",
              "                                                     [key], {});\n",
              "          if (!dataTable) return;\n",
              "\n",
              "          const docLinkHtml = 'Like what you see? Visit the ' +\n",
              "            '<a target=\"_blank\" href=https://colab.research.google.com/notebooks/data_table.ipynb>data table notebook</a>'\n",
              "            + ' to learn more about interactive tables.';\n",
              "          element.innerHTML = '';\n",
              "          dataTable['output_type'] = 'display_data';\n",
              "          await google.colab.output.renderOutput(dataTable, element);\n",
              "          const docLink = document.createElement('div');\n",
              "          docLink.innerHTML = docLinkHtml;\n",
              "          element.appendChild(docLink);\n",
              "        }\n",
              "      </script>\n",
              "    </div>\n",
              "  </div>\n",
              "  "
            ]
          },
          "metadata": {},
          "execution_count": 153
        }
      ]
    },
    {
      "cell_type": "code",
      "source": [
        "pd_mean = pd_closing_prices.rolling(window=3).mean().fillna(0)\n",
        "pd_mean.head()"
      ],
      "metadata": {
        "colab": {
          "base_uri": "https://localhost:8080/",
          "height": 206
        },
        "id": "KjOiMBYufu_m",
        "outputId": "f2321dab-85a7-4312-e377-e227d1f7d4ff"
      },
      "execution_count": null,
      "outputs": [
        {
          "output_type": "execute_result",
          "data": {
            "text/plain": [
              "          0         1\n",
              "0  0.000000  0.000000\n",
              "1  0.000000  0.000000\n",
              "2 -0.016130 -0.196601\n",
              "3 -0.356554 -0.072396\n",
              "4 -0.708660 -0.139486"
            ],
            "text/html": [
              "\n",
              "  <div id=\"df-e07d41f9-38a9-41fd-8fee-589ca402c9ea\">\n",
              "    <div class=\"colab-df-container\">\n",
              "      <div>\n",
              "<style scoped>\n",
              "    .dataframe tbody tr th:only-of-type {\n",
              "        vertical-align: middle;\n",
              "    }\n",
              "\n",
              "    .dataframe tbody tr th {\n",
              "        vertical-align: top;\n",
              "    }\n",
              "\n",
              "    .dataframe thead th {\n",
              "        text-align: right;\n",
              "    }\n",
              "</style>\n",
              "<table border=\"1\" class=\"dataframe\">\n",
              "  <thead>\n",
              "    <tr style=\"text-align: right;\">\n",
              "      <th></th>\n",
              "      <th>0</th>\n",
              "      <th>1</th>\n",
              "    </tr>\n",
              "  </thead>\n",
              "  <tbody>\n",
              "    <tr>\n",
              "      <th>0</th>\n",
              "      <td>0.000000</td>\n",
              "      <td>0.000000</td>\n",
              "    </tr>\n",
              "    <tr>\n",
              "      <th>1</th>\n",
              "      <td>0.000000</td>\n",
              "      <td>0.000000</td>\n",
              "    </tr>\n",
              "    <tr>\n",
              "      <th>2</th>\n",
              "      <td>-0.016130</td>\n",
              "      <td>-0.196601</td>\n",
              "    </tr>\n",
              "    <tr>\n",
              "      <th>3</th>\n",
              "      <td>-0.356554</td>\n",
              "      <td>-0.072396</td>\n",
              "    </tr>\n",
              "    <tr>\n",
              "      <th>4</th>\n",
              "      <td>-0.708660</td>\n",
              "      <td>-0.139486</td>\n",
              "    </tr>\n",
              "  </tbody>\n",
              "</table>\n",
              "</div>\n",
              "      <button class=\"colab-df-convert\" onclick=\"convertToInteractive('df-e07d41f9-38a9-41fd-8fee-589ca402c9ea')\"\n",
              "              title=\"Convert this dataframe to an interactive table.\"\n",
              "              style=\"display:none;\">\n",
              "        \n",
              "  <svg xmlns=\"http://www.w3.org/2000/svg\" height=\"24px\"viewBox=\"0 0 24 24\"\n",
              "       width=\"24px\">\n",
              "    <path d=\"M0 0h24v24H0V0z\" fill=\"none\"/>\n",
              "    <path d=\"M18.56 5.44l.94 2.06.94-2.06 2.06-.94-2.06-.94-.94-2.06-.94 2.06-2.06.94zm-11 1L8.5 8.5l.94-2.06 2.06-.94-2.06-.94L8.5 2.5l-.94 2.06-2.06.94zm10 10l.94 2.06.94-2.06 2.06-.94-2.06-.94-.94-2.06-.94 2.06-2.06.94z\"/><path d=\"M17.41 7.96l-1.37-1.37c-.4-.4-.92-.59-1.43-.59-.52 0-1.04.2-1.43.59L10.3 9.45l-7.72 7.72c-.78.78-.78 2.05 0 2.83L4 21.41c.39.39.9.59 1.41.59.51 0 1.02-.2 1.41-.59l7.78-7.78 2.81-2.81c.8-.78.8-2.07 0-2.86zM5.41 20L4 18.59l7.72-7.72 1.47 1.35L5.41 20z\"/>\n",
              "  </svg>\n",
              "      </button>\n",
              "      \n",
              "  <style>\n",
              "    .colab-df-container {\n",
              "      display:flex;\n",
              "      flex-wrap:wrap;\n",
              "      gap: 12px;\n",
              "    }\n",
              "\n",
              "    .colab-df-convert {\n",
              "      background-color: #E8F0FE;\n",
              "      border: none;\n",
              "      border-radius: 50%;\n",
              "      cursor: pointer;\n",
              "      display: none;\n",
              "      fill: #1967D2;\n",
              "      height: 32px;\n",
              "      padding: 0 0 0 0;\n",
              "      width: 32px;\n",
              "    }\n",
              "\n",
              "    .colab-df-convert:hover {\n",
              "      background-color: #E2EBFA;\n",
              "      box-shadow: 0px 1px 2px rgba(60, 64, 67, 0.3), 0px 1px 3px 1px rgba(60, 64, 67, 0.15);\n",
              "      fill: #174EA6;\n",
              "    }\n",
              "\n",
              "    [theme=dark] .colab-df-convert {\n",
              "      background-color: #3B4455;\n",
              "      fill: #D2E3FC;\n",
              "    }\n",
              "\n",
              "    [theme=dark] .colab-df-convert:hover {\n",
              "      background-color: #434B5C;\n",
              "      box-shadow: 0px 1px 3px 1px rgba(0, 0, 0, 0.15);\n",
              "      filter: drop-shadow(0px 1px 2px rgba(0, 0, 0, 0.3));\n",
              "      fill: #FFFFFF;\n",
              "    }\n",
              "  </style>\n",
              "\n",
              "      <script>\n",
              "        const buttonEl =\n",
              "          document.querySelector('#df-e07d41f9-38a9-41fd-8fee-589ca402c9ea button.colab-df-convert');\n",
              "        buttonEl.style.display =\n",
              "          google.colab.kernel.accessAllowed ? 'block' : 'none';\n",
              "\n",
              "        async function convertToInteractive(key) {\n",
              "          const element = document.querySelector('#df-e07d41f9-38a9-41fd-8fee-589ca402c9ea');\n",
              "          const dataTable =\n",
              "            await google.colab.kernel.invokeFunction('convertToInteractive',\n",
              "                                                     [key], {});\n",
              "          if (!dataTable) return;\n",
              "\n",
              "          const docLinkHtml = 'Like what you see? Visit the ' +\n",
              "            '<a target=\"_blank\" href=https://colab.research.google.com/notebooks/data_table.ipynb>data table notebook</a>'\n",
              "            + ' to learn more about interactive tables.';\n",
              "          element.innerHTML = '';\n",
              "          dataTable['output_type'] = 'display_data';\n",
              "          await google.colab.output.renderOutput(dataTable, element);\n",
              "          const docLink = document.createElement('div');\n",
              "          docLink.innerHTML = docLinkHtml;\n",
              "          element.appendChild(docLink);\n",
              "        }\n",
              "      </script>\n",
              "    </div>\n",
              "  </div>\n",
              "  "
            ]
          },
          "metadata": {},
          "execution_count": 166
        }
      ]
    },
    {
      "cell_type": "code",
      "source": [
        "pd_std = pd_closing_prices.rolling(window=3).std().fillna(0)\n",
        "pd_std.head()"
      ],
      "metadata": {
        "colab": {
          "base_uri": "https://localhost:8080/",
          "height": 206
        },
        "id": "ycXjxx46j9SX",
        "outputId": "56bb0ac2-9e1e-40ea-ffdc-6b411c638bec"
      },
      "execution_count": null,
      "outputs": [
        {
          "output_type": "execute_result",
          "data": {
            "text/plain": [
              "          0         1\n",
              "0  0.000000  0.000000\n",
              "1  0.000000  0.000000\n",
              "2  0.655086  0.675385\n",
              "3  0.571697  0.549351\n",
              "4  0.096963  0.620027"
            ],
            "text/html": [
              "\n",
              "  <div id=\"df-46869305-8e2c-4062-b19f-64f10e8b87e3\">\n",
              "    <div class=\"colab-df-container\">\n",
              "      <div>\n",
              "<style scoped>\n",
              "    .dataframe tbody tr th:only-of-type {\n",
              "        vertical-align: middle;\n",
              "    }\n",
              "\n",
              "    .dataframe tbody tr th {\n",
              "        vertical-align: top;\n",
              "    }\n",
              "\n",
              "    .dataframe thead th {\n",
              "        text-align: right;\n",
              "    }\n",
              "</style>\n",
              "<table border=\"1\" class=\"dataframe\">\n",
              "  <thead>\n",
              "    <tr style=\"text-align: right;\">\n",
              "      <th></th>\n",
              "      <th>0</th>\n",
              "      <th>1</th>\n",
              "    </tr>\n",
              "  </thead>\n",
              "  <tbody>\n",
              "    <tr>\n",
              "      <th>0</th>\n",
              "      <td>0.000000</td>\n",
              "      <td>0.000000</td>\n",
              "    </tr>\n",
              "    <tr>\n",
              "      <th>1</th>\n",
              "      <td>0.000000</td>\n",
              "      <td>0.000000</td>\n",
              "    </tr>\n",
              "    <tr>\n",
              "      <th>2</th>\n",
              "      <td>0.655086</td>\n",
              "      <td>0.675385</td>\n",
              "    </tr>\n",
              "    <tr>\n",
              "      <th>3</th>\n",
              "      <td>0.571697</td>\n",
              "      <td>0.549351</td>\n",
              "    </tr>\n",
              "    <tr>\n",
              "      <th>4</th>\n",
              "      <td>0.096963</td>\n",
              "      <td>0.620027</td>\n",
              "    </tr>\n",
              "  </tbody>\n",
              "</table>\n",
              "</div>\n",
              "      <button class=\"colab-df-convert\" onclick=\"convertToInteractive('df-46869305-8e2c-4062-b19f-64f10e8b87e3')\"\n",
              "              title=\"Convert this dataframe to an interactive table.\"\n",
              "              style=\"display:none;\">\n",
              "        \n",
              "  <svg xmlns=\"http://www.w3.org/2000/svg\" height=\"24px\"viewBox=\"0 0 24 24\"\n",
              "       width=\"24px\">\n",
              "    <path d=\"M0 0h24v24H0V0z\" fill=\"none\"/>\n",
              "    <path d=\"M18.56 5.44l.94 2.06.94-2.06 2.06-.94-2.06-.94-.94-2.06-.94 2.06-2.06.94zm-11 1L8.5 8.5l.94-2.06 2.06-.94-2.06-.94L8.5 2.5l-.94 2.06-2.06.94zm10 10l.94 2.06.94-2.06 2.06-.94-2.06-.94-.94-2.06-.94 2.06-2.06.94z\"/><path d=\"M17.41 7.96l-1.37-1.37c-.4-.4-.92-.59-1.43-.59-.52 0-1.04.2-1.43.59L10.3 9.45l-7.72 7.72c-.78.78-.78 2.05 0 2.83L4 21.41c.39.39.9.59 1.41.59.51 0 1.02-.2 1.41-.59l7.78-7.78 2.81-2.81c.8-.78.8-2.07 0-2.86zM5.41 20L4 18.59l7.72-7.72 1.47 1.35L5.41 20z\"/>\n",
              "  </svg>\n",
              "      </button>\n",
              "      \n",
              "  <style>\n",
              "    .colab-df-container {\n",
              "      display:flex;\n",
              "      flex-wrap:wrap;\n",
              "      gap: 12px;\n",
              "    }\n",
              "\n",
              "    .colab-df-convert {\n",
              "      background-color: #E8F0FE;\n",
              "      border: none;\n",
              "      border-radius: 50%;\n",
              "      cursor: pointer;\n",
              "      display: none;\n",
              "      fill: #1967D2;\n",
              "      height: 32px;\n",
              "      padding: 0 0 0 0;\n",
              "      width: 32px;\n",
              "    }\n",
              "\n",
              "    .colab-df-convert:hover {\n",
              "      background-color: #E2EBFA;\n",
              "      box-shadow: 0px 1px 2px rgba(60, 64, 67, 0.3), 0px 1px 3px 1px rgba(60, 64, 67, 0.15);\n",
              "      fill: #174EA6;\n",
              "    }\n",
              "\n",
              "    [theme=dark] .colab-df-convert {\n",
              "      background-color: #3B4455;\n",
              "      fill: #D2E3FC;\n",
              "    }\n",
              "\n",
              "    [theme=dark] .colab-df-convert:hover {\n",
              "      background-color: #434B5C;\n",
              "      box-shadow: 0px 1px 3px 1px rgba(0, 0, 0, 0.15);\n",
              "      filter: drop-shadow(0px 1px 2px rgba(0, 0, 0, 0.3));\n",
              "      fill: #FFFFFF;\n",
              "    }\n",
              "  </style>\n",
              "\n",
              "      <script>\n",
              "        const buttonEl =\n",
              "          document.querySelector('#df-46869305-8e2c-4062-b19f-64f10e8b87e3 button.colab-df-convert');\n",
              "        buttonEl.style.display =\n",
              "          google.colab.kernel.accessAllowed ? 'block' : 'none';\n",
              "\n",
              "        async function convertToInteractive(key) {\n",
              "          const element = document.querySelector('#df-46869305-8e2c-4062-b19f-64f10e8b87e3');\n",
              "          const dataTable =\n",
              "            await google.colab.kernel.invokeFunction('convertToInteractive',\n",
              "                                                     [key], {});\n",
              "          if (!dataTable) return;\n",
              "\n",
              "          const docLinkHtml = 'Like what you see? Visit the ' +\n",
              "            '<a target=\"_blank\" href=https://colab.research.google.com/notebooks/data_table.ipynb>data table notebook</a>'\n",
              "            + ' to learn more about interactive tables.';\n",
              "          element.innerHTML = '';\n",
              "          dataTable['output_type'] = 'display_data';\n",
              "          await google.colab.output.renderOutput(dataTable, element);\n",
              "          const docLink = document.createElement('div');\n",
              "          docLink.innerHTML = docLinkHtml;\n",
              "          element.appendChild(docLink);\n",
              "        }\n",
              "      </script>\n",
              "    </div>\n",
              "  </div>\n",
              "  "
            ]
          },
          "metadata": {},
          "execution_count": 167
        }
      ]
    },
    {
      "cell_type": "code",
      "source": [
        "tabla_aux = np.ones((num_periods, num_assets,3))"
      ],
      "metadata": {
        "id": "JmEB9ey_kM7K"
      },
      "execution_count": null,
      "outputs": []
    },
    {
      "cell_type": "code",
      "source": [
        "tabla_aux[:,:,0] = pd_closing_prices\n",
        "tabla_aux[:,:,1] = pd_mean\n",
        "tabla_aux[:,:,2] = pd_std"
      ],
      "metadata": {
        "id": "t1b0bKaYkayo"
      },
      "execution_count": null,
      "outputs": []
    },
    {
      "cell_type": "code",
      "source": [
        "tabla_aux[:,:,2]"
      ],
      "metadata": {
        "colab": {
          "base_uri": "https://localhost:8080/"
        },
        "id": "2zdPBZAukx6B",
        "outputId": "f2efc045-7610-48a5-bcd9-016bbfbfcd37"
      },
      "execution_count": null,
      "outputs": [
        {
          "output_type": "execute_result",
          "data": {
            "text/plain": [
              "array([[0.        , 0.        ],\n",
              "       [0.        , 0.        ],\n",
              "       [0.65508649, 0.6753854 ],\n",
              "       [0.57169703, 0.54935092],\n",
              "       [0.09696339, 0.62002675],\n",
              "       [0.0858276 , 0.32180112],\n",
              "       [0.11374826, 0.74373083],\n",
              "       [0.88160368, 0.50625629],\n",
              "       [0.92451267, 0.98846132],\n",
              "       [0.95655638, 1.01418764]])"
            ]
          },
          "metadata": {},
          "execution_count": 171
        }
      ]
    },
    {
      "cell_type": "code",
      "source": [
        "tabla_aux.shape"
      ],
      "metadata": {
        "colab": {
          "base_uri": "https://localhost:8080/"
        },
        "id": "_1mbxTy3lqeO",
        "outputId": "270c8dd2-9b24-4ea5-8a28-5a5b52121a49"
      },
      "execution_count": null,
      "outputs": [
        {
          "output_type": "execute_result",
          "data": {
            "text/plain": [
              "(10, 2, 3)"
            ]
          },
          "metadata": {},
          "execution_count": 173
        }
      ]
    },
    {
      "cell_type": "code",
      "source": [
        "tabla_aux.reshape(10 // 2, 2, 2, 3 ).shape"
      ],
      "metadata": {
        "colab": {
          "base_uri": "https://localhost:8080/"
        },
        "id": "83ADJ8U1mTtB",
        "outputId": "554f5779-a9da-4f1a-dbfd-e6f4213b0872"
      },
      "execution_count": null,
      "outputs": [
        {
          "output_type": "execute_result",
          "data": {
            "text/plain": [
              "(5, 2, 2, 3)"
            ]
          },
          "metadata": {},
          "execution_count": 182
        }
      ]
    },
    {
      "cell_type": "code",
      "source": [
        "np.random.rand(5, 5, 5, 5)"
      ],
      "metadata": {
        "id": "NoM-lhM6dFvl"
      },
      "execution_count": null,
      "outputs": []
    },
    {
      "cell_type": "code",
      "execution_count": null,
      "metadata": {
        "colab": {
          "base_uri": "https://localhost:8080/",
          "height": 54
        },
        "id": "Z3XrLzav-v_y",
        "outputId": "d628b0c7-1e8f-40e4-fac7-cb40712c3bb7"
      },
      "outputs": [
        {
          "output_type": "execute_result",
          "data": {
            "text/plain": [
              "'\\nConv1D layer\\n\\n\\ninput shape     batch_shape + (steps, input_dim)\\n\\nOutput shape    batch_shape + (new_steps, filters) \\n\\n'"
            ],
            "application/vnd.google.colaboratory.intrinsic+json": {
              "type": "string"
            }
          },
          "metadata": {},
          "execution_count": 133
        }
      ],
      "source": [
        "\"\"\"\n",
        "Conv1D layer\n",
        "\n",
        "\n",
        "input shape     batch_shape + (steps, input_dim)\n",
        "\n",
        "Output shape    batch_shape + (new_steps, filters) \n",
        "\n",
        "\"\"\""
      ]
    },
    {
      "cell_type": "code",
      "source": [
        "data = np.random.rand(100, 60, 35)\n",
        "data.shape"
      ],
      "metadata": {
        "colab": {
          "base_uri": "https://localhost:8080/"
        },
        "id": "3KmB1OtXeGa4",
        "outputId": "6a23b224-2dbc-4502-909d-479791e93977"
      },
      "execution_count": null,
      "outputs": [
        {
          "output_type": "execute_result",
          "data": {
            "text/plain": [
              "(100, 60, 35)"
            ]
          },
          "metadata": {},
          "execution_count": 8
        }
      ]
    },
    {
      "cell_type": "code",
      "source": [
        "from keras.models import Sequential\n",
        "from keras.layers import Conv1D, MaxPooling1D, Flatten, Dense"
      ],
      "metadata": {
        "id": "3iayMypGBKjB"
      },
      "execution_count": null,
      "outputs": []
    },
    {
      "cell_type": "code",
      "source": [
        "data = np.random.rand(100, 60, 35)\n",
        "data.shape\n",
        "\n",
        "modelConv1D = Sequential()\n",
        "modelConv1D.add(Conv1D(filters = 4, kernel_size = 2, input_shape=(data.shape[1], data.shape[2],)))\n",
        "modelConv1D.compile()\n",
        "modelConv1D.layers[0].input_shape, modelConv1D.layers[0].output_shape\n",
        "\n",
        "res = modelConv1D(data)\n",
        "res.shape"
      ],
      "metadata": {
        "colab": {
          "base_uri": "https://localhost:8080/"
        },
        "id": "v0RkX9mX_lZn",
        "outputId": "4e4ac87f-d6c2-4dd2-d860-ca87bebcf1b5"
      },
      "execution_count": null,
      "outputs": [
        {
          "output_type": "execute_result",
          "data": {
            "text/plain": [
              "((None, 60, 35), (None, 59, 4))"
            ]
          },
          "metadata": {},
          "execution_count": 21
        }
      ]
    },
    {
      "cell_type": "code",
      "source": [
        "res = modelConv1D(data)\n",
        "res.shape"
      ],
      "metadata": {
        "id": "cMmHTtPZEDai",
        "colab": {
          "base_uri": "https://localhost:8080/"
        },
        "outputId": "6070bbdb-b6cd-4dd2-af37-b3e9cedc5f79"
      },
      "execution_count": null,
      "outputs": [
        {
          "output_type": "execute_result",
          "data": {
            "text/plain": [
              "TensorShape([100, 59, 4])"
            ]
          },
          "metadata": {},
          "execution_count": 22
        }
      ]
    },
    {
      "cell_type": "markdown",
      "source": [
        "# ( BATCH, A , B )"
      ],
      "metadata": {
        "id": "EzxLEZh2gdl7"
      }
    },
    {
      "cell_type": "code",
      "source": [
        "import numpy as np\n",
        "from tensorflow.keras.models import Sequential\n",
        "from tensorflow.keras.layers import Dense, Conv1D, LSTM, GRU, SimpleRNN, TimeDistributed, Bidirectional, ConvLSTM2D, SeparableConv1D, MaxPooling1D, AveragePooling1D"
      ],
      "metadata": {
        "id": "JYyFUEAwgD33"
      },
      "execution_count": null,
      "outputs": []
    },
    {
      "cell_type": "code",
      "source": [
        "\n",
        "\n",
        "# Define los datos de entrada\n",
        "data = np.random.rand(100, 60, 35)\n",
        "\n",
        "# Dense\n",
        "modelDense = Sequential()\n",
        "modelDense.add(Dense(4, input_shape=(data.shape[1], data.shape[2])))\n",
        "modelDense.compile()\n",
        "print(\" modelDense \" + \" IN : \" + str(modelDense.layers[0].input_shape) + \" OUT : \" +  str(modelDense.layers[0].output_shape))\n",
        "\n",
        "# LSTM\n",
        "modelLSTM = Sequential()\n",
        "modelLSTM.add(LSTM(4, input_shape=(data.shape[1], data.shape[2])))\n",
        "modelLSTM.compile()\n",
        "print(\" modelLSTM \" + \" IN : \" + str(modelLSTM.layers[0].input_shape) + \" OUT : \" +  str(modelLSTM.layers[0].output_shape))\n",
        "# GRU\n",
        "modelGRU = Sequential()\n",
        "modelGRU.add(GRU(4, input_shape=(data.shape[1], data.shape[2])))\n",
        "modelGRU.compile()\n",
        "\n",
        "print(\" modelGRU \" + \" IN : \" + str(modelGRU.layers[0].input_shape) + \" OUT : \" +  str(modelGRU.layers[0].output_shape))\n",
        "# SimpleRNN\n",
        "modelSimpleRNN = Sequential()\n",
        "modelSimpleRNN.add(SimpleRNN(4, input_shape=(data.shape[1], data.shape[2])))\n",
        "modelSimpleRNN.compile()\n",
        "\n",
        "print(\" modelSimpleRNN \" + \" IN : \" + str(modelSimpleRNN.layers[0].input_shape) + \" OUT : \" +  str(modelSimpleRNN.layers[0].output_shape))\n",
        "# TimeDistributed\n",
        "modelTimeDistributed = Sequential()\n",
        "modelTimeDistributed.add(TimeDistributed(Dense(4), input_shape=(data.shape[1], data.shape[2])))\n",
        "modelTimeDistributed.compile()\n",
        "\n",
        "print(\" modelTimeDistributed \" + \" IN : \" + str(modelTimeDistributed.layers[0].input_shape) + \" OUT : \" +  str(modelTimeDistributed.layers[0].output_shape))\n",
        "# Bidirectional\n",
        "modelBidirectional = Sequential()\n",
        "modelBidirectional.add(Bidirectional(LSTM(4), input_shape=(data.shape[1], data.shape[2])))\n",
        "modelBidirectional.compile()\n",
        "print(\" modelBidirectional \" + \" IN : \" + str(modelBidirectional.layers[0].input_shape) + \" OUT : \" +  str(modelBidirectional.layers[0].output_shape))\n",
        "# SeparableConv1D\n",
        "modelSeparableConv1D = Sequential()\n",
        "modelSeparableConv1D.add(SeparableConv1D(4, 3, input_shape=(data.shape[1], data.shape[2])))\n",
        "modelSeparableConv1D.compile()\n",
        "\n",
        "print(\" modelSeparableConv1D \" + \" IN : \" + str(modelSeparableConv1D.layers[0].input_shape) + \" OUT : \" +  str(modelSeparableConv1D.layers[0].output_shape))\n",
        "# MaxPooling1D\n",
        "modelMaxPooling1D = Sequential()\n",
        "modelMaxPooling1D.add(MaxPooling1D(pool_size=2, input_shape=(data.shape[1], data.shape[2])))\n",
        "modelMaxPooling1D.compile()\n",
        "\n",
        "print(\" modelMaxPooling1D \" + \" IN : \" + str(modelMaxPooling1D.layers[0].input_shape) + \" OUT : \" +  str(modelMaxPooling1D.layers[0].output_shape))\n",
        "# AveragePooling1D\n",
        "modelAveragePooling1D = Sequential()\n",
        "modelAveragePooling1D.add(AveragePooling1D(pool_size=2, input_shape=(data.shape[1], data.shape[2])))\n",
        "modelAveragePooling1D.compile()\n",
        "modelLSTM.compile()\n",
        "print(\" modelAveragePooling1D \" + \" IN : \" + str(modelAveragePooling1D.layers[0].input_shape) + \" OUT : \" +  str(modelAveragePooling1D.layers[0].output_shape))"
      ],
      "metadata": {
        "colab": {
          "base_uri": "https://localhost:8080/"
        },
        "id": "jDVi7J7jfC9k",
        "outputId": "1fa95cdf-7b86-455d-f024-23de9abd1b67"
      },
      "execution_count": null,
      "outputs": [
        {
          "output_type": "stream",
          "name": "stdout",
          "text": [
            " modelDense  IN : (None, 60, 35) OUT : (None, 60, 4)\n",
            " modelLSTM  IN : (None, 60, 35) OUT : (None, 4)\n",
            " modelGRU  IN : (None, 60, 35) OUT : (None, 4)\n",
            " modelSimpleRNN  IN : (None, 60, 35) OUT : (None, 4)\n",
            " modelTimeDistributed  IN : (None, 60, 35) OUT : (None, 60, 4)\n",
            " modelBidirectional  IN : (None, 60, 35) OUT : (None, 8)\n",
            " modelSeparableConv1D  IN : (None, 60, 35) OUT : (None, 58, 4)\n",
            " modelMaxPooling1D  IN : (None, 60, 35) OUT : (None, 30, 35)\n",
            " modelAveragePooling1D  IN : (None, 60, 35) OUT : (None, 30, 35)\n"
          ]
        }
      ]
    },
    {
      "cell_type": "markdown",
      "source": [
        "# ( BATCH, A, B, C)"
      ],
      "metadata": {
        "id": "QvUiSEtcghcM"
      }
    },
    {
      "cell_type": "code",
      "source": [
        "from tensorflow.keras.layers import Conv2D, SeparableConv2D"
      ],
      "metadata": {
        "id": "0hq4_0HMkYMh"
      },
      "execution_count": null,
      "outputs": []
    },
    {
      "cell_type": "code",
      "source": [
        "# Define los datos de entrada\n",
        "data = np.random.rand(100, 60, 35, 3)\n",
        "data.shape"
      ],
      "metadata": {
        "colab": {
          "base_uri": "https://localhost:8080/"
        },
        "id": "wfLLlE3ZgoAZ",
        "outputId": "bab4d4cb-724e-4275-92e1-b6964732488f"
      },
      "execution_count": null,
      "outputs": [
        {
          "output_type": "execute_result",
          "data": {
            "text/plain": [
              "(100, 60, 35, 3)"
            ]
          },
          "metadata": {},
          "execution_count": 52
        }
      ]
    },
    {
      "cell_type": "code",
      "source": [
        "modelConv2D = Sequential()\n",
        "modelConv2D.add(Conv2D(filters = 4, kernel_size = (2, 2), input_shape=(60, 35, 3)))\n",
        "modelConv2D.compile()\n",
        "print(\" modelConv2D \" + \" IN : \" + str(modelConv2D.layers[0].input_shape) + \" OUT : \" +  str(modelConv2D.layers[0].output_shape))\n",
        "\n",
        "\n",
        "modelSeparableConv2D = Sequential()\n",
        "modelSeparableConv2D.add(SeparableConv2D(4, (3, 3), input_shape=(60, 35, 3)))\n",
        "modelSeparableConv2D.compile()\n",
        "print(\" modelSeparableConv2D \" + \" IN : \" + str(modelSeparableConv2D.layers[0].input_shape) + \" OUT : \" +  str(modelSeparableConv2D.layers[0].output_shape))\n",
        "\n",
        "from tensorflow.keras.layers import DepthwiseConv2D\n",
        "\n",
        "modelDepthwiseConv2D = Sequential()\n",
        "modelDepthwiseConv2D.add(DepthwiseConv2D((3, 3), input_shape=(60, 35, 3)))\n",
        "modelDepthwiseConv2D.compile()\n",
        "print(\" modelDepthwiseConv2D \" + \" IN : \" + str(modelDepthwiseConv2D.layers[0].input_shape) + \" OUT : \" +  str(modelDepthwiseConv2D.layers[0].output_shape))\n",
        "\n",
        "from tensorflow.keras.layers import MaxPooling2D, AveragePooling2D\n",
        "\n",
        "modelMaxPooling2D = Sequential()\n",
        "modelMaxPooling2D.add(MaxPooling2D(pool_size=(2, 2), input_shape=(60, 35, 3)))\n",
        "modelMaxPooling2D.compile()\n",
        "print(\" modelMaxPooling2D \" + \" IN : \" + str(modelMaxPooling2D.layers[0].input_shape) + \" OUT : \" +  str(modelMaxPooling2D.layers[0].output_shape))\n",
        "\n",
        "modelAveragePooling2D = Sequential()\n",
        "modelAveragePooling2D.add(AveragePooling2D(pool_size=(2, 2), input_shape=(data.shape[1], data.shape[2], data.shape[3])))\n",
        "modelAveragePooling2D.compile()\n",
        "print(\" modelAveragePooling2D \" + \" IN : \" + str(modelAveragePooling2D.layers[0].input_shape) + \" OUT : \" +  str(modelAveragePooling2D.layers[0].output_shape))\n",
        "\n",
        "\n",
        "from tensorflow.keras.layers import Conv2DTranspose\n",
        "\n",
        "modelConv2DTranspose = Sequential()\n",
        "modelConv2DTranspose.add(Conv2DTranspose(4, (3, 3), input_shape=(60, 35, 3)))\n",
        "modelConv2DTranspose.compile()\n",
        "print(\" modelConv2DTranspose \" + \" IN : \" + str(modelConv2DTranspose.layers[0].input_shape) + \" OUT : \" +  str(modelConv2DTranspose.layers[0].output_shape))\n",
        "\n",
        "from tensorflow.keras.layers import UpSampling2D\n",
        "\n",
        "modelUpSampling2D = Sequential()\n",
        "modelUpSampling2D.add(UpSampling2D(size=(2, 2), input_shape=(60, 35, 3)))\n",
        "modelUpSampling2D.compile()\n",
        "print(\" modelUpSampling2D \" + \" IN : \" + str(modelUpSampling2D.layers[0].input_shape) + \" OUT : \" +  str(modelUpSampling2D.layers[0].output_shape))\n",
        "\n",
        "from tensorflow.keras.layers import ZeroPadding2D\n",
        "\n",
        "modelZeroPadding2D = Sequential()\n",
        "modelZeroPadding2D.add(ZeroPadding2D(padding=(1, 1), input_shape=(60, 35, 3)))\n",
        "modelZeroPadding2D.compile()\n",
        "print(\" modelZeroPadding2D \" + \" IN : \" + str(modelZeroPadding2D.layers[0].input_shape) + \" OUT : \" +  str(modelZeroPadding2D.layers[0].output_shape))\n",
        "\n",
        "# Dense\n",
        "modelDense = Sequential()\n",
        "modelDense.add(Dense(4, input_shape=(60, 35, 3)))\n",
        "modelDense.compile()\n",
        "print(\" modelDense \" + \" IN : \" + str(modelDense.layers[0].input_shape) + \" OUT : \" +  str(modelDense.layers[0].output_shape))"
      ],
      "metadata": {
        "colab": {
          "base_uri": "https://localhost:8080/"
        },
        "id": "zNsWEONoguUF",
        "outputId": "9f59a687-54e2-47d2-a10e-ee0f4960f310"
      },
      "execution_count": null,
      "outputs": [
        {
          "output_type": "stream",
          "name": "stdout",
          "text": [
            " modelConv2D  IN : (None, 60, 35, 3) OUT : (None, 59, 34, 4)\n",
            " modelSeparableConv2D  IN : (None, 60, 35, 3) OUT : (None, 58, 33, 4)\n",
            " modelDepthwiseConv2D  IN : (None, 60, 35, 3) OUT : (None, 58, 33, 3)\n",
            " modelMaxPooling2D  IN : (None, 60, 35, 3) OUT : (None, 30, 17, 3)\n",
            " modelAveragePooling2D  IN : (None, 60, 35, 3) OUT : (None, 30, 17, 3)\n",
            " modelConv2DTranspose  IN : (None, 60, 35, 3) OUT : (None, 62, 37, 4)\n",
            " modelUpSampling2D  IN : (None, 60, 35, 3) OUT : (None, 120, 70, 3)\n",
            " modelZeroPadding2D  IN : (None, 60, 35, 3) OUT : (None, 62, 37, 3)\n",
            " modelDense  IN : (None, 60, 35, 3) OUT : (None, 60, 35, 4)\n"
          ]
        }
      ]
    },
    {
      "cell_type": "code",
      "source": [
        "from tensorflow.keras.layers import ConvLSTM2D\n",
        "\n",
        "# Supongamos que tenemos datos con forma (100, 60, 35, 3, 1), donde:\n",
        "# - 100 es el número de muestras\n",
        "# - 60 es el número de pasos de tiempo\n",
        "# - 35 y 3 son las dimensiones espaciales\n",
        "# - 1 es el número de canales\n",
        "data = np.random.rand(100, 60, 35, 3, 1)\n",
        "\n",
        "model = Sequential()\n",
        "model.add(ConvLSTM2D(filters=10, kernel_size=(3, 3), input_shape=(60, 35, 3, 1)))\n",
        "model.compile()\n",
        "print(\" ConvLSTM2D \" + \" IN : \" + str(model.layers[0].input_shape) + \" OUT : \" +  str(model.layers[0].output_shape))"
      ],
      "metadata": {
        "colab": {
          "base_uri": "https://localhost:8080/"
        },
        "id": "npz0rSvurqIJ",
        "outputId": "1fbc0265-3b5e-4165-bae0-3b62f2027888"
      },
      "execution_count": null,
      "outputs": [
        {
          "output_type": "stream",
          "name": "stdout",
          "text": [
            " ConvLSTM2D  IN : (None, 60, 35, 3, 1) OUT : (None, 33, 1, 10)\n"
          ]
        }
      ]
    },
    {
      "cell_type": "code",
      "source": [
        "from tensorflow.keras.layers import ConvLSTM1D\n",
        "\n",
        "data = np.random.rand(100, 60, 35, 3)\n",
        "\n",
        "model = Sequential()\n",
        "model.add(ConvLSTM1D(filters=10,kernel_size = 2, input_shape=(60, 35, 3)))\n",
        "model.compile()\n",
        "print(\" ConvLSTM1D \" + \" IN : \" + str(model.layers[0].input_shape) + \" OUT : \" +  str(model.layers[0].output_shape))"
      ],
      "metadata": {
        "colab": {
          "base_uri": "https://localhost:8080/"
        },
        "id": "hoEZklxIsO9a",
        "outputId": "1ae3117b-be8f-4a4d-88e7-ea13075dd925"
      },
      "execution_count": null,
      "outputs": [
        {
          "output_type": "stream",
          "name": "stdout",
          "text": [
            " ConvLSTM1D  IN : (None, 60, 35, 3) OUT : (None, 34, 10)\n"
          ]
        }
      ]
    },
    {
      "cell_type": "code",
      "source": [
        "from tensorflow.keras.layers import ConvLSTM3D\n",
        "\n",
        "data = np.random.rand(100, 60, 35, 3,1,1)\n",
        "\n",
        "model = Sequential()\n",
        "model.add(ConvLSTM3D(filters=10,kernel_size = (1, 1, 1), input_shape=(60, 35, 3,1,1)))\n",
        "model.compile()\n",
        "print(\" ConvLSTM1D \" + \" IN : \" + str(model.layers[0].input_shape) + \" OUT : \" +  str(model.layers[0].output_shape))"
      ],
      "metadata": {
        "colab": {
          "base_uri": "https://localhost:8080/"
        },
        "id": "5PYejy8Qsut7",
        "outputId": "dc714390-c8d6-49cd-abb1-8ff9e3c249c0"
      },
      "execution_count": null,
      "outputs": [
        {
          "output_type": "stream",
          "name": "stdout",
          "text": [
            " ConvLSTM1D  IN : (None, 60, 35, 3, 1, 1) OUT : (None, 35, 3, 1, 10)\n"
          ]
        }
      ]
    },
    {
      "cell_type": "code",
      "source": [],
      "metadata": {
        "id": "kQHNXsIJspuQ"
      },
      "execution_count": null,
      "outputs": []
    },
    {
      "cell_type": "code",
      "source": [],
      "metadata": {
        "id": "YVuWODrCk3eV"
      },
      "execution_count": null,
      "outputs": []
    }
  ]
}