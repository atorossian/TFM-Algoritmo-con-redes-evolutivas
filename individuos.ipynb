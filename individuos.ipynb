{
  "nbformat": 4,
  "nbformat_minor": 0,
  "metadata": {
    "colab": {
      "provenance": [],
      "toc_visible": true,
      "authorship_tag": "ABX9TyM8T0L8I4gQ74GmlnQ+/oCK",
      "include_colab_link": true
    },
    "kernelspec": {
      "name": "python3",
      "display_name": "Python 3"
    },
    "language_info": {
      "name": "python"
    }
  },
  "cells": [
    {
      "cell_type": "markdown",
      "metadata": {
        "id": "view-in-github",
        "colab_type": "text"
      },
      "source": [
        "<a href=\"https://colab.research.google.com/github/tintenderete/TFM/blob/main/individuos.ipynb\" target=\"_parent\"><img src=\"https://colab.research.google.com/assets/colab-badge.svg\" alt=\"Open In Colab\"/></a>"
      ]
    },
    {
      "cell_type": "code",
      "source": [
        "import numpy as np\n",
        "import matplotlib.pyplot as plt\n",
        "import pandas as pd"
      ],
      "metadata": {
        "id": "4cLDUuyPAHVk"
      },
      "execution_count": 2,
      "outputs": []
    },
    {
      "cell_type": "code",
      "source": [
        "from keras.models import Sequential\n",
        "from keras.layers import Conv1D, MaxPooling1D, Flatten, Dense"
      ],
      "metadata": {
        "id": "3iayMypGBKjB"
      },
      "execution_count": null,
      "outputs": []
    },
    {
      "cell_type": "code",
      "source": [
        "data = np.random.rand(100, 60, 35)\n",
        "data.shape\n",
        "\n",
        "modelConv1D = Sequential()\n",
        "modelConv1D.add(Conv1D(filters = 4, kernel_size = 2, input_shape=(data.shape[1], data.shape[2],)))\n",
        "modelConv1D.compile()\n",
        "modelConv1D.layers[0].input_shape, modelConv1D.layers[0].output_shape\n",
        "\n",
        "res = modelConv1D(data)\n",
        "res.shape"
      ],
      "metadata": {
        "colab": {
          "base_uri": "https://localhost:8080/"
        },
        "id": "v0RkX9mX_lZn",
        "outputId": "4e4ac87f-d6c2-4dd2-d860-ca87bebcf1b5"
      },
      "execution_count": null,
      "outputs": [
        {
          "output_type": "execute_result",
          "data": {
            "text/plain": [
              "((None, 60, 35), (None, 59, 4))"
            ]
          },
          "metadata": {},
          "execution_count": 21
        }
      ]
    },
    {
      "cell_type": "code",
      "source": [
        "res = modelConv1D(data)\n",
        "res.shape"
      ],
      "metadata": {
        "id": "cMmHTtPZEDai",
        "colab": {
          "base_uri": "https://localhost:8080/"
        },
        "outputId": "6070bbdb-b6cd-4dd2-af37-b3e9cedc5f79"
      },
      "execution_count": null,
      "outputs": [
        {
          "output_type": "execute_result",
          "data": {
            "text/plain": [
              "TensorShape([100, 59, 4])"
            ]
          },
          "metadata": {},
          "execution_count": 22
        }
      ]
    },
    {
      "cell_type": "markdown",
      "source": [
        "# ( BATCH, A , B )"
      ],
      "metadata": {
        "id": "EzxLEZh2gdl7"
      }
    },
    {
      "cell_type": "code",
      "source": [
        "import numpy as np\n",
        "from tensorflow.keras.models import Sequential\n",
        "from tensorflow.keras.layers import Dense, Conv1D, LSTM, GRU, SimpleRNN, TimeDistributed, Bidirectional, ConvLSTM2D, SeparableConv1D, MaxPooling1D, AveragePooling1D"
      ],
      "metadata": {
        "id": "JYyFUEAwgD33"
      },
      "execution_count": null,
      "outputs": []
    },
    {
      "cell_type": "code",
      "source": [
        "\n",
        "\n",
        "# Define los datos de entrada\n",
        "data = np.random.rand(100, 60, 35)\n",
        "\n",
        "# Dense\n",
        "modelDense = Sequential()\n",
        "modelDense.add(Dense(4, input_shape=(data.shape[1], data.shape[2])))\n",
        "modelDense.compile()\n",
        "print(\" modelDense \" + \" IN : \" + str(modelDense.layers[0].input_shape) + \" OUT : \" +  str(modelDense.layers[0].output_shape))\n",
        "\n",
        "# LSTM\n",
        "modelLSTM = Sequential()\n",
        "modelLSTM.add(LSTM(4, input_shape=(data.shape[1], data.shape[2])))\n",
        "modelLSTM.compile()\n",
        "print(\" modelLSTM \" + \" IN : \" + str(modelLSTM.layers[0].input_shape) + \" OUT : \" +  str(modelLSTM.layers[0].output_shape))\n",
        "# GRU\n",
        "modelGRU = Sequential()\n",
        "modelGRU.add(GRU(4, input_shape=(data.shape[1], data.shape[2])))\n",
        "modelGRU.compile()\n",
        "\n",
        "print(\" modelGRU \" + \" IN : \" + str(modelGRU.layers[0].input_shape) + \" OUT : \" +  str(modelGRU.layers[0].output_shape))\n",
        "# SimpleRNN\n",
        "modelSimpleRNN = Sequential()\n",
        "modelSimpleRNN.add(SimpleRNN(4, input_shape=(data.shape[1], data.shape[2])))\n",
        "modelSimpleRNN.compile()\n",
        "\n",
        "print(\" modelSimpleRNN \" + \" IN : \" + str(modelSimpleRNN.layers[0].input_shape) + \" OUT : \" +  str(modelSimpleRNN.layers[0].output_shape))\n",
        "# TimeDistributed\n",
        "modelTimeDistributed = Sequential()\n",
        "modelTimeDistributed.add(TimeDistributed(Dense(4), input_shape=(data.shape[1], data.shape[2])))\n",
        "modelTimeDistributed.compile()\n",
        "\n",
        "print(\" modelTimeDistributed \" + \" IN : \" + str(modelTimeDistributed.layers[0].input_shape) + \" OUT : \" +  str(modelTimeDistributed.layers[0].output_shape))\n",
        "# Bidirectional\n",
        "modelBidirectional = Sequential()\n",
        "modelBidirectional.add(Bidirectional(LSTM(4), input_shape=(data.shape[1], data.shape[2])))\n",
        "modelBidirectional.compile()\n",
        "print(\" modelBidirectional \" + \" IN : \" + str(modelBidirectional.layers[0].input_shape) + \" OUT : \" +  str(modelBidirectional.layers[0].output_shape))\n",
        "# SeparableConv1D\n",
        "modelSeparableConv1D = Sequential()\n",
        "modelSeparableConv1D.add(SeparableConv1D(4, 3, input_shape=(data.shape[1], data.shape[2])))\n",
        "modelSeparableConv1D.compile()\n",
        "\n",
        "print(\" modelSeparableConv1D \" + \" IN : \" + str(modelSeparableConv1D.layers[0].input_shape) + \" OUT : \" +  str(modelSeparableConv1D.layers[0].output_shape))\n",
        "# MaxPooling1D\n",
        "modelMaxPooling1D = Sequential()\n",
        "modelMaxPooling1D.add(MaxPooling1D(pool_size=2, input_shape=(data.shape[1], data.shape[2])))\n",
        "modelMaxPooling1D.compile()\n",
        "\n",
        "print(\" modelMaxPooling1D \" + \" IN : \" + str(modelMaxPooling1D.layers[0].input_shape) + \" OUT : \" +  str(modelMaxPooling1D.layers[0].output_shape))\n",
        "# AveragePooling1D\n",
        "modelAveragePooling1D = Sequential()\n",
        "modelAveragePooling1D.add(AveragePooling1D(pool_size=2, input_shape=(data.shape[1], data.shape[2])))\n",
        "modelAveragePooling1D.compile()\n",
        "modelLSTM.compile()\n",
        "print(\" modelAveragePooling1D \" + \" IN : \" + str(modelAveragePooling1D.layers[0].input_shape) + \" OUT : \" +  str(modelAveragePooling1D.layers[0].output_shape))"
      ],
      "metadata": {
        "colab": {
          "base_uri": "https://localhost:8080/"
        },
        "id": "jDVi7J7jfC9k",
        "outputId": "1fa95cdf-7b86-455d-f024-23de9abd1b67"
      },
      "execution_count": null,
      "outputs": [
        {
          "output_type": "stream",
          "name": "stdout",
          "text": [
            " modelDense  IN : (None, 60, 35) OUT : (None, 60, 4)\n",
            " modelLSTM  IN : (None, 60, 35) OUT : (None, 4)\n",
            " modelGRU  IN : (None, 60, 35) OUT : (None, 4)\n",
            " modelSimpleRNN  IN : (None, 60, 35) OUT : (None, 4)\n",
            " modelTimeDistributed  IN : (None, 60, 35) OUT : (None, 60, 4)\n",
            " modelBidirectional  IN : (None, 60, 35) OUT : (None, 8)\n",
            " modelSeparableConv1D  IN : (None, 60, 35) OUT : (None, 58, 4)\n",
            " modelMaxPooling1D  IN : (None, 60, 35) OUT : (None, 30, 35)\n",
            " modelAveragePooling1D  IN : (None, 60, 35) OUT : (None, 30, 35)\n"
          ]
        }
      ]
    },
    {
      "cell_type": "markdown",
      "source": [
        "# ( BATCH, A, B, C)"
      ],
      "metadata": {
        "id": "QvUiSEtcghcM"
      }
    },
    {
      "cell_type": "code",
      "source": [
        "from tensorflow.keras.layers import Conv2D, SeparableConv2D"
      ],
      "metadata": {
        "id": "0hq4_0HMkYMh"
      },
      "execution_count": null,
      "outputs": []
    },
    {
      "cell_type": "code",
      "source": [
        "# Define los datos de entrada\n",
        "data = np.random.rand(100, 60, 35, 3)\n",
        "data.shape"
      ],
      "metadata": {
        "colab": {
          "base_uri": "https://localhost:8080/"
        },
        "id": "wfLLlE3ZgoAZ",
        "outputId": "bab4d4cb-724e-4275-92e1-b6964732488f"
      },
      "execution_count": null,
      "outputs": [
        {
          "output_type": "execute_result",
          "data": {
            "text/plain": [
              "(100, 60, 35, 3)"
            ]
          },
          "metadata": {},
          "execution_count": 52
        }
      ]
    },
    {
      "cell_type": "code",
      "source": [
        "modelConv2D = Sequential()\n",
        "modelConv2D.add(Conv2D(filters = 4, kernel_size = (2, 2), input_shape=(60, 35, 3)))\n",
        "modelConv2D.compile()\n",
        "print(\" modelConv2D \" + \" IN : \" + str(modelConv2D.layers[0].input_shape) + \" OUT : \" +  str(modelConv2D.layers[0].output_shape))\n",
        "\n",
        "\n",
        "modelSeparableConv2D = Sequential()\n",
        "modelSeparableConv2D.add(SeparableConv2D(4, (3, 3), input_shape=(60, 35, 3)))\n",
        "modelSeparableConv2D.compile()\n",
        "print(\" modelSeparableConv2D \" + \" IN : \" + str(modelSeparableConv2D.layers[0].input_shape) + \" OUT : \" +  str(modelSeparableConv2D.layers[0].output_shape))\n",
        "\n",
        "from tensorflow.keras.layers import DepthwiseConv2D\n",
        "\n",
        "modelDepthwiseConv2D = Sequential()\n",
        "modelDepthwiseConv2D.add(DepthwiseConv2D((3, 3), input_shape=(60, 35, 3)))\n",
        "modelDepthwiseConv2D.compile()\n",
        "print(\" modelDepthwiseConv2D \" + \" IN : \" + str(modelDepthwiseConv2D.layers[0].input_shape) + \" OUT : \" +  str(modelDepthwiseConv2D.layers[0].output_shape))\n",
        "\n",
        "from tensorflow.keras.layers import MaxPooling2D, AveragePooling2D\n",
        "\n",
        "modelMaxPooling2D = Sequential()\n",
        "modelMaxPooling2D.add(MaxPooling2D(pool_size=(2, 2), input_shape=(60, 35, 3)))\n",
        "modelMaxPooling2D.compile()\n",
        "print(\" modelMaxPooling2D \" + \" IN : \" + str(modelMaxPooling2D.layers[0].input_shape) + \" OUT : \" +  str(modelMaxPooling2D.layers[0].output_shape))\n",
        "\n",
        "modelAveragePooling2D = Sequential()\n",
        "modelAveragePooling2D.add(AveragePooling2D(pool_size=(2, 2), input_shape=(data.shape[1], data.shape[2], data.shape[3])))\n",
        "modelAveragePooling2D.compile()\n",
        "print(\" modelAveragePooling2D \" + \" IN : \" + str(modelAveragePooling2D.layers[0].input_shape) + \" OUT : \" +  str(modelAveragePooling2D.layers[0].output_shape))\n",
        "\n",
        "\n",
        "from tensorflow.keras.layers import Conv2DTranspose\n",
        "\n",
        "modelConv2DTranspose = Sequential()\n",
        "modelConv2DTranspose.add(Conv2DTranspose(4, (3, 3), input_shape=(60, 35, 3)))\n",
        "modelConv2DTranspose.compile()\n",
        "print(\" modelConv2DTranspose \" + \" IN : \" + str(modelConv2DTranspose.layers[0].input_shape) + \" OUT : \" +  str(modelConv2DTranspose.layers[0].output_shape))\n",
        "\n",
        "from tensorflow.keras.layers import UpSampling2D\n",
        "\n",
        "modelUpSampling2D = Sequential()\n",
        "modelUpSampling2D.add(UpSampling2D(size=(2, 2), input_shape=(60, 35, 3)))\n",
        "modelUpSampling2D.compile()\n",
        "print(\" modelUpSampling2D \" + \" IN : \" + str(modelUpSampling2D.layers[0].input_shape) + \" OUT : \" +  str(modelUpSampling2D.layers[0].output_shape))\n",
        "\n",
        "from tensorflow.keras.layers import ZeroPadding2D\n",
        "\n",
        "modelZeroPadding2D = Sequential()\n",
        "modelZeroPadding2D.add(ZeroPadding2D(padding=(1, 1), input_shape=(60, 35, 3)))\n",
        "modelZeroPadding2D.compile()\n",
        "print(\" modelZeroPadding2D \" + \" IN : \" + str(modelZeroPadding2D.layers[0].input_shape) + \" OUT : \" +  str(modelZeroPadding2D.layers[0].output_shape))\n",
        "\n",
        "# Dense\n",
        "modelDense = Sequential()\n",
        "modelDense.add(Dense(4, input_shape=(60, 35, 3)))\n",
        "modelDense.compile()\n",
        "print(\" modelDense \" + \" IN : \" + str(modelDense.layers[0].input_shape) + \" OUT : \" +  str(modelDense.layers[0].output_shape))"
      ],
      "metadata": {
        "colab": {
          "base_uri": "https://localhost:8080/"
        },
        "id": "zNsWEONoguUF",
        "outputId": "9f59a687-54e2-47d2-a10e-ee0f4960f310"
      },
      "execution_count": null,
      "outputs": [
        {
          "output_type": "stream",
          "name": "stdout",
          "text": [
            " modelConv2D  IN : (None, 60, 35, 3) OUT : (None, 59, 34, 4)\n",
            " modelSeparableConv2D  IN : (None, 60, 35, 3) OUT : (None, 58, 33, 4)\n",
            " modelDepthwiseConv2D  IN : (None, 60, 35, 3) OUT : (None, 58, 33, 3)\n",
            " modelMaxPooling2D  IN : (None, 60, 35, 3) OUT : (None, 30, 17, 3)\n",
            " modelAveragePooling2D  IN : (None, 60, 35, 3) OUT : (None, 30, 17, 3)\n",
            " modelConv2DTranspose  IN : (None, 60, 35, 3) OUT : (None, 62, 37, 4)\n",
            " modelUpSampling2D  IN : (None, 60, 35, 3) OUT : (None, 120, 70, 3)\n",
            " modelZeroPadding2D  IN : (None, 60, 35, 3) OUT : (None, 62, 37, 3)\n",
            " modelDense  IN : (None, 60, 35, 3) OUT : (None, 60, 35, 4)\n"
          ]
        }
      ]
    },
    {
      "cell_type": "code",
      "source": [
        "from tensorflow.keras.layers import ConvLSTM2D\n",
        "\n",
        "# Supongamos que tenemos datos con forma (100, 60, 35, 3, 1), donde:\n",
        "# - 100 es el número de muestras\n",
        "# - 60 es el número de pasos de tiempo\n",
        "# - 35 y 3 son las dimensiones espaciales\n",
        "# - 1 es el número de canales\n",
        "data = np.random.rand(100, 60, 35, 3, 1)\n",
        "\n",
        "model = Sequential()\n",
        "model.add(ConvLSTM2D(filters=10, kernel_size=(3, 3), input_shape=(60, 35, 3, 1)))\n",
        "model.compile()\n",
        "print(\" ConvLSTM2D \" + \" IN : \" + str(model.layers[0].input_shape) + \" OUT : \" +  str(model.layers[0].output_shape))"
      ],
      "metadata": {
        "colab": {
          "base_uri": "https://localhost:8080/"
        },
        "id": "npz0rSvurqIJ",
        "outputId": "1fbc0265-3b5e-4165-bae0-3b62f2027888"
      },
      "execution_count": null,
      "outputs": [
        {
          "output_type": "stream",
          "name": "stdout",
          "text": [
            " ConvLSTM2D  IN : (None, 60, 35, 3, 1) OUT : (None, 33, 1, 10)\n"
          ]
        }
      ]
    },
    {
      "cell_type": "code",
      "source": [
        "from tensorflow.keras.layers import ConvLSTM1D\n",
        "\n",
        "data = np.random.rand(100, 60, 35, 3)\n",
        "\n",
        "model = Sequential()\n",
        "model.add(ConvLSTM1D(filters=10,kernel_size = 2, input_shape=(60, 35, 3)))\n",
        "model.compile()\n",
        "print(\" ConvLSTM1D \" + \" IN : \" + str(model.layers[0].input_shape) + \" OUT : \" +  str(model.layers[0].output_shape))"
      ],
      "metadata": {
        "colab": {
          "base_uri": "https://localhost:8080/"
        },
        "id": "hoEZklxIsO9a",
        "outputId": "1ae3117b-be8f-4a4d-88e7-ea13075dd925"
      },
      "execution_count": null,
      "outputs": [
        {
          "output_type": "stream",
          "name": "stdout",
          "text": [
            " ConvLSTM1D  IN : (None, 60, 35, 3) OUT : (None, 34, 10)\n"
          ]
        }
      ]
    },
    {
      "cell_type": "code",
      "source": [
        "from tensorflow.keras.layers import ConvLSTM3D\n",
        "\n",
        "data = np.random.rand(100, 60, 35, 3,1,1)\n",
        "\n",
        "model = Sequential()\n",
        "model.add(ConvLSTM3D(filters=10,kernel_size = (1, 1, 1), input_shape=(60, 35, 3,1,1)))\n",
        "model.compile()\n",
        "print(\" ConvLSTM1D \" + \" IN : \" + str(model.layers[0].input_shape) + \" OUT : \" +  str(model.layers[0].output_shape))"
      ],
      "metadata": {
        "colab": {
          "base_uri": "https://localhost:8080/"
        },
        "id": "5PYejy8Qsut7",
        "outputId": "dc714390-c8d6-49cd-abb1-8ff9e3c249c0"
      },
      "execution_count": null,
      "outputs": [
        {
          "output_type": "stream",
          "name": "stdout",
          "text": [
            " ConvLSTM1D  IN : (None, 60, 35, 3, 1, 1) OUT : (None, 35, 3, 1, 10)\n"
          ]
        }
      ]
    },
    {
      "cell_type": "code",
      "source": [],
      "metadata": {
        "id": "kQHNXsIJspuQ"
      },
      "execution_count": null,
      "outputs": []
    },
    {
      "cell_type": "markdown",
      "source": [
        "# esquema evolutivo"
      ],
      "metadata": {
        "id": "NOAzajrRIMwq"
      }
    },
    {
      "cell_type": "code",
      "source": [
        "\"\"\"\n",
        "\n",
        "individuos = creacion_individuos()\n",
        "\n",
        "entrenameniento_individuos()\n",
        "\n",
        "fitness_individuos()\n",
        "\n",
        "reproduccion()\n",
        "\n",
        "\n",
        "\"\"\""
      ],
      "metadata": {
        "id": "YVuWODrCk3eV"
      },
      "execution_count": null,
      "outputs": []
    },
    {
      "cell_type": "markdown",
      "source": [
        "# class Creacion_inidividuos():"
      ],
      "metadata": {
        "id": "MKTtYiMEmSAN"
      }
    },
    {
      "cell_type": "code",
      "source": [
        "from tensorflow.keras.layers import ConvLSTM1D, Dense, Conv2D, LSTM, GRU, Reshape\n",
        "\n",
        "class Creacion_inidividuos():\n",
        "\n",
        "  def __init__(self):\n",
        "    self.a = 0\n",
        "\n",
        "  def get_activation_string(self,type_activation):\n",
        "    if type_activation == 0:\n",
        "      return 'tanh'\n",
        "    else:\n",
        "      return 'relu'\n",
        "\n",
        "  # # # LAYERS # # #\n",
        "\n",
        "  \n",
        "  def new_dense_layer(self, info):\n",
        "      return Dense(activation=self.get_activation_string(info[0]), units = info[1] )\n",
        "\n",
        "  # layers 3 - 3\n",
        "\n",
        "  def new_lstm1d_layer(self, info):\n",
        "    return ConvLSTM1D(activation = self.get_activation_string(info[0]),filters=info[1],kernel_size = info[2])\n",
        "\n",
        "  def new_conv2d_layer(self, info):\n",
        "    return Conv2D(activation = self.get_activation_string(info[0]), filters = info[1], kernel_size = info[2])\n",
        "\n",
        "  #layers 3 - 2\n",
        "  def new_reshape_layer(self, shape):\n",
        "    return Reshape((shape[0],shape[1]*shape[2]))\n",
        "\n",
        "  # layers 2 - 1\n",
        "\n",
        "  def new_lstm_layer(self, info):\n",
        "    return LSTM( units =  info[1])\n",
        "\n",
        "  def new_gru_layer(self, info):\n",
        "    return GRU(units = info[1])\n",
        "\n",
        "  # # # END LAYERS # # #\n",
        "\n",
        "  def get_layer_3(self, layer_type= 0, info = [\"tanh\",0,0], shape = (1,1,1)):\n",
        "\n",
        "    if layer_type == 0:\n",
        "      return self.new_dense_layer(info)\n",
        "    elif layer_type == 1 :\n",
        "      return self.new_conv2d_layer(info)\n",
        "    elif layer_type == 2 :\n",
        "      return self.new_reshape_layer(shape)\n",
        "\n",
        "    return print(\"fail get_layer_3\")\n",
        "\n",
        "\n",
        "  def get_layer_2(self, layer_type= 0, info = [\"tanh\",0,0] , shape = (1,1,1)):\n",
        "    \n",
        "    if layer_type == 0:\n",
        "      return self.new_dense_layer(info)\n",
        "    elif layer_type == 1:\n",
        "      return self.new_lstm_layer(info)\n",
        "    elif layer_type == 2 :\n",
        "      return self.new_gru_layer(info)\n",
        "\n",
        "crear = Creacion_inidividuos()"
      ],
      "metadata": {
        "id": "iQzFSzOmJepW"
      },
      "execution_count": 261,
      "outputs": []
    },
    {
      "cell_type": "code",
      "source": [],
      "metadata": {
        "id": "S79mU_S1OjyS"
      },
      "execution_count": 246,
      "outputs": []
    },
    {
      "cell_type": "markdown",
      "source": [
        "#test creacion individuos"
      ],
      "metadata": {
        "id": "w_GTEqrTmVyP"
      }
    },
    {
      "cell_type": "code",
      "source": [
        "# numero de posiciones en el array que corresponden a cada layer\n",
        "#num_gen_por_layer = 3\n",
        "# numero de layers que tendra el modelo\n",
        "num_layer = 15\n",
        "# numero de individuos a crear\n",
        "num_individuos = 2\n",
        "# longitud total del genoma\n",
        "#len_cadena = num_gen_por_layer * num_layer\n",
        "# individuos aleatorios\n",
        "#individuos = np.random.randint(0, 3, (num_individuos, len_cadena))\n",
        "individuos = np.random.randint(0, 3, (num_individuos, num_layer))"
      ],
      "metadata": {
        "id": "ZGHKUYwaOpEm"
      },
      "execution_count": 270,
      "outputs": []
    },
    {
      "cell_type": "code",
      "source": [
        "individuos.shape, individuos.max(), individuos.min()"
      ],
      "metadata": {
        "colab": {
          "base_uri": "https://localhost:8080/"
        },
        "id": "F5aRLedUU_ik",
        "outputId": "d4457892-0abc-4ea1-fdad-615582fc8ff4"
      },
      "execution_count": 271,
      "outputs": [
        {
          "output_type": "execute_result",
          "data": {
            "text/plain": [
              "((2, 15), 2, 0)"
            ]
          },
          "metadata": {},
          "execution_count": 271
        }
      ]
    },
    {
      "cell_type": "code",
      "source": [
        "x = np.random.rand(100, 60, 35, 3)\n",
        "y = np.random.rand(100, 35)"
      ],
      "metadata": {
        "id": "hITtj9y1YfHu"
      },
      "execution_count": 272,
      "outputs": []
    },
    {
      "cell_type": "code",
      "source": [
        "individuos"
      ],
      "metadata": {
        "colab": {
          "base_uri": "https://localhost:8080/"
        },
        "id": "eKNxqoz12A3N",
        "outputId": "7059d375-a22e-4376-c51c-fc3e2a26c52a"
      },
      "execution_count": 275,
      "outputs": [
        {
          "output_type": "execute_result",
          "data": {
            "text/plain": [
              "array([[1, 2, 0, 2, 1, 1, 2, 1, 2, 2, 1, 0, 0, 2, 1],\n",
              "       [2, 2, 1, 0, 1, 0, 1, 2, 0, 0, 1, 0, 0, 0, 1]])"
            ]
          },
          "metadata": {},
          "execution_count": 275
        }
      ]
    },
    {
      "cell_type": "code",
      "source": [
        "from tensorflow import keras\n",
        "import random"
      ],
      "metadata": {
        "id": "WZxZ-uHKYUBo"
      },
      "execution_count": 231,
      "outputs": []
    },
    {
      "cell_type": "code",
      "source": [
        "\n",
        "info =  [\"tanh\",3,2]\n",
        "\n",
        "for i in range(individuos.shape[0]):\n",
        "  ind = individuos[i]\n",
        "  #print(ind)\n",
        "  inputs = keras.Input(shape=(data.shape[1:]))\n",
        "  m = inputs\n",
        "  for gen in ind:\n",
        "      #print(ind[i:i+num_gen_por_layer])\n",
        "      #print(gen)\n",
        "      current_len_shape = len(m.shape)-1 \n",
        "      #print(current_len_shape)\n",
        "      random_integer = gen\n",
        "      if( current_len_shape == 3):\n",
        "        #random_integer = random.randint(0, 2)\n",
        "        m  = crear.get_layer_3(layer_type=random_integer, info = info, shape = m.shape[1:])(m)\n",
        "      elif( current_len_shape == 2):\n",
        "        #random_integer = random.randint(0, 2)\n",
        "        m = crear.get_layer_2(layer_type=random_integer, info = info, shape = m.shape[1:])(m)\n",
        "      else:\n",
        "        m = crear.new_dense_layer(info = info)(m)\n",
        "         \n",
        "  m = Flatten()(m)\n",
        "  outputs = Dense(x.shape[2])(m)\n",
        "  model = keras.Model(inputs=inputs, outputs=outputs)\n",
        "  model.compile(\n",
        "    loss='mse',\n",
        "    optimizer=keras.optimizers.Adam(),\n",
        "    metrics=[\"accuracy\"],\n",
        "  )\n",
        "  model.summary()\n",
        "\n"
      ],
      "metadata": {
        "colab": {
          "base_uri": "https://localhost:8080/"
        },
        "id": "wGz7uQQWSoS7",
        "outputId": "15004230-01d7-4d43-f25f-80b3a8a330fc"
      },
      "execution_count": 282,
      "outputs": [
        {
          "output_type": "stream",
          "name": "stdout",
          "text": [
            "Model: \"model_78\"\n",
            "_________________________________________________________________\n",
            " Layer (type)                Output Shape              Param #   \n",
            "=================================================================\n",
            " input_115 (InputLayer)      [(None, 60, 35, 3)]       0         \n",
            "                                                                 \n",
            " conv2d_45 (Conv2D)          (None, 59, 34, 3)         39        \n",
            "                                                                 \n",
            " reshape_63 (Reshape)        (None, 59, 102)           0         \n",
            "                                                                 \n",
            " dense_667 (Dense)           (None, 59, 3)             309       \n",
            "                                                                 \n",
            " gru_20 (GRU)                (None, 3)                 72        \n",
            "                                                                 \n",
            " dense_668 (Dense)           (None, 3)                 12        \n",
            "                                                                 \n",
            " dense_669 (Dense)           (None, 3)                 12        \n",
            "                                                                 \n",
            " dense_670 (Dense)           (None, 3)                 12        \n",
            "                                                                 \n",
            " dense_671 (Dense)           (None, 3)                 12        \n",
            "                                                                 \n",
            " dense_672 (Dense)           (None, 3)                 12        \n",
            "                                                                 \n",
            " dense_673 (Dense)           (None, 3)                 12        \n",
            "                                                                 \n",
            " dense_674 (Dense)           (None, 3)                 12        \n",
            "                                                                 \n",
            " dense_675 (Dense)           (None, 3)                 12        \n",
            "                                                                 \n",
            " dense_676 (Dense)           (None, 3)                 12        \n",
            "                                                                 \n",
            " dense_677 (Dense)           (None, 3)                 12        \n",
            "                                                                 \n",
            " dense_678 (Dense)           (None, 3)                 12        \n",
            "                                                                 \n",
            " flatten_73 (Flatten)        (None, 3)                 0         \n",
            "                                                                 \n",
            " dense_679 (Dense)           (None, 35)                140       \n",
            "                                                                 \n",
            "=================================================================\n",
            "Total params: 692\n",
            "Trainable params: 692\n",
            "Non-trainable params: 0\n",
            "_________________________________________________________________\n",
            "Model: \"model_79\"\n",
            "_________________________________________________________________\n",
            " Layer (type)                Output Shape              Param #   \n",
            "=================================================================\n",
            " input_116 (InputLayer)      [(None, 60, 35, 3)]       0         \n",
            "                                                                 \n",
            " reshape_64 (Reshape)        (None, 60, 105)           0         \n",
            "                                                                 \n",
            " gru_21 (GRU)                (None, 3)                 990       \n",
            "                                                                 \n",
            " dense_680 (Dense)           (None, 3)                 12        \n",
            "                                                                 \n",
            " dense_681 (Dense)           (None, 3)                 12        \n",
            "                                                                 \n",
            " dense_682 (Dense)           (None, 3)                 12        \n",
            "                                                                 \n",
            " dense_683 (Dense)           (None, 3)                 12        \n",
            "                                                                 \n",
            " dense_684 (Dense)           (None, 3)                 12        \n",
            "                                                                 \n",
            " dense_685 (Dense)           (None, 3)                 12        \n",
            "                                                                 \n",
            " dense_686 (Dense)           (None, 3)                 12        \n",
            "                                                                 \n",
            " dense_687 (Dense)           (None, 3)                 12        \n",
            "                                                                 \n",
            " dense_688 (Dense)           (None, 3)                 12        \n",
            "                                                                 \n",
            " dense_689 (Dense)           (None, 3)                 12        \n",
            "                                                                 \n",
            " dense_690 (Dense)           (None, 3)                 12        \n",
            "                                                                 \n",
            " dense_691 (Dense)           (None, 3)                 12        \n",
            "                                                                 \n",
            " dense_692 (Dense)           (None, 3)                 12        \n",
            "                                                                 \n",
            " flatten_74 (Flatten)        (None, 3)                 0         \n",
            "                                                                 \n",
            " dense_693 (Dense)           (None, 35)                140       \n",
            "                                                                 \n",
            "=================================================================\n",
            "Total params: 1,286\n",
            "Trainable params: 1,286\n",
            "Non-trainable params: 0\n",
            "_________________________________________________________________\n"
          ]
        }
      ]
    },
    {
      "cell_type": "markdown",
      "source": [
        "# ANALISS TEST CREACION"
      ],
      "metadata": {
        "id": "aJ5QBVi88CtY"
      }
    },
    {
      "cell_type": "code",
      "source": [
        "\"\"\"\n",
        "MODEL 1\n",
        " Layer (type)                Output Shape              Param #   \n",
        "=================================================================\n",
        " input_115 (InputLayer)      [(None, 60, 35, 3)]       0         \n",
        "                                                                 \n",
        " conv2d_45 (Conv2D)          (None, 59, 34, 3)         39        \n",
        "                                                                 \n",
        " reshape_63 (Reshape)        (None, 59, 102)           0 \n",
        "\n",
        " MODEL 2\n",
        "\n",
        "  Layer (type)                Output Shape              Param #   \n",
        "=================================================================\n",
        " input_116 (InputLayer)      [(None, 60, 35, 3)]       0         \n",
        "                                                                 \n",
        " reshape_64 (Reshape)        (None, 60, 105)           0         \n",
        "                                                                 \n",
        " gru_21 (GRU)                (None, 3)                 990  \n",
        "\n",
        "\n",
        " Estos dos modelos creados aleatoriamente, ya plantean un problema:\n",
        "\n",
        " en la segunda y tercera capa no coincidira (imaginemos que no es un reshape) el shape y sera imposible usar el mismo layer.\n",
        "\n",
        "\"\"\""
      ],
      "metadata": {
        "id": "ydxsHW9N7nYF"
      },
      "execution_count": null,
      "outputs": []
    },
    {
      "cell_type": "markdown",
      "source": [
        "# redimension de datos"
      ],
      "metadata": {
        "id": "ZZ6sfMvO-qmM"
      }
    },
    {
      "cell_type": "markdown",
      "source": [
        "### aumentar dimensiones"
      ],
      "metadata": {
        "id": "wrLrrdbjAfdD"
      }
    },
    {
      "cell_type": "code",
      "source": [
        "from tensorflow.keras.layers import Input, RepeatVector\n",
        "d = np.random.rand(100, 60 ) # NO FUNCIONA CON MAS DIMENSIONES\n",
        "RepeatVector(1)(d).shape"
      ],
      "metadata": {
        "colab": {
          "base_uri": "https://localhost:8080/"
        },
        "id": "vejzevS6Aeut",
        "outputId": "42441cec-cd5f-42c5-a964-10179b52c522"
      },
      "execution_count": 360,
      "outputs": [
        {
          "output_type": "execute_result",
          "data": {
            "text/plain": [
              "TensorShape([100, 1, 60])"
            ]
          },
          "metadata": {},
          "execution_count": 360
        }
      ]
    },
    {
      "cell_type": "code",
      "source": [
        "from tensorflow.keras.layers import Reshape\n",
        "d = np.random.rand(100, 60, 35, 3)\n",
        "Reshape(( 60, 35, 3, 1 , ))(d).shape"
      ],
      "metadata": {
        "colab": {
          "base_uri": "https://localhost:8080/"
        },
        "id": "KybZx3Fz0scj",
        "outputId": "f21de395-cb77-4cb5-8e5f-1368c5573fe2"
      },
      "execution_count": 315,
      "outputs": [
        {
          "output_type": "execute_result",
          "data": {
            "text/plain": [
              "TensorShape([100, 60, 35, 3, 1])"
            ]
          },
          "metadata": {},
          "execution_count": 315
        }
      ]
    },
    {
      "cell_type": "markdown",
      "source": [
        "### reducir dimensiones"
      ],
      "metadata": {
        "id": "jU0TyIYdAioS"
      }
    },
    {
      "cell_type": "code",
      "source": [
        "from tensorflow.keras.layers import Flatten\n",
        "d = np.random.rand(100, 60, 35, 3)\n",
        "Flatten()(d).shape"
      ],
      "metadata": {
        "colab": {
          "base_uri": "https://localhost:8080/"
        },
        "id": "Xc3lyCEVFOhD",
        "outputId": "988c32fd-cfd5-401b-c67c-78b1f5c4002f"
      },
      "execution_count": 352,
      "outputs": [
        {
          "output_type": "execute_result",
          "data": {
            "text/plain": [
              "TensorShape([100, 6300])"
            ]
          },
          "metadata": {},
          "execution_count": 352
        }
      ]
    },
    {
      "cell_type": "code",
      "source": [
        "from tensorflow.keras.layers import Flatten\n",
        "d = np.random.rand(100, 60, 35)\n",
        "Flatten()(d).shape"
      ],
      "metadata": {
        "colab": {
          "base_uri": "https://localhost:8080/"
        },
        "id": "G9TEERq5FUOx",
        "outputId": "7d780710-67d9-4464-a0d1-8402da298f3a"
      },
      "execution_count": 353,
      "outputs": [
        {
          "output_type": "execute_result",
          "data": {
            "text/plain": [
              "TensorShape([100, 2100])"
            ]
          },
          "metadata": {},
          "execution_count": 353
        }
      ]
    },
    {
      "cell_type": "code",
      "source": [
        "d = np.random.rand(100, 60, 35, 3)\n",
        "Reshape(( 60, 35* 3, ))(d).shape"
      ],
      "metadata": {
        "colab": {
          "base_uri": "https://localhost:8080/"
        },
        "id": "pmurr4gv9qRu",
        "outputId": "e7ab7d4e-972a-453d-aaef-fab61b5d9c67"
      },
      "execution_count": 316,
      "outputs": [
        {
          "output_type": "execute_result",
          "data": {
            "text/plain": [
              "TensorShape([100, 60, 105])"
            ]
          },
          "metadata": {},
          "execution_count": 316
        }
      ]
    },
    {
      "cell_type": "code",
      "source": [
        "d = np.random.rand(100, 60, 35, 3)\n",
        "Reshape(( 60 * 3 , 35 , ))(d).shape"
      ],
      "metadata": {
        "colab": {
          "base_uri": "https://localhost:8080/"
        },
        "id": "p3XRUjrq-UkV",
        "outputId": "e8a678f2-5c0e-4763-ea5c-0e6ef75eecb9"
      },
      "execution_count": 299,
      "outputs": [
        {
          "output_type": "execute_result",
          "data": {
            "text/plain": [
              "TensorShape([100, 180, 35])"
            ]
          },
          "metadata": {},
          "execution_count": 299
        }
      ]
    },
    {
      "cell_type": "code",
      "source": [
        "d = np.random.rand(100, 60, 35, 3)\n",
        "Reshape(( 60 * 35 , 3 , ))(d).shape"
      ],
      "metadata": {
        "colab": {
          "base_uri": "https://localhost:8080/"
        },
        "id": "tVk5M0e3-Y_x",
        "outputId": "e12ccc65-fb36-4d84-c6e4-c894a10be8f5"
      },
      "execution_count": 300,
      "outputs": [
        {
          "output_type": "execute_result",
          "data": {
            "text/plain": [
              "TensorShape([100, 2100, 3])"
            ]
          },
          "metadata": {},
          "execution_count": 300
        }
      ]
    },
    {
      "cell_type": "code",
      "source": [
        "d = np.random.rand(100, 60, 35, 3)\n",
        "Reshape((60*35*3,))(d).shape"
      ],
      "metadata": {
        "colab": {
          "base_uri": "https://localhost:8080/"
        },
        "id": "jaRPnkNi86do",
        "outputId": "581dbbd6-d08b-4663-a4fd-e1661c346229"
      },
      "execution_count": 289,
      "outputs": [
        {
          "output_type": "execute_result",
          "data": {
            "text/plain": [
              "TensorShape([100, 6300])"
            ]
          },
          "metadata": {},
          "execution_count": 289
        }
      ]
    },
    {
      "cell_type": "code",
      "source": [
        "from tensorflow.keras.layers import Reshape\n",
        "d = np.random.rand(100, 60, 35, 3)\n",
        "x = Reshape(( 60, 35, 3, 1 , ))(d)"
      ],
      "metadata": {
        "id": "Yq0UH9Z3FmWz"
      },
      "execution_count": 354,
      "outputs": []
    },
    {
      "cell_type": "code",
      "source": [
        "x.shape"
      ],
      "metadata": {
        "colab": {
          "base_uri": "https://localhost:8080/"
        },
        "id": "hw0midGvFnh-",
        "outputId": "37e8f768-2423-4c66-8972-22d88b61b61c"
      },
      "execution_count": 355,
      "outputs": [
        {
          "output_type": "execute_result",
          "data": {
            "text/plain": [
              "TensorShape([100, 60, 35, 3, 1])"
            ]
          },
          "metadata": {},
          "execution_count": 355
        }
      ]
    },
    {
      "cell_type": "code",
      "source": [
        "x = Dense(4)(x)"
      ],
      "metadata": {
        "id": "hDvkPFS0Frmw"
      },
      "execution_count": 356,
      "outputs": []
    },
    {
      "cell_type": "code",
      "source": [
        "x.shape"
      ],
      "metadata": {
        "colab": {
          "base_uri": "https://localhost:8080/"
        },
        "id": "guNy65mTFyBZ",
        "outputId": "3cc60d11-50e3-48e5-f82c-fa5f9465a9ae"
      },
      "execution_count": 357,
      "outputs": [
        {
          "output_type": "execute_result",
          "data": {
            "text/plain": [
              "TensorShape([100, 60, 35, 3, 4])"
            ]
          },
          "metadata": {},
          "execution_count": 357
        }
      ]
    },
    {
      "cell_type": "markdown",
      "source": [
        "# NEXT REPRODUCCION"
      ],
      "metadata": {
        "id": "sD9fBWZVJmLw"
      }
    },
    {
      "cell_type": "code",
      "source": [
        "\"\"\"\n",
        "\n",
        "cruxar individuos son el comodin de redimension\n",
        "\n",
        "aumentar \n",
        "  reshape añadiendo (x,x,1)\n",
        "\n",
        "disminuir \n",
        "  Reshape(( 60, 35* 3, ))(d).shape\n",
        "  TensorShape([100, 60, 105])\n",
        "\n",
        "  Quedandome los timesteps ( de momento solo usare uno, y este es uno de los dos mas razonables)\n",
        "\n",
        "\n",
        "\"\"\""
      ],
      "metadata": {
        "id": "wspZtMCOJpx6"
      },
      "execution_count": null,
      "outputs": []
    }
  ]
}