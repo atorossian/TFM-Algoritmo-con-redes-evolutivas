{
  "nbformat": 4,
  "nbformat_minor": 0,
  "metadata": {
    "colab": {
      "provenance": [],
      "toc_visible": true,
      "authorship_tag": "ABX9TyPXahXrWR0EuXmJm1+1OMjJ",
      "include_colab_link": true
    },
    "kernelspec": {
      "name": "python3",
      "display_name": "Python 3"
    },
    "language_info": {
      "name": "python"
    }
  },
  "cells": [
    {
      "cell_type": "markdown",
      "metadata": {
        "id": "view-in-github",
        "colab_type": "text"
      },
      "source": [
        "<a href=\"https://colab.research.google.com/github/tintenderete/TFM-Algoritmo-con-redes-evolutivas/blob/main/test_evolutivo_1.ipynb\" target=\"_parent\"><img src=\"https://colab.research.google.com/assets/colab-badge.svg\" alt=\"Open In Colab\"/></a>"
      ]
    },
    {
      "cell_type": "markdown",
      "source": [
        "# PLANTEAMIENTO INICIAL"
      ],
      "metadata": {
        "id": "oA-u6PV3aO_X"
      }
    },
    {
      "cell_type": "markdown",
      "source": [
        "Planteamiento inicial, algunas cosas cambiaran durante el desarrollo.\n",
        "\n",
        "Esta es una primera iteracion de un modelo evolutivo, se intentara simplificar lo maximo posible para ganar velocidad."
      ],
      "metadata": {
        "id": "wC8pUgx8aSQh"
      }
    },
    {
      "cell_type": "markdown",
      "source": [
        "## PUNTO 1 : MODELOS"
      ],
      "metadata": {
        "id": "zfo8nUrWaVqp"
      }
    },
    {
      "cell_type": "markdown",
      "source": [
        "Los modelos invertiran durante 1 año, cada 30 timesteps.\n",
        "\n",
        "EL modelo evolutivo se comparara con un modelo no evolutivo.  El no evolutivo , en este test, no es realmente un modelo pero lo ignoraremos.\n",
        "\n",
        "El modelo no evolutivo sera una frontera de marko que invertira en los X activos con mejor ratio de sharpe. \n",
        "\n",
        "El modelo evolutivo hara lo similar con la excepcion de que seleccionara los X mejores, en funcion de su output."
      ],
      "metadata": {
        "id": "WUsZ1q35aeU_"
      }
    },
    {
      "cell_type": "markdown",
      "source": [
        "## PUNTO 1 : DATOS "
      ],
      "metadata": {
        "id": "QJ6Eut6oakbR"
      }
    },
    {
      "cell_type": "markdown",
      "source": [
        "Usaremos los precios de cierre diarios del IBEX 35 descargados con la api yahoo finance. \n",
        "\n",
        "Si algun activo da problemas sera eliminado, y los nans seran rellenas con fills. Se instentara usar un periodo historico que de pocos problemas.\n",
        "\n",
        "Usaremos 3 años para train y 1 año para test.\n",
        "Los datos se generaran en periodos pseudo-mensuales, es decir, empezando en el primer dia cada 30 dias.\n",
        "\n",
        "Cada ejemplo de entrenamiento constara de 60 periodos diarios  , tendra 3 canales (para cada activo) : \n",
        "            \n",
        "            - retornos logaritmicos diarios\n",
        "\n",
        "            - media movil (de retornos logaritmicos) de los ultimos 60 dias\n",
        "\n",
        "            - desviacion tipica movil (de retornos logaritmicos) de los ultimos 60 dias\n",
        "\n",
        "\n",
        "x.shape => (BATCH, 60, 35,  3)"
      ],
      "metadata": {
        "id": "Q3cOQrVuan2p"
      }
    },
    {
      "cell_type": "markdown",
      "source": [
        "## PUNTO 2 : FUNCION LISTAS"
      ],
      "metadata": {
        "id": "rjRVc6vRa4q1"
      }
    },
    {
      "cell_type": "markdown",
      "source": [
        "Para rankear los activos usaremos el ratio de sharpe.\n",
        "\n",
        "y.shape => (BATCH, 35, )"
      ],
      "metadata": {
        "id": "8OkkzMCXa6GO"
      }
    },
    {
      "cell_type": "markdown",
      "source": [
        "## PUNTO 3 : INICIALIZACION DE INDIVIDUOS"
      ],
      "metadata": {
        "id": "vH6JgFjOa8Xy"
      }
    },
    {
      "cell_type": "markdown",
      "source": [
        "Se utilizara el metodo desarrollado en el notebook A_individuos_3\n",
        "\n",
        "Se usaran pocos individuos, la intencion es utilizar alrededor de 100."
      ],
      "metadata": {
        "id": "p3gXA1sDa-K-"
      }
    },
    {
      "cell_type": "markdown",
      "source": [
        "##PUNTO 4 : EVALUACION / FITNESS"
      ],
      "metadata": {
        "id": "Dv1I38XvbDkE"
      }
    },
    {
      "cell_type": "code",
      "execution_count": null,
      "metadata": {
        "id": "_X9BFqSJUhlX"
      },
      "outputs": [],
      "source": [
        "\"\"\"\n",
        "\n",
        "Se entrenara en batches de 1 dato\n",
        "\n",
        "Se evaluara despues de entrenar con todos los datos.\n",
        "\n",
        "La funcion de coste utilizada sera : \n",
        "\n",
        "def perdida_listas(ranking_real, ranking_predicho):\n",
        "    diferencias = tf.abs(ranking_real - ranking_predicho)\n",
        "    diferencias_ponderadas = diferencias / (ranking_real + 1e-7)  \n",
        "    diferencias_ponderadas = diferencias / (ranking_predicho + 1e-7) \n",
        "    return perdida_total\n",
        "\n",
        "esta funcion castiga mas cuando los peores activos son clasificados como mejores.\n",
        "\n",
        "La razon inicial para empezar por esta funcion es que , dado que nuestro objetivo es calcular una frontera de marko en los X mejores, \n",
        "realmente no necesitamos que esten fielmente ordenados, lo que queremos es asegurarnos de que los activos interesantes sean clasificados entre los X mejores.\n",
        "     \n",
        "\n",
        "\"\"\""
      ]
    },
    {
      "cell_type": "markdown",
      "source": [
        "##PUNTO 5 : SELECCION "
      ],
      "metadata": {
        "id": "L4Uqo29pbYxr"
      }
    },
    {
      "cell_type": "code",
      "source": [
        "\"\"\"\n",
        "\n",
        "Seleccionaremos los X mejores en funcion de la funcion de coste.\n",
        "\n",
        "¿ Emparejamiento ? \n",
        "\n",
        "Teniendo un pull de X individuos, se elegiran al azar, sin reemplazo y de 2 en 2,  de dentro del pull, \n",
        "\n",
        "\"\"\""
      ],
      "metadata": {
        "id": "SmF659WibgJe"
      },
      "execution_count": null,
      "outputs": []
    },
    {
      "cell_type": "markdown",
      "source": [
        "## PUNTO 6 : CRUCE"
      ],
      "metadata": {
        "id": "yO9d8oJWb5Kj"
      }
    },
    {
      "cell_type": "code",
      "source": [
        "\"\"\"\n",
        "\n",
        "Utilizaremos un cruce uniforme para favorecer la biodiversidad. \n",
        "\n",
        "\"\"\""
      ],
      "metadata": {
        "id": "nxGGf_fyb8z-"
      },
      "execution_count": null,
      "outputs": []
    },
    {
      "cell_type": "markdown",
      "source": [
        "## PUNTO 7 : MUTACION"
      ],
      "metadata": {
        "id": "ttRTvuUrcx7q"
      }
    },
    {
      "cell_type": "code",
      "source": [
        "\"\"\"\n",
        "\n",
        "Por el momento no se introducira mutacion\n",
        "\n",
        "\"\"\""
      ],
      "metadata": {
        "id": "FJTMcHuic16V"
      },
      "execution_count": null,
      "outputs": []
    },
    {
      "cell_type": "markdown",
      "source": [
        "## PUNTO 8 : REEMPLAZO"
      ],
      "metadata": {
        "id": "CgTnJQIUdCFG"
      }
    },
    {
      "cell_type": "code",
      "source": [
        "\"\"\"\n",
        "\n",
        "Pasaran a la siguiente generacion:\n",
        "\n",
        "  Los X mejores .\n",
        "\n",
        "  Los hijos de los X mejores. ( 2 hijos por pareja)\n",
        "\n",
        "  X nuevos individuos random ( Inmigracion )\n",
        "\n",
        "\n",
        "\"\"\""
      ],
      "metadata": {
        "id": "fptdVwNUdEwK"
      },
      "execution_count": null,
      "outputs": []
    }
  ]
}